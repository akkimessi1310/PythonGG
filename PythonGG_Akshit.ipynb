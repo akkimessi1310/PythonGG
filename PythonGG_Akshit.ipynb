{
  "cells": [
    {
      "cell_type": "markdown",
      "metadata": {
        "id": "view-in-github",
        "colab_type": "text"
      },
      "source": [
        "<a href=\"https://colab.research.google.com/github/akkimessi1310/PythonGG/blob/main/PythonGG_Akshit.ipynb\" target=\"_parent\"><img src=\"https://colab.research.google.com/assets/colab-badge.svg\" alt=\"Open In Colab\"/></a>"
      ]
    },
    {
      "cell_type": "markdown",
      "metadata": {
        "id": "NrEnFVSl1gDB"
      },
      "source": [
        "# The Start of Python"
      ]
    },
    {
      "cell_type": "code",
      "execution_count": null,
      "metadata": {
        "colab": {
          "base_uri": "https://localhost:8080/"
        },
        "id": "9iHDRP_7UvnI",
        "outputId": "32e74b0f-b8ec-4e98-95b7-b4139ae0af3f"
      },
      "outputs": [
        {
          "name": "stdout",
          "output_type": "stream",
          "text": [
            "hello\n"
          ]
        }
      ],
      "source": [
        "print ('hello')"
      ]
    },
    {
      "cell_type": "code",
      "execution_count": null,
      "metadata": {
        "colab": {
          "base_uri": "https://localhost:8080/"
        },
        "id": "UNCRXr6qU235",
        "outputId": "da08ca11-687f-43a6-a4a0-8265c00a431e"
      },
      "outputs": [
        {
          "name": "stdout",
          "output_type": "stream",
          "text": [
            "hello world\n"
          ]
        }
      ],
      "source": [
        "print ('hello','world')"
      ]
    },
    {
      "cell_type": "code",
      "execution_count": null,
      "metadata": {
        "colab": {
          "base_uri": "https://localhost:8080/"
        },
        "id": "0sf-kI_sU8ZB",
        "outputId": "4484b556-e5b1-4d4c-8ae9-da7fc55d1ac9"
      },
      "outputs": [
        {
          "name": "stdout",
          "output_type": "stream",
          "text": [
            "hellohellohellohellohello\n"
          ]
        }
      ],
      "source": [
        "print ('hello'*5)"
      ]
    },
    {
      "cell_type": "code",
      "execution_count": null,
      "metadata": {
        "colab": {
          "base_uri": "https://localhost:8080/"
        },
        "id": "4qcuzcP0VC9L",
        "outputId": "4a3a79ee-49e8-4a27-e4c5-a4eb799b973e"
      },
      "outputs": [
        {
          "name": "stdout",
          "output_type": "stream",
          "text": [
            "13.0\n",
            "The answer is 13.0\n"
          ]
        }
      ],
      "source": [
        "a=4\n",
        "b=8\n",
        "c=13\n",
        "d=12 \n",
        "e=(a+b)/d*c\n",
        "print(e)\n",
        "print('The answer is',e)"
      ]
    },
    {
      "cell_type": "code",
      "execution_count": null,
      "metadata": {
        "colab": {
          "base_uri": "https://localhost:8080/"
        },
        "id": "frSdbzm4ZH0T",
        "outputId": "7cf8fc3b-f980-4f2d-e791-ca830b4bf15b"
      },
      "outputs": [
        {
          "name": "stdout",
          "output_type": "stream",
          "text": [
            "The area = 78.5\n"
          ]
        }
      ],
      "source": [
        "#Area of a Circle\n",
        "radius= 5\n",
        "pi= 3.14\n",
        "area= pi*radius*radius\n",
        "print('The area =',area)"
      ]
    },
    {
      "cell_type": "code",
      "execution_count": null,
      "metadata": {
        "colab": {
          "background_save": true,
          "base_uri": "https://localhost:8080/"
        },
        "id": "bg6qMMJvanvr",
        "outputId": "41d53505-1600-46ee-87b6-6263bdee7acf"
      },
      "outputs": [
        {
          "name": "stdout",
          "output_type": "stream",
          "text": [
            "The area = 120\n"
          ]
        }
      ],
      "source": [
        "# Area of a Square\n",
        "l= 10\n",
        "b= 12\n",
        "area= l*b\n",
        "print('The area =',area)"
      ]
    },
    {
      "cell_type": "code",
      "execution_count": null,
      "metadata": {
        "colab": {
          "base_uri": "https://localhost:8080/"
        },
        "id": "OxC45xAjbdnH",
        "outputId": "e52e1d84-ba63-4179-b155-2ffd18101a0b"
      },
      "outputs": [
        {
          "name": "stdout",
          "output_type": "stream",
          "text": [
            "The area = 923.1600000000001\n"
          ]
        }
      ],
      "source": [
        "# Area of a Cylinder\n",
        "radius= 7\n",
        "height= 14\n",
        "pi= 3.14\n",
        "area= 2*pi*radius*height+2*pi*radius*radius\n",
        "print('The area =',area)"
      ]
    },
    {
      "cell_type": "code",
      "execution_count": null,
      "metadata": {
        "colab": {
          "base_uri": "https://localhost:8080/"
        },
        "id": "I18GG4kYcwb2",
        "outputId": "34f4394c-dc4b-4ef0-b367-0d981b94c539"
      },
      "outputs": [
        {
          "name": "stdout",
          "output_type": "stream",
          "text": [
            "The area = 452.16\n"
          ]
        }
      ],
      "source": [
        "# Area of a Cone\n",
        "import math \n",
        "radius= 8\n",
        "height= 6\n",
        "pi= 3.14\n",
        "area= pi*radius*(radius+math.sqrt(height*height+radius*radius))\n",
        "print('The area =',area)"
      ]
    },
    {
      "cell_type": "code",
      "execution_count": null,
      "metadata": {
        "colab": {
          "base_uri": "https://localhost:8080/"
        },
        "id": "JXJ7RymYlXGP",
        "outputId": "4f67aae5-80df-48ef-b12f-5231b842b267"
      },
      "outputs": [
        {
          "name": "stdout",
          "output_type": "stream",
          "text": [
            "Simple Interest = 1200.0\n"
          ]
        }
      ],
      "source": [
        "# Simple Interest\n",
        "P= 10000\n",
        "R= 6\n",
        "T= 2\n",
        "SI= (P*R*T)/100\n",
        "print ('Simple Interest =',SI)"
      ]
    },
    {
      "cell_type": "code",
      "execution_count": null,
      "metadata": {
        "colab": {
          "base_uri": "https://localhost:8080/"
        },
        "id": "p-xT4uPtHkJb",
        "outputId": "8111491b-f74b-4c0f-ff7b-facb178ee04a"
      },
      "outputs": [
        {
          "name": "stdout",
          "output_type": "stream",
          "text": [
            "13700.86663415625\n",
            "Compound Interest = 3700.8666341562493\n"
          ]
        }
      ],
      "source": [
        "# Compound Interest\n",
        "P= 10000\n",
        "R= 6.5\n",
        "T= 5\n",
        "A= P*(100+R)**T/100**T\n",
        "print (A)\n",
        "CI= A-P\n",
        "print('Compound Interest =',CI)"
      ]
    },
    {
      "cell_type": "code",
      "execution_count": null,
      "metadata": {
        "colab": {
          "base_uri": "https://localhost:8080/"
        },
        "id": "mQBhivm4H8Gm",
        "outputId": "0dd72ed9-ec09-4993-ab54-f2234e4309c4"
      },
      "outputs": [
        {
          "name": "stdout",
          "output_type": "stream",
          "text": [
            "1\n",
            "2\n",
            "3\n",
            "4\n",
            "5\n",
            "6\n",
            "7\n",
            "8\n",
            "9\n"
          ]
        }
      ],
      "source": [
        "# range(1,11)\n",
        "\n",
        "#0 starting value\n",
        "#11: stopping ValueError\n",
        "\n",
        "for i in range(1,10):\n",
        "  print (i)"
      ]
    },
    {
      "cell_type": "code",
      "execution_count": null,
      "metadata": {
        "colab": {
          "base_uri": "https://localhost:8080/"
        },
        "id": "VPDv4h1hKyKW",
        "outputId": "1a174427-bcd0-47c8-dedc-5137f351c97e"
      },
      "outputs": [
        {
          "name": "stdout",
          "output_type": "stream",
          "text": [
            "1\n",
            "2\n",
            "3\n",
            "4\n",
            "5\n",
            "6\n",
            "7\n",
            "8\n",
            "9\n"
          ]
        }
      ],
      "source": [
        "for i in range(1,10,1):\n",
        "  print (i)"
      ]
    },
    {
      "cell_type": "code",
      "execution_count": null,
      "metadata": {
        "colab": {
          "base_uri": "https://localhost:8080/"
        },
        "id": "V1BwKslCLHzB",
        "outputId": "18236464-8d0f-4dfc-aa26-a7d758679aad"
      },
      "outputs": [
        {
          "name": "stdout",
          "output_type": "stream",
          "text": [
            "1\n",
            "3\n",
            "5\n",
            "7\n",
            "9\n"
          ]
        }
      ],
      "source": [
        "for i in range(1,10,2):\n",
        "  print (i)"
      ]
    },
    {
      "cell_type": "code",
      "execution_count": null,
      "metadata": {
        "colab": {
          "base_uri": "https://localhost:8080/"
        },
        "id": "OoczpapdLdHp",
        "outputId": "aa261000-2ef9-40fc-eb47-79bbd579b0bc"
      },
      "outputs": [
        {
          "name": "stdout",
          "output_type": "stream",
          "text": [
            "1\n",
            "6\n",
            "11\n",
            "16\n"
          ]
        }
      ],
      "source": [
        "for i in range(1,20,5):\n",
        "  print (i)"
      ]
    },
    {
      "cell_type": "code",
      "execution_count": null,
      "metadata": {
        "colab": {
          "base_uri": "https://localhost:8080/"
        },
        "id": "sF3l3gmZLk2b",
        "outputId": "19bb3c60-cdfe-43ce-b510-8b9f82f475f4"
      },
      "outputs": [
        {
          "name": "stdout",
          "output_type": "stream",
          "text": [
            "10\n",
            "8\n",
            "6\n",
            "4\n",
            "2\n"
          ]
        }
      ],
      "source": [
        "for i in range(10,0,-2):\n",
        "  print (i)"
      ]
    },
    {
      "cell_type": "code",
      "execution_count": null,
      "metadata": {
        "colab": {
          "base_uri": "https://localhost:8080/"
        },
        "id": "jw0GjiIrMuN7",
        "outputId": "88a75667-1eee-4390-d901-463b80a1d3bc"
      },
      "outputs": [
        {
          "name": "stdout",
          "output_type": "stream",
          "text": [
            "11\n",
            "13\n",
            "15\n",
            "17\n",
            "19\n"
          ]
        }
      ],
      "source": [
        "for i in range(11,20,2):\n",
        "  print (i)"
      ]
    },
    {
      "cell_type": "code",
      "execution_count": null,
      "metadata": {
        "colab": {
          "base_uri": "https://localhost:8080/"
        },
        "id": "3yhQbYXfNnD8",
        "outputId": "72b6e38d-b9dd-4d4b-c01a-65356f64e9d0"
      },
      "outputs": [
        {
          "name": "stdout",
          "output_type": "stream",
          "text": [
            "50\n",
            "46\n",
            "42\n",
            "38\n",
            "34\n",
            "30\n",
            "26\n",
            "22\n",
            "18\n"
          ]
        }
      ],
      "source": [
        "for akki in range(50,15,-4):\n",
        "  print (akki)"
      ]
    },
    {
      "cell_type": "code",
      "execution_count": null,
      "metadata": {
        "colab": {
          "base_uri": "https://localhost:8080/"
        },
        "id": "OUoYTpMFG-2C",
        "outputId": "a2bfea11-574d-4245-98c3-8a2cdb41d589"
      },
      "outputs": [
        {
          "name": "stdout",
          "output_type": "stream",
          "text": [
            "enter marks 1 92\n",
            "enter marks 2 95\n",
            "enter marks 3 95\n",
            "282\n",
            "94.0\n",
            "92\n",
            "95\n"
          ]
        }
      ],
      "source": [
        "# Question 1\n",
        "Marks_Eng = eval(input(\"enter marks 1\"))\n",
        "Marks_Eco = eval(input(\"enter marks 2\"))\n",
        "Marks_BST = eval(input(\"enter marks 3\"))\n",
        "\n",
        "Total_Marks = Marks_Eng + Marks_Eco + Marks_BST\n",
        "Avg_Marks = Total_Marks/3\n",
        "\n",
        "print(Total_Marks)\n",
        "print(Avg_Marks)\n",
        "\n",
        "min_Marks = min(Marks_Eng, Marks_Eco, Marks_BST)\n",
        "max_Marks = max(Marks_Eng, Marks_Eco, Marks_BST)\n",
        "\n",
        "print(min_Marks)\n",
        "print(max_Marks)"
      ]
    },
    {
      "cell_type": "code",
      "execution_count": null,
      "metadata": {
        "colab": {
          "base_uri": "https://localhost:8080/"
        },
        "id": "JVRu6r8PcIRB",
        "outputId": "5c8235f2-2cd1-4fcc-c910-d8dd10a8584c"
      },
      "outputs": [
        {
          "name": "stdout",
          "output_type": "stream",
          "text": [
            "Enter your value 20\n",
            "68.0\n",
            "293.15\n"
          ]
        }
      ],
      "source": [
        "# Question 2\n",
        "Celsius = eval(input(\"Enter your value \"))\n",
        "\n",
        "Fahrenheit = (Celsius * 9/5) + 32\n",
        "Kelvin = Celsius + 273.15\n",
        "\n",
        "print(Fahrenheit)\n",
        "print(Kelvin)"
      ]
    },
    {
      "cell_type": "code",
      "execution_count": null,
      "metadata": {
        "colab": {
          "base_uri": "https://localhost:8080/"
        },
        "id": "WsnZaI82e5Sm",
        "outputId": "6dbc9b27-4ff7-4109-e516-136e7312d244"
      },
      "outputs": [
        {
          "name": "stdout",
          "output_type": "stream",
          "text": [
            "Enter your value 12\n",
            "Enter your value 13\n",
            "156\n",
            "50\n",
            "Enter your value 2\n",
            "Enter your value 3\n",
            "Enter your value 4\n",
            "Enter your value 5\n",
            "Enter your value 6\n",
            "14\n",
            "15.0\n"
          ]
        }
      ],
      "source": [
        "# Question 3\n",
        "Lenght_Rectangle = eval(input(\"Enter your value \"))\n",
        "Breadth_Rectangle = eval(input(\"Enter your value \"))\n",
        "\n",
        "Perimeter_Rectangle = 2*(Lenght_Rectangle + Breadth_Rectangle)\n",
        "Area_Rectangle = Lenght_Rectangle * Breadth_Rectangle\n",
        "\n",
        "print(Area_Rectangle)\n",
        "print(Perimeter_Rectangle)\n",
        "\n",
        "A = eval(input(\"Enter your value \"))\n",
        "B = eval(input(\"Enter your value \"))\n",
        "C = eval(input(\"Enter your value \"))\n",
        "D = eval(input(\"Enter your value \"))\n",
        "H = eval(input(\"Enter your value \"))\n",
        "\n",
        "Area_Trapezium = (A + B) * H/2\n",
        "Perimeter_Trapezium = A + B + C + D\n",
        "\n",
        "print(Perimeter_Trapezium)\n",
        "print(Area_Trapezium)"
      ]
    },
    {
      "cell_type": "code",
      "execution_count": null,
      "metadata": {
        "colab": {
          "base_uri": "https://localhost:8080/"
        },
        "id": "m8dWLtK6igv6",
        "outputId": "f476b7c1-2cb0-4694-b8a7-8d9f9cecf919"
      },
      "outputs": [
        {
          "name": "stdout",
          "output_type": "stream",
          "text": [
            "Enter your value 1\n",
            "Enter your value 8\n",
            "Enter your value 16\n",
            "-8.0\n",
            "-8.0\n"
          ]
        }
      ],
      "source": [
        "# Question 4\n",
        "\n",
        "import math\n",
        "\n",
        "a = eval(input(\"Enter your value \"))\n",
        "b = eval(input(\"Enter your value \"))\n",
        "c = eval(input(\"Enter your value \"))\n",
        "\n",
        "# Equation = a*x**2 + b*x + c\n",
        "\n",
        "Roots1 = -b + math.sqrt(b**2 - 4*a*c)/2*a\n",
        "Roots2 = -b - math.sqrt(b**2 - 4*a*c)/2*a\n",
        "\n",
        "print(Roots1)\n",
        "print(Roots2)"
      ]
    },
    {
      "cell_type": "code",
      "execution_count": null,
      "metadata": {
        "colab": {
          "base_uri": "https://localhost:8080/"
        },
        "id": "t314FPT2l9TL",
        "outputId": "2463c5ef-a407-4f3a-d1db-0d5f4baa9c22"
      },
      "outputs": [
        {
          "name": "stdout",
          "output_type": "stream",
          "text": [
            "Enter your value 1\n",
            "Enter your value 11\n",
            "Enter your value 24\n",
            "-8.5\n",
            "-13.5\n"
          ]
        }
      ],
      "source": [
        "# Question 4\n",
        "\n",
        "import math\n",
        "\n",
        "a = eval(input(\"Enter your value \"))\n",
        "b = eval(input(\"Enter your value \"))\n",
        "c = eval(input(\"Enter your value \"))\n",
        "\n",
        "# Equation = a*x**2 + b*x + c\n",
        "\n",
        "d = math.sqrt(b**2 - 4*a*c)/2*a\n",
        "\n",
        "Roots1 = -b + d\n",
        "Roots2 = -b - d\n",
        "\n",
        "print(Roots1)\n",
        "print(Roots2)"
      ]
    },
    {
      "cell_type": "code",
      "execution_count": null,
      "metadata": {
        "colab": {
          "base_uri": "https://localhost:8080/"
        },
        "id": "wQijnhwSr0D-",
        "outputId": "47960828-1369-403c-e3f1-26a8dbf7af1e"
      },
      "outputs": [
        {
          "name": "stdout",
          "output_type": "stream",
          "text": [
            "Enter your value 66.5\n",
            "66.5\n",
            "25.27\n",
            "11.083333333333334\n"
          ]
        }
      ],
      "source": [
        "# Convert Weight on Earth to Weight on Mars and Moon\n",
        "\n",
        "Weight_on_Earth = eval(input(\"Enter your value \"))\n",
        "print (Weight_on_Earth)\n",
        "\n",
        "Weight_on_Mars = Weight_on_Earth * 38/100\n",
        "Weight_on_Moon = Weight_on_Earth * 1/6\n",
        "\n",
        "print(Weight_on_Mars)\n",
        "print(Weight_on_Moon)"
      ]
    },
    {
      "cell_type": "code",
      "execution_count": null,
      "metadata": {
        "colab": {
          "base_uri": "https://localhost:8080/"
        },
        "id": "skynr90cTiuE",
        "outputId": "8c916ace-b761-41c7-c07b-b93c99caf04e"
      },
      "outputs": [
        {
          "name": "stdout",
          "output_type": "stream",
          "text": [
            "Enter your value -100\n",
            "a is negative\n",
            "a = -100\n"
          ]
        }
      ],
      "source": [
        "# If statements \n",
        "\n",
        "import math\n",
        "\n",
        "a = eval(input(\"Enter your value \"))\n",
        "\n",
        "if a > 0:\n",
        "  print(\"a is positive\")\n",
        "  b = math.sqrt(a)\n",
        "  print(\"b =\",b)\n",
        "  print(\"a is\",a)\n",
        "elif a < 0:\n",
        "  print(\"a is negative\")\n",
        "  print(\"a =\",a)"
      ]
    },
    {
      "cell_type": "code",
      "execution_count": null,
      "metadata": {
        "id": "s6wodrpYYPMT"
      },
      "outputs": [],
      "source": [
        "# To check if number is even or odd\n",
        "\n",
        "import math\n",
        "\n",
        "a = eval(input(\"Enter your value:\"))\n",
        "\n",
        "if a % 2 == 0 and a > 0:\n",
        "  print(\"a =\",a)\n",
        "  print(\"a is even\")\n",
        "elif a % 2 > 0 and a > 0:\n",
        "  print(\"a =\",a)\n",
        "  print(\"a is odd\")\n",
        "else: \n",
        "  a < 0\n",
        "  print(\"a =\",a)\n",
        "  print(\"a is negative\")"
      ]
    },
    {
      "cell_type": "code",
      "execution_count": null,
      "metadata": {
        "colab": {
          "base_uri": "https://localhost:8080/"
        },
        "id": "s196jwz01evr",
        "outputId": "6380f54e-0b68-4438-a68d-273d22b91562"
      },
      "outputs": [
        {
          "name": "stdout",
          "output_type": "stream",
          "text": [
            "Enter your value:8\n",
            "Enter your value:23\n",
            "Enter your value:15\n",
            "d = 7.0\n",
            "Roots are real and distinct.\n"
          ]
        }
      ],
      "source": [
        "# IF-ELIF-ELSE\n",
        "\n",
        "import math\n",
        "\n",
        "a = eval(input(\"Enter your value:\"))\n",
        "b = eval(input(\"Enter your value:\"))\n",
        "c = eval(input(\"Enter your value:\"))\n",
        "d = math.sqrt(b**2 - 4*a*c)\n",
        "\n",
        "if d > 0:\n",
        "  print(\"d =\",d)\n",
        "  print(\"Roots are real and distinct.\")\n",
        "elif d == 0:\n",
        "  print(\"d =\",d)\n",
        "  print(\"Only one real root exists.\")\n",
        "elif d < 0:\n",
        "  print(\"d =\",d)\n",
        "  print(\"Roots are imaginary.\")\n",
        "else:\n",
        "  a < 0 and b < 0 and c < 0\n",
        "  print(\"a =\",a)\n",
        "  print(\"b =\",b)\n",
        "  print(\"c =\",c)\n",
        "  print(\"Bonus!!!\")\n"
      ]
    },
    {
      "cell_type": "code",
      "execution_count": null,
      "metadata": {
        "id": "VjIT-TTZ9EE8"
      },
      "outputs": [],
      "source": [
        "# Normal Calculator\n",
        "\n",
        "import math \n",
        "\n",
        "a = eval(input(\"Enter your value for a:\"))\n",
        "b = eval(input(\"Enter your value for b:\"))\n",
        "\n",
        "# choice can be 1 for addition, 2 for subtraction, 3 for multiplication, 4 for division, 5 for exponential, 6 for % and // & much more but anything > 8 or == 0 gives us a surprise.\n",
        "\n",
        "choice = eval(input(\"Enter your value for choice:\"))\n",
        "\n",
        "if choice == 1:\n",
        "  c = a + b\n",
        "  print(\"c =\",c)\n",
        "elif choice == 2:\n",
        "  c = a - b\n",
        "  print(\"c =\",c)\n",
        "elif choice == 3:\n",
        "  c = a * b\n",
        "  print(\"c =\",c)\n",
        "elif choice == 4:\n",
        "  c = a / b\n",
        "  print(\"c =\",c)\n",
        "elif choice == 5:\n",
        "  c = a ** b\n",
        "  print(\"c =\",c)\n",
        "elif choice == 6:\n",
        "  c = a % b\n",
        "  d = a // b\n",
        "  print(\"c =\",c)\n",
        "  print(\"d =\",d)\n",
        "elif choice == 7 and a > 0 and b > 0:\n",
        "  c = math.sqrt(a)\n",
        "  d = math.sqrt(b)\n",
        "  print(\"c =\",c)\n",
        "  print(\"d =\",d)\n",
        "elif choice == 8 and a > 0 and b > 0:\n",
        "  c = math.factorial(a)\n",
        "  d = math.factorial(b)\n",
        "  print(\"c =\",c)\n",
        "  print(\"d =\",d)\n",
        "else:\n",
        "  choice > 8 or choice == 0\n",
        "  print(\"Wrong choice!!!\")\n",
        "  print(\"Please read the instructions again.\")\n",
        "print(\"End of Program.\")"
      ]
    },
    {
      "cell_type": "markdown",
      "metadata": {
        "id": "k3ZDwnOZ2B5u"
      },
      "source": [
        "# The Boss Calculator Mark 1.0\n",
        "My first major code\n"
      ]
    },
    {
      "cell_type": "code",
      "execution_count": null,
      "metadata": {
        "id": "3wCW3yFc6xHP"
      },
      "outputs": [],
      "source": [
        "# My Favourite one previously   \n",
        "# The Boss Calculator Mark 1.0 \n",
        "\n",
        "import math \n",
        "import random\n",
        "\n",
        "a = eval(input(\"Enter your value for a:\"))\n",
        "b = eval(input(\"Enter your value for b:\"))\n",
        "\n",
        "n = random.randint(0,10)\n",
        "print(\"n =\",n)\n",
        "\n",
        "# choice can be 1 for addition, 2 for subtraction, 3 for multiplication, 4 for division, 5 for exponential, 6 for % and // & much more but anything > 8 or == 0 gives us a surprise.\n",
        "\n",
        "choice = n\n",
        "\n",
        "if choice == 1:\n",
        "  c = a + b\n",
        "  print(\"c =\",c)\n",
        "elif choice == 2:\n",
        "  c = a - b\n",
        "  print(\"c =\",c)\n",
        "elif choice == 3:\n",
        "  c = a * b\n",
        "  print(\"c =\",c)\n",
        "elif choice == 4:\n",
        "  c = a / b\n",
        "  print(\"c =\",c)\n",
        "elif choice == 5:\n",
        "  c = a ** b\n",
        "  print(\"c =\",c)\n",
        "elif choice == 6:\n",
        "  c = a % b\n",
        "  d = a // b\n",
        "  print(\"c =\",c)\n",
        "  print(\"d =\",d)\n",
        "elif choice == 7 and a > 0 and b > 0:\n",
        "  c = math.sqrt(a)\n",
        "  d = math.sqrt(b)\n",
        "  print(\"c =\",c)\n",
        "  print(\"d =\",d)\n",
        "elif choice == 8 and a > 0 and b > 0:\n",
        "  c = math.factorial(a)\n",
        "  d = math.factorial(b)\n",
        "  print(\"c =\",c)\n",
        "  print(\"d =\",d)\n",
        "else:\n",
        "  choice > 8 or choice == 0\n",
        "  print(\"Wrong choice!!!\")\n",
        "  print(\"Please read the instructions again.\")\n",
        "print(\"More updates coming soon...\") "
      ]
    },
    {
      "cell_type": "markdown",
      "metadata": {
        "id": "s0B4L3_D2jFT"
      },
      "source": [
        "# The Boss Calculator Mark 2.0"
      ]
    },
    {
      "cell_type": "code",
      "execution_count": null,
      "metadata": {
        "colab": {
          "base_uri": "https://localhost:8080/"
        },
        "id": "rr29uLbq2sG2",
        "outputId": "b850b3b1-cd4e-403a-bdd2-168abe87ab23"
      },
      "outputs": [
        {
          "name": "stdout",
          "output_type": "stream",
          "text": [
            "Enter your number:21\n",
            "Enter your number:33\n",
            "a = 678\n",
            "b = -33\n",
            "n = 1\n",
            "c = 645\n",
            "More updates coming soon...\n"
          ]
        }
      ],
      "source": [
        "# My Favourite one so far \n",
        "# The Boss Calculator Mark 2.0\n",
        "\n",
        "import math \n",
        "import random\n",
        "\n",
        "value_1 = eval(input(\"Enter your number:\"))\n",
        "value_2 = eval(input(\"Enter your number:\")) \n",
        "\n",
        "a = random.randint(-1000,1000) \n",
        "b = random.randint(-1000,1000) \n",
        "\n",
        "print(\"a =\",a)\n",
        "print(\"b =\",b)\n",
        "\n",
        "n = random.randint(0,10)\n",
        "print(\"n =\",n)\n",
        "\n",
        "# choice can be 1 for addition, 2 for subtraction, 3 for multiplication, 4 for division, 5 for exponential, 6 for % and // & much more but anything > 8 or == 0 gives us a surprise.\n",
        "\n",
        "choice = n\n",
        "\n",
        "if choice == 1:\n",
        "  c = a + b\n",
        "  print(\"c =\",c)\n",
        "elif choice == 2:\n",
        "  c = a - b\n",
        "  print(\"c =\",c)\n",
        "elif choice == 3:\n",
        "  c = a * b\n",
        "  print(\"c =\",c)\n",
        "elif choice == 4:\n",
        "  c = a / b\n",
        "  print(\"c =\",c)\n",
        "elif choice == 5:\n",
        "  c = a ** b\n",
        "  print(\"c =\",c)\n",
        "elif choice == 6:\n",
        "  c = a % b\n",
        "  d = a // b\n",
        "  print(\"c =\",c)\n",
        "  print(\"d =\",d)\n",
        "elif choice == 7 and a > 0 and b > 0:\n",
        "  c = math.sqrt(a)\n",
        "  d = math.sqrt(b)\n",
        "  print(\"c =\",c)\n",
        "  print(\"d =\",d)\n",
        "elif choice == 8 and a > 0 and b > 0:\n",
        "  c = math.factorial(a)\n",
        "  d = math.factorial(b)\n",
        "  print(\"c =\",c)\n",
        "  print(\"d =\",d)\n",
        "else:\n",
        "  choice > 8 or choice == 0\n",
        "  print(\"Wrong choice!!!\")\n",
        "  print(\"Please read the instructions again.\")\n",
        "print(\"More updates coming soon...\") "
      ]
    },
    {
      "cell_type": "markdown",
      "metadata": {
        "id": "TGJVSL6X44uV"
      },
      "source": [
        "# Python continues"
      ]
    },
    {
      "cell_type": "code",
      "execution_count": null,
      "metadata": {
        "id": "gw1CIbfRLcNY"
      },
      "outputs": [],
      "source": [
        "# Maximum of 3 Numbers\n",
        "\n",
        "a = eval(input(\"Enter your value:\"))\n",
        "b = eval(input(\"Enter your value:\"))\n",
        "c = eval(input(\"Enter your value:\"))\n",
        "\n",
        "if a > b and a > c:\n",
        "  max = a\n",
        "if b > a and b > c:\n",
        "  max = b\n",
        "if c > a and c > b:\n",
        "  max = c\n",
        "print(\"Maximum value =\",max)"
      ]
    },
    {
      "cell_type": "code",
      "execution_count": null,
      "metadata": {
        "id": "FWgWshONgYWb"
      },
      "outputs": [],
      "source": [
        "# Maximum of 3 Numbers\n",
        "\n",
        "a = eval(input(\"Enter your value:\"))\n",
        "b = eval(input(\"Enter your value:\"))\n",
        "c = eval(input(\"Enter your value:\"))\n",
        "\n",
        "if a > b:\n",
        "  if a > c:\n",
        "    max = a\n",
        "  else:\n",
        "    max = c \n",
        "else:\n",
        "  if b > c:\n",
        "    max = b\n",
        "  else:\n",
        "    max = c \n",
        "print(\"Maximum =\",max)\n"
      ]
    },
    {
      "cell_type": "code",
      "execution_count": null,
      "metadata": {
        "id": "CjmC7a21klhm"
      },
      "outputs": [],
      "source": [
        "# Question \n",
        "\n",
        "Marks = eval(input(\"Enter your value:\"))\n",
        "\n",
        "if Marks >= 75:\n",
        "  print(\"First Division\")\n",
        "elif Marks < 75 and Marks > 60:\n",
        "  print(\"Second Division\")\n",
        "elif Marks < 60 and Marks >= 40:\n",
        "  print(\"Third Division\")\n",
        "else:\n",
        "  print(\"Fail\")"
      ]
    },
    {
      "cell_type": "code",
      "execution_count": null,
      "metadata": {
        "id": "NdCNePnIDcF7"
      },
      "outputs": [],
      "source": [
        "# Example for average marks in loop\n",
        "\n",
        "for i in range(0,3):\n",
        "  print(\"Execution for:\",i)\n",
        "  marks_1=eval(input(\"Enter your value:\"))\n",
        "  marks_2=eval(input(\"Enter your value:\"))\n",
        "  marks_3=eval(input(\"Enter your value:\"))\n",
        "  Avg = (marks_1 + marks_2 + marks_3)/3\n",
        "  print(\"Average =\",Avg)\n",
        "print(\"End of Program\")"
      ]
    },
    {
      "cell_type": "code",
      "execution_count": null,
      "metadata": {
        "colab": {
          "base_uri": "https://localhost:8080/"
        },
        "id": "MQ_OldVFH7fh",
        "outputId": "2709bc45-a8a4-4c2f-8127-869e30a0ae65"
      },
      "outputs": [
        {
          "name": "stdout",
          "output_type": "stream",
          "text": [
            "i = 19\n",
            "i = 18\n",
            "i = 17\n",
            "i = 16\n",
            "i = 15\n",
            "i = 14\n",
            "i = 13\n",
            "i = 12\n",
            "i = 11\n",
            "i = 10\n",
            "i = 9\n",
            "i = 8\n",
            "i = 7\n",
            "i = 6\n",
            "i = 5\n",
            "i = 4\n",
            "i = 3\n",
            "i = 2\n",
            "i = 1\n",
            "The End\n"
          ]
        }
      ],
      "source": [
        "for i in range(20,0,-1):\n",
        "  if i==20:\n",
        "    continue\n",
        "  print(\"i =\",i)\n",
        "print(\"The End\")"
      ]
    },
    {
      "cell_type": "code",
      "execution_count": null,
      "metadata": {
        "colab": {
          "base_uri": "https://localhost:8080/"
        },
        "id": "LUzg79JEI8aL",
        "outputId": "9a971045-6378-4b12-bbd1-e9ca53d6fb75"
      },
      "outputs": [
        {
          "name": "stdout",
          "output_type": "stream",
          "text": [
            "i = 20\n",
            "i = 19\n",
            "i = 18\n",
            "i = 17\n",
            "i = 16\n",
            "i = 15\n",
            "i = 14\n",
            "i = 13\n",
            "i = 12\n",
            "i = 11\n",
            "i = 10\n",
            "i = 9\n",
            "i = 8\n",
            "i = 7\n",
            "i = 6\n",
            "i = 5\n",
            "i = 4\n",
            "i = 3\n",
            "i = 2\n",
            "i = 1\n"
          ]
        }
      ],
      "source": [
        "for i in range(20,0,-1):\n",
        "  print(\"i =\",i)"
      ]
    },
    {
      "cell_type": "code",
      "execution_count": null,
      "metadata": {
        "colab": {
          "base_uri": "https://localhost:8080/"
        },
        "id": "tYLyv90NJH_T",
        "outputId": "53d7c6c0-5d7e-41dd-9f9f-66d2a508e44e"
      },
      "outputs": [
        {
          "name": "stdout",
          "output_type": "stream",
          "text": [
            "1 1\n",
            "1 2\n",
            "1 3\n",
            "2 1\n",
            "2 2\n",
            "2 3\n",
            "3 1\n",
            "3 2\n",
            "3 3\n"
          ]
        }
      ],
      "source": [
        "for i in range(1,4):\n",
        "  for j in range(1,4):\n",
        "    print(i,j) "
      ]
    },
    {
      "cell_type": "code",
      "execution_count": null,
      "metadata": {
        "colab": {
          "base_uri": "https://localhost:8080/"
        },
        "id": "LM268h1HYsKE",
        "outputId": "0a14d7fc-d4b2-432d-dfe5-82007c08e9cf"
      },
      "outputs": [
        {
          "name": "stdout",
          "output_type": "stream",
          "text": [
            "Enter your value:10\n",
            "10 * 0 = 0\n",
            "10 * 1 = 10\n",
            "10 * 2 = 20\n",
            "10 * 3 = 30\n",
            "10 * 4 = 40\n",
            "10 * 5 = 50\n",
            "10 * 6 = 60\n",
            "10 * 7 = 70\n",
            "10 * 8 = 80\n",
            "10 * 9 = 90\n",
            "10 * 10 = 100\n",
            "End of Program\n"
          ]
        }
      ],
      "source": [
        "# loop example\n",
        "\n",
        "n = eval(input(\"Enter your value:\"))\n",
        "\n",
        "for i in range(0,11):\n",
        "  a = n * i\n",
        "  print(n,\"*\",i,\"=\",a)\n",
        "print(\"End of Program\")"
      ]
    },
    {
      "cell_type": "code",
      "execution_count": null,
      "metadata": {
        "colab": {
          "base_uri": "https://localhost:8080/"
        },
        "id": "LjYoMr0XcX95",
        "outputId": "6b9c3159-7762-43fe-c236-2459af4d8498"
      },
      "outputs": [
        {
          "name": "stdout",
          "output_type": "stream",
          "text": [
            "Enter your value:100\n",
            "100 * 1 = 100\n",
            "100 * 2 = 200\n",
            "100 * 3 = 300\n",
            "100 * 4 = 400\n",
            "100 * 5 = 500\n",
            "100 * 6 = 600\n",
            "100 * 7 = 700\n",
            "100 * 8 = 800\n",
            "100 * 9 = 900\n",
            "100 * 10 = 1000\n"
          ]
        }
      ],
      "source": [
        "# loop with if and else\n",
        "\n",
        "n = eval(input(\"Enter your value:\"))\n",
        "\n",
        "if n % 2 == 0:\n",
        "  for i in range(1,11):\n",
        "    print(n,\"*\",i,\"=\",n*i)\n",
        "else:\n",
        "  print(\"n is odd\")"
      ]
    },
    {
      "cell_type": "code",
      "execution_count": null,
      "metadata": {
        "colab": {
          "base_uri": "https://localhost:8080/"
        },
        "id": "TKA8ORgdgIUU",
        "outputId": "5b40b16d-3047-437a-fc5e-052c89b0703d"
      },
      "outputs": [
        {
          "name": "stdout",
          "output_type": "stream",
          "text": [
            "Enter your value:1268\n",
            "1\n",
            "2\n",
            "4\n",
            "317\n",
            "634\n",
            "1268\n"
          ]
        }
      ],
      "source": [
        "# factors\n",
        "\n",
        "n = eval(input(\"Enter your value:\"))\n",
        "\n",
        "for i in range(1,n+1):\n",
        "  if n % i == 0:\n",
        "    print(i)"
      ]
    },
    {
      "cell_type": "code",
      "execution_count": null,
      "metadata": {
        "colab": {
          "base_uri": "https://localhost:8080/"
        },
        "id": "NNh5nDkmjvFz",
        "outputId": "043165eb-ea77-49fa-efd5-0f17ab8c90b4"
      },
      "outputs": [
        {
          "name": "stdout",
          "output_type": "stream",
          "text": [
            "(1, 1),(1, 2),(1, 3),\n",
            "(2, 1),(2, 2),(2, 3),\n",
            "(3, 1),(3, 2),(3, 3),\n"
          ]
        }
      ],
      "source": [
        "# in one line\n",
        "\n",
        "for i in range(1,4):\n",
        "  for j in range(1,4):\n",
        "    print((i,j),end=',')\n",
        "  print()"
      ]
    },
    {
      "cell_type": "code",
      "execution_count": null,
      "metadata": {
        "colab": {
          "base_uri": "https://localhost:8080/"
        },
        "id": "6Lsh4j_5k0wT",
        "outputId": "cbe36456-fdbd-4059-ecbe-37a7ad2fbe00"
      },
      "outputs": [
        {
          "name": "stdout",
          "output_type": "stream",
          "text": [
            "Enter your value:10\n",
            "the factors are ( 1,2,5,10,)\n"
          ]
        }
      ],
      "source": [
        "# in one line\n",
        "\n",
        "n = eval(input(\"Enter your value:\"))\n",
        "\n",
        "print(\"the factors are (\", end=\" \")\n",
        "for i in range(1,20):\n",
        "  if n % i == 0:\n",
        "    print(i,end=\",\")\n",
        "print(\")\")"
      ]
    },
    {
      "cell_type": "code",
      "execution_count": null,
      "metadata": {
        "id": "axXNYzaLpasJ"
      },
      "outputs": [],
      "source": [
        "# break\n",
        "\n",
        "for i in range(1,20):\n",
        "  if i == 10:\n",
        "    break\n",
        "  print(i)\n",
        "print(\"Goodbye\")"
      ]
    },
    {
      "cell_type": "code",
      "execution_count": null,
      "metadata": {
        "colab": {
          "base_uri": "https://localhost:8080/"
        },
        "id": "y_mfPo7op656",
        "outputId": "6afd8ea5-0e5d-474a-9f20-cc03a706b8d8"
      },
      "outputs": [
        {
          "name": "stdout",
          "output_type": "stream",
          "text": [
            "1\n",
            "2\n",
            "3\n",
            "4\n",
            "5\n",
            "6\n",
            "7\n",
            "8\n",
            "9\n",
            "11\n",
            "12\n",
            "13\n",
            "14\n",
            "15\n",
            "16\n",
            "17\n",
            "18\n",
            "19\n",
            "Goodbye\n"
          ]
        }
      ],
      "source": [
        "# break\n",
        "\n",
        "for i in range(1,20):\n",
        "  if i == 10:\n",
        "    continue\n",
        "  print(i)\n",
        "print(\"Goodbye\")"
      ]
    },
    {
      "cell_type": "code",
      "execution_count": null,
      "metadata": {
        "colab": {
          "base_uri": "https://localhost:8080/"
        },
        "id": "JQpEgwhLq5-t",
        "outputId": "23c4a96c-7655-4052-a53f-a71dde5a7898"
      },
      "outputs": [
        {
          "name": "stdout",
          "output_type": "stream",
          "text": [
            "Enter your value:12\n",
            "a = 479001600\n"
          ]
        }
      ],
      "source": [
        "# factorial\n",
        "\n",
        "n = eval(input(\"Enter your value:\"))\n",
        "a = math.factorial(n)\n",
        "print(\"a =\",a)"
      ]
    },
    {
      "cell_type": "code",
      "execution_count": null,
      "metadata": {
        "colab": {
          "base_uri": "https://localhost:8080/"
        },
        "id": "r_f3cSG_smDu",
        "outputId": "80c6f0eb-3ec4-40c1-f1cd-15d2c23020d2"
      },
      "outputs": [
        {
          "name": "stdout",
          "output_type": "stream",
          "text": [
            "Enter your value:13\n",
            "factorial = 6227020800\n"
          ]
        }
      ],
      "source": [
        "# factorial\n",
        "\n",
        "n = eval(input(\"Enter your value:\"))\n",
        "factorial = 1\n",
        "\n",
        "for i in range(1,n+1):\n",
        "  factorial = factorial * i\n",
        "print(\"factorial =\",factorial)"
      ]
    },
    {
      "cell_type": "code",
      "execution_count": null,
      "metadata": {
        "colab": {
          "base_uri": "https://localhost:8080/"
        },
        "id": "KYI4fBGBvt1F",
        "outputId": "dca02790-ec7c-4ae6-9197-653082920258"
      },
      "outputs": [
        {
          "name": "stdout",
          "output_type": "stream",
          "text": [
            "Enter your value:444009\n",
            "n is composite\n"
          ]
        }
      ],
      "source": [
        "# prime number \n",
        "\n",
        "n = eval(input(\"Enter your value:\"))\n",
        "counter = 0\n",
        "\n",
        "for i in range(1,n+1):\n",
        "  if n % i == 0:\n",
        "    counter = counter + 1\n",
        "if counter == 2:\n",
        "  print(\"n is prime\")\n",
        "else:\n",
        "  print(\"n is composite\")"
      ]
    },
    {
      "cell_type": "code",
      "execution_count": null,
      "metadata": {
        "colab": {
          "base_uri": "https://localhost:8080/"
        },
        "id": "Zg3e8rV-xfWt",
        "outputId": "524baafe-db57-4bb8-f325-66b405970d35"
      },
      "outputs": [
        {
          "name": "stdout",
          "output_type": "stream",
          "text": [
            "Enter your value:65561\n",
            "n is composite\n"
          ]
        }
      ],
      "source": [
        "# prime number\n",
        "\n",
        "n = eval(input(\"Enter your value:\"))\n",
        "counter = 0\n",
        "\n",
        "for i in range(1,n+1):\n",
        "  if n % i == 0:\n",
        "    counter = counter + 1\n",
        "if counter == 2:\n",
        "  print(\"n is prime\")\n",
        "else:\n",
        "  print(\"n is composite\")"
      ]
    },
    {
      "cell_type": "code",
      "execution_count": null,
      "metadata": {
        "colab": {
          "base_uri": "https://localhost:8080/"
        },
        "id": "63qTWtBjR7Cs",
        "outputId": "d5f0f500-1b11-4f76-e02a-43ca0d0af579"
      },
      "outputs": [
        {
          "name": "stdout",
          "output_type": "stream",
          "text": [
            "Enter your value:90\n",
            "You got A grade.\n"
          ]
        }
      ],
      "source": [
        "# marks assigned\n",
        "\n",
        "a = eval(input(\"Enter your value:\"))\n",
        "\n",
        "if a >= 90:\n",
        "  print(\"You got A grade.\")\n",
        "elif a >= 70:\n",
        "  print(\"You got B grade.\")\n",
        "elif a >= 50:\n",
        "  print(\"You got C grade.\")\n",
        "elif a >= 40:\n",
        "  print(\"You got D grade.\")\n",
        "elif a >= 30:\n",
        "  print(\"You got E grade.\")\n",
        "else:\n",
        "  print(\"You got F grade.\")"
      ]
    },
    {
      "cell_type": "code",
      "execution_count": null,
      "metadata": {
        "colab": {
          "base_uri": "https://localhost:8080/"
        },
        "id": "On_F1F_2cl9Y",
        "outputId": "9da41d3e-90d2-4db8-d63d-6eec9204b1fc"
      },
      "outputs": [
        {
          "name": "stdout",
          "output_type": "stream",
          "text": [
            "Enter no. of terms:13\n",
            "Sum = 3.180133755133755\n"
          ]
        }
      ],
      "source": [
        "# Sum of terms\n",
        "\n",
        "n = eval(input(\"Enter no. of terms:\"))\n",
        "Sum = 0\n",
        "\n",
        "\n",
        "for i in range(1,n+1):\n",
        "  Sum = Sum + 1/i\n",
        "print(\"Sum =\",Sum)"
      ]
    },
    {
      "cell_type": "code",
      "execution_count": null,
      "metadata": {
        "colab": {
          "base_uri": "https://localhost:8080/"
        },
        "id": "5wDPs_n_dnrD",
        "outputId": "a9293791-b17c-4105-c8e7-d107b8df5273"
      },
      "outputs": [
        {
          "name": "stdout",
          "output_type": "stream",
          "text": [
            "Enter no. of terms:5\n",
            "Sum = 1.3333333333333333\n"
          ]
        }
      ],
      "source": [
        "# Sum of terms\n",
        "\n",
        "n = eval(input(\"Enter no. of terms:\"))\n",
        "Sum = 0\n",
        "\n",
        "\n",
        "for i in range(1,n,2):\n",
        "  Sum = Sum + 1/i \n",
        "print(\"Sum =\",Sum)"
      ]
    },
    {
      "cell_type": "code",
      "execution_count": null,
      "metadata": {
        "colab": {
          "base_uri": "https://localhost:8080/"
        },
        "id": "gzIqzPRNducx",
        "outputId": "0d50c5e2-8aab-415c-bc71-de10c90a478a"
      },
      "outputs": [
        {
          "name": "stdout",
          "output_type": "stream",
          "text": [
            "Enter no. of terms:10\n",
            "Sum = 1.1416666666666666\n"
          ]
        }
      ],
      "source": [
        "# Sum of terms\n",
        "\n",
        "n = eval(input(\"Enter no. of terms:\"))\n",
        "Sum = 0\n",
        "\n",
        "\n",
        "for i in range(2,n+1,2):\n",
        "  Sum = Sum + 1/i \n",
        "print(\"Sum =\",Sum)"
      ]
    },
    {
      "cell_type": "code",
      "execution_count": null,
      "metadata": {
        "colab": {
          "base_uri": "https://localhost:8080/"
        },
        "id": "jXKnWNxJg3Y7",
        "outputId": "cff914d6-61be-4e4e-8f32-4d5b1f870d3a"
      },
      "outputs": [
        {
          "name": "stdout",
          "output_type": "stream",
          "text": [
            "Enter no. of terms:13\n",
            "Sum = 1.9551337551337549\n"
          ]
        }
      ],
      "source": [
        "# Sum of terms\n",
        "\n",
        "n = eval(input(\"Enter no. of terms:\"))\n",
        "Sum = 0\n",
        "\n",
        "for i in range(1,n+1,2):\n",
        "  Sum = Sum + 1/i\n",
        "print(\"Sum =\",Sum)"
      ]
    },
    {
      "cell_type": "code",
      "execution_count": null,
      "metadata": {
        "colab": {
          "base_uri": "https://localhost:8080/"
        },
        "id": "XPz8f-kVhWuc",
        "outputId": "4b519e14-9660-42a2-dd58-e8130ad5adc7"
      },
      "outputs": [
        {
          "name": "stdout",
          "output_type": "stream",
          "text": [
            "Enter no. of terms:10\n",
            "Sum_new = 0.0111111111111111\n"
          ]
        }
      ],
      "source": [
        "# Sum of terms\n",
        "\n",
        "n = eval(input(\"Enter no. of terms:\"))\n",
        "Sum = 0\n",
        "\n",
        "for i in range(1,n+1,2):\n",
        "  Sum_odd = Sum + 1/i\n",
        "for i in range(2,n+1,2):\n",
        "  Sum_even = Sum + 1/i\n",
        "Sum_new = Sum_odd - Sum_even\n",
        "print(\"Sum_new =\",Sum_new)"
      ]
    },
    {
      "cell_type": "code",
      "execution_count": null,
      "metadata": {
        "colab": {
          "base_uri": "https://localhost:8080/"
        },
        "id": "VhQXe9sWjlW7",
        "outputId": "2af113a1-b519-403d-a119-71f892f8ce23"
      },
      "outputs": [
        {
          "name": "stdout",
          "output_type": "stream",
          "text": [
            "Enter no. of terms:13\n",
            "Sum = 3.180133755133755\n"
          ]
        }
      ],
      "source": [
        "# Sum of terms\n",
        "\n",
        "n = eval(input(\"Enter no. of terms:\"))\n",
        "Sum = 0\n",
        "S = 1\n",
        "\n",
        "for i in range(1,n+1):\n",
        "  Sum = Sum + 1/(i*S)\n",
        "print(\"Sum =\",Sum)"
      ]
    },
    {
      "cell_type": "code",
      "execution_count": null,
      "metadata": {
        "colab": {
          "base_uri": "https://localhost:8080/"
        },
        "id": "28EE6LUXlyS2",
        "outputId": "8210db72-0473-4a0b-a367-40d19ff934ed"
      },
      "outputs": [
        {
          "name": "stdout",
          "output_type": "stream",
          "text": [
            "0\n",
            "1\n",
            "2\n",
            "3\n",
            "4\n",
            "5\n",
            "6\n",
            "7\n",
            "8\n",
            "9\n",
            "10\n"
          ]
        }
      ],
      "source": [
        "# while loop\n",
        "\n",
        "i = 0\n",
        "while i < 11:\n",
        "  print(i)\n",
        "  i = i + 1"
      ]
    },
    {
      "cell_type": "code",
      "execution_count": null,
      "metadata": {
        "colab": {
          "base_uri": "https://localhost:8080/"
        },
        "id": "SZpVTy9YuTj3",
        "outputId": "8041cda0-b67c-499c-e16c-07ce244f894d"
      },
      "outputs": [
        {
          "name": "stdout",
          "output_type": "stream",
          "text": [
            "11111\n",
            "11111\n",
            "11111\n",
            "11111\n",
            "11111\n"
          ]
        }
      ],
      "source": [
        "# print the pattern\n",
        "\n",
        "# the pattern is 11111\n",
        "\n",
        "print(\"11111\")\n",
        "print(\"11111\")\n",
        "print(\"11111\")\n",
        "print(\"11111\")\n",
        "print(\"11111\")"
      ]
    },
    {
      "cell_type": "code",
      "execution_count": null,
      "metadata": {
        "colab": {
          "base_uri": "https://localhost:8080/"
        },
        "id": "ERyd_nGy6rCZ",
        "outputId": "c99fc960-a359-436f-cd69-1048dda55835"
      },
      "outputs": [
        {
          "name": "stdout",
          "output_type": "stream",
          "text": [
            "Sn = 5050.0\n"
          ]
        }
      ],
      "source": [
        "# Sum of first 100 integers\n",
        "\n",
        "n = 100\n",
        "a = 1\n",
        "d = 1\n",
        "\n",
        "Sn = (n/2)*(2*a + (n-1)*d)\n",
        "\n",
        "print(\"Sn =\",Sn)\n"
      ]
    },
    {
      "cell_type": "code",
      "execution_count": null,
      "metadata": {
        "colab": {
          "base_uri": "https://localhost:8080/"
        },
        "id": "J3u30VN89xW5",
        "outputId": "e99fdfa3-8da8-4ae0-a4d6-410bac5ff23e"
      },
      "outputs": [
        {
          "name": "stdout",
          "output_type": "stream",
          "text": [
            "2\n",
            "3\n",
            "5\n",
            "7\n",
            "11\n",
            "13\n",
            "17\n",
            "19\n",
            "23\n",
            "29\n",
            "31\n",
            "37\n",
            "41\n",
            "43\n",
            "47\n",
            "53\n",
            "59\n",
            "61\n",
            "67\n",
            "71\n",
            "73\n",
            "79\n",
            "83\n",
            "89\n",
            "97\n"
          ]
        }
      ],
      "source": [
        "# Python Program to print Prime Numbers from 1 to 100\n",
        "\n",
        "for n in range (1, 101):\n",
        "    count = 0\n",
        "    for i in range(2, (n//2 + 1)):\n",
        "        if(n % i == 0):\n",
        "            count = count + 1\n",
        "            break\n",
        "\n",
        "    if (count == 0 and n != 1):\n",
        "        print(n) "
      ]
    },
    {
      "cell_type": "code",
      "execution_count": null,
      "metadata": {
        "colab": {
          "base_uri": "https://localhost:8080/"
        },
        "id": "y8_WC6CqNz4b",
        "outputId": "2bc2e2a6-dc21-4f52-f695-e95e1472e70d"
      },
      "outputs": [
        {
          "name": "stdout",
          "output_type": "stream",
          "text": [
            " 2   3   5   7   11   13   17   19   23   29   31   37   41   43   47   53   59   61   67   71   73   79   83   89   97  "
          ]
        }
      ],
      "source": [
        "# Python Program to print Prime Numbers from 1 to 100\n",
        "\n",
        "for n in range (1, 101):\n",
        "    count = 0\n",
        "    for i in range(2, (n//2 + 1)):\n",
        "        if(n % i == 0):\n",
        "            count = count + 1\n",
        "            break\n",
        "\n",
        "    if (count == 0 and n != 1):\n",
        "        print(\" %d\" %n, end = '  ')"
      ]
    },
    {
      "cell_type": "code",
      "execution_count": null,
      "metadata": {
        "colab": {
          "base_uri": "https://localhost:8080/"
        },
        "id": "ve90I2fs-3C3",
        "outputId": "718afa2b-44e4-4420-ad70-308c6221a70d"
      },
      "outputs": [
        {
          "name": "stdout",
          "output_type": "stream",
          "text": [
            "After Swapping: x = 5  y = 10\n"
          ]
        }
      ],
      "source": [
        "# Code to swap 'x' and 'y'\n",
        "\n",
        "x = 10\n",
        "y = 5\n",
        "\n",
        "x = x + y\n",
        "y = x - y\n",
        "x = x - y\n",
        "\n",
        "print(\"After Swapping: x =\", x, \" y =\", y)"
      ]
    },
    {
      "cell_type": "code",
      "execution_count": null,
      "metadata": {
        "colab": {
          "base_uri": "https://localhost:8080/"
        },
        "id": "Qtu8vRjzATyG",
        "outputId": "72da1c6f-79c3-4f89-f2d9-350682e18509"
      },
      "outputs": [
        {
          "name": "stdout",
          "output_type": "stream",
          "text": [
            "The value of x after swapping: 10\n",
            "The value of y after swapping: 5\n"
          ]
        }
      ],
      "source": [
        "# Python program to swap two variables\n",
        "\n",
        "x = 5\n",
        "y = 10\n",
        "\n",
        "# z is a temporary variable\n",
        "\n",
        "z = x\n",
        "x = y\n",
        "y = z\n",
        "\n",
        "print('The value of x after swapping: {}'.format(x))\n",
        "print('The value of y after swapping: {}'.format(y))"
      ]
    },
    {
      "cell_type": "code",
      "execution_count": null,
      "metadata": {
        "colab": {
          "base_uri": "https://localhost:8080/"
        },
        "id": "vtAL9-bQCFys",
        "outputId": "0b62e971-cc88-4e42-f18f-6535a38135f8"
      },
      "outputs": [
        {
          "name": "stdout",
          "output_type": "stream",
          "text": [
            "Enter your value for n:5\n",
            "Enter Marks Obtained in 5 Subjects: \n",
            "95\n",
            "95\n",
            "92\n",
            "89\n",
            "86\n",
            "Average Mark = 91.4\n",
            "Percentage Mark = 91.4 %\n"
          ]
        }
      ],
      "source": [
        "# My Favourite one so far \n",
        "# Average Marks and Percentage Marks using for loop\n",
        "marks = []\n",
        "total = 0\n",
        "n = eval(input(\"Enter your value for n:\"))\n",
        "\n",
        "print(\"Enter Marks Obtained in\",n,\"Subjects: \")\n",
        "for i in range(n):\n",
        "    marks.insert(i, int(input()))\n",
        "for i in range(n):\n",
        "    total = total + marks[i]\n",
        "\n",
        "avg = total/n\n",
        "perc = (total*100)/(n*100)\n",
        "\n",
        "print(end=\"Average Mark = \")\n",
        "print(avg)\n",
        "print(end=\"Percentage Mark = \")\n",
        "print(perc,\"%\") "
      ]
    },
    {
      "cell_type": "code",
      "execution_count": null,
      "metadata": {
        "colab": {
          "base_uri": "https://localhost:8080/"
        },
        "id": "gqAkZYWUHBa_",
        "outputId": "711196da-0f1f-4e2d-9769-27d114a277b1"
      },
      "outputs": [
        {
          "name": "stdout",
          "output_type": "stream",
          "text": [
            "Enter the number of rows:5\n",
            "1 \n",
            "1 2 \n",
            "1 2 3 \n",
            "1 2 3 4 \n",
            "1 2 3 4 5 \n"
          ]
        }
      ],
      "source": [
        "# Function to demonstrate printing pattern of numbers\n",
        "\n",
        "rows = eval(input(\"Enter the number of rows:\"))  \n",
        "  \n",
        "# This will print the rows  \n",
        "for i in range(1, rows+1):   \n",
        "    for j in range(1, i + 1):  \n",
        "        print(j, end=' ')  \n",
        "    print(\"\")"
      ]
    },
    {
      "cell_type": "code",
      "execution_count": null,
      "metadata": {
        "colab": {
          "base_uri": "https://localhost:8080/"
        },
        "id": "aLnaZZSGJbZP",
        "outputId": "babce7a4-14ea-4a2e-fc34-ed446a52e838"
      },
      "outputs": [
        {
          "name": "stdout",
          "output_type": "stream",
          "text": [
            "Enter the number of rows:5\n",
            "1 \n",
            "\n",
            "1 2 \n",
            "\n",
            "1 2 3 \n",
            "\n",
            "1 2 3 4 \n",
            "\n",
            "1 2 3 4 5 \n",
            "\n"
          ]
        }
      ],
      "source": [
        "# Function to demonstrate printing pattern of numbers\n",
        "\n",
        "rows = eval(input(\"Enter the number of rows:\"))  \n",
        "  \n",
        "# This will print the rows  \n",
        "for i in range(1, rows+1):   \n",
        "    for j in range(1, i + 1):  \n",
        "        print(j, end=' ')  \n",
        "    print(\"\\n\") "
      ]
    },
    {
      "cell_type": "code",
      "execution_count": null,
      "metadata": {
        "colab": {
          "base_uri": "https://localhost:8080/"
        },
        "id": "50h-Qk_wHUxf",
        "outputId": "66382d9f-4cf1-4e42-a731-ca1a3d753973"
      },
      "outputs": [
        {
          "name": "stdout",
          "output_type": "stream",
          "text": [
            "Enter number of rows:5\n",
            "1 2 3 4 5 \n",
            "1 2 3 4 \n",
            "1 2 3 \n",
            "1 2 \n",
            "1 \n"
          ]
        }
      ],
      "source": [
        "# Function to demonstrate printing pattern of numbers\n",
        "\n",
        "rows = eval(input(\"Enter number of rows:\"))\n",
        "\n",
        "for i in range(rows, 0, -1):\n",
        "    for j in range(1, i+1):\n",
        "        print(j, end=\" \")\n",
        "    print(\"\")"
      ]
    },
    {
      "cell_type": "code",
      "execution_count": null,
      "metadata": {
        "colab": {
          "base_uri": "https://localhost:8080/"
        },
        "id": "MJ75YflrJmwP",
        "outputId": "f63e56dd-b62e-42e1-8818-6d427d192948"
      },
      "outputs": [
        {
          "name": "stdout",
          "output_type": "stream",
          "text": [
            "Enter number of rows:5\n",
            "1 2 3 4 5 \n",
            "\n",
            "1 2 3 4 \n",
            "\n",
            "1 2 3 \n",
            "\n",
            "1 2 \n",
            "\n",
            "1 \n",
            "\n"
          ]
        }
      ],
      "source": [
        "# Function to demonstrate printing pattern of numbers\n",
        "\n",
        "rows = eval(input(\"Enter number of rows:\"))\n",
        "\n",
        "for i in range(rows, 0, -1):\n",
        "    for j in range(1, i+1):\n",
        "        print(j, end=\" \")\n",
        "    print(\"\\n\")"
      ]
    },
    {
      "cell_type": "code",
      "execution_count": null,
      "metadata": {
        "colab": {
          "base_uri": "https://localhost:8080/"
        },
        "id": "uOVNswoG5uqt",
        "outputId": "b4ff2962-7239-409d-85df-f8ebac474262"
      },
      "outputs": [
        {
          "name": "stdout",
          "output_type": "stream",
          "text": [
            "1\n",
            "2\n",
            "3\n",
            "4\n",
            "5\n",
            "6\n",
            "7\n",
            "8\n",
            "9\n",
            "10\n"
          ]
        }
      ],
      "source": [
        "# while loop\n",
        "\n",
        "i = 1\n",
        "while i <= 10:\n",
        "  print(i)\n",
        "  i = i + 1"
      ]
    },
    {
      "cell_type": "code",
      "execution_count": null,
      "metadata": {
        "id": "IiBQ-R8v6V9L"
      },
      "outputs": [],
      "source": [
        "# while loop\n",
        "\n",
        "n = eval(input(\"Enter your value for n:\"))\n",
        "\n",
        "i = 1\n",
        "while i <= n:\n",
        "  print(i) \n",
        "  i = i + 1"
      ]
    },
    {
      "cell_type": "code",
      "execution_count": null,
      "metadata": {
        "colab": {
          "base_uri": "https://localhost:8080/"
        },
        "id": "SQ4cFtgb8V30",
        "outputId": "e04ced75-26aa-4e69-9445-60ee57b01258"
      },
      "outputs": [
        {
          "name": "stdout",
          "output_type": "stream",
          "text": [
            "Enter your value:13\n",
            "factorial = 1\n"
          ]
        }
      ],
      "source": [
        "# factorial\n",
        "\n",
        "n = eval(input(\"Enter your value:\"))\n",
        "factorial = 1\n",
        "i = 1\n",
        "\n",
        "while i >= n:\n",
        "  factorial = factorial * i\n",
        "  i = i - 1\n",
        "\n",
        "print(\"factorial =\",factorial)"
      ]
    },
    {
      "cell_type": "code",
      "execution_count": null,
      "metadata": {
        "colab": {
          "base_uri": "https://localhost:8080/"
        },
        "id": "AAPhASng7mIO",
        "outputId": "058b61e7-6afc-4bdd-da9f-7c1a960d7237"
      },
      "outputs": [
        {
          "name": "stdout",
          "output_type": "stream",
          "text": [
            "Enter your value:5\n",
            "factorial = 120\n"
          ]
        }
      ],
      "source": [
        "# factorial\n",
        "\n",
        "n = eval(input(\"Enter your value:\"))\n",
        "factorial = 1\n",
        "i = 1\n",
        "\n",
        "while i <= n:\n",
        "  factorial = factorial * i\n",
        "  i = i + 1\n",
        "\n",
        "print(\"factorial =\",factorial)"
      ]
    },
    {
      "cell_type": "code",
      "execution_count": null,
      "metadata": {
        "id": "Z2thacwj9CH2"
      },
      "outputs": [],
      "source": [
        "# hello\n",
        "\n",
        "i = 5\n",
        "\n",
        "while i > 0:\n",
        "  print(\"hello\")\n",
        "  print(i)\n",
        "  i = i - 1\n",
        "print(\"The End\")"
      ]
    },
    {
      "cell_type": "code",
      "execution_count": null,
      "metadata": {
        "id": "MYTwmn8x9fV5"
      },
      "outputs": [],
      "source": [
        "# The While Calculator\n",
        "\n",
        "a = eval(input(\"Enter your value:\"))\n",
        "b = eval(input(\"Enter your value:\"))\n",
        "choice = eval(input(\"Enter your value:\"))\n",
        "\n",
        "while choice >= 1 and choice <= 4:\n",
        "  if choice == 1:\n",
        "    c = a + b \n",
        "    print(\"c =\",c)\n",
        "  elif choice == 2:\n",
        "    c = a - b\n",
        "    print(\"c =\",c)\n",
        "  elif choice == 3:\n",
        "    c = a * b\n",
        "    print(\"c =\",c)\n",
        "  elif choice == 4:\n",
        "    c = a / b\n",
        "    print(\"c =\",c)\n",
        "  else:\n",
        "    print(\"Wrong Choice!!!\")\n",
        "  choice = eval(input(\"Enter your value between 1 and 4:\"))\n",
        "print(\"End of Program\")"
      ]
    },
    {
      "cell_type": "code",
      "execution_count": null,
      "metadata": {
        "colab": {
          "base_uri": "https://localhost:8080/"
        },
        "id": "pqSWwu5MBsln",
        "outputId": "0c392c74-971b-433a-c059-2b825ccab379"
      },
      "outputs": [
        {
          "name": "stdout",
          "output_type": "stream",
          "text": [
            "Enter your value:1234567890\n",
            "Sum of digits 45\n",
            "Total no. of digits 10\n"
          ]
        }
      ],
      "source": [
        "# Sum of the digits\n",
        "\n",
        "n = eval(input(\"Enter your value:\"))\n",
        "n = abs(n)\n",
        "count = 0\n",
        "sum = 0\n",
        "\n",
        "while n != 0:\n",
        "  digit = n % 10\n",
        "  count = count + 1\n",
        "  sum = sum + digit\n",
        "  n = n // 10\n",
        "print(\"Sum of digits\",sum)\n",
        "print(\"Total no. of digits\",count)"
      ]
    },
    {
      "cell_type": "code",
      "execution_count": null,
      "metadata": {
        "colab": {
          "base_uri": "https://localhost:8080/"
        },
        "id": "-dssTKspd9rI",
        "outputId": "25090707-b1fe-498d-d34d-6344e7c1af4b"
      },
      "outputs": [
        {
          "name": "stdout",
          "output_type": "stream",
          "text": [
            "Enter your value:5\n",
            "12345\n",
            "1234\n",
            "123\n",
            "12\n",
            "1\n"
          ]
        }
      ],
      "source": [
        "# pattern with while loop\n",
        "\n",
        "n = eval(input(\"Enter your value:\"))\n",
        "i = n\n",
        "while i > 0:\n",
        "  j = 1\n",
        "  while j <= i:\n",
        "    print(j,end='')\n",
        "    j = j + 1\n",
        "  print()\n",
        "  i = i - 1"
      ]
    },
    {
      "cell_type": "code",
      "execution_count": null,
      "metadata": {
        "colab": {
          "base_uri": "https://localhost:8080/"
        },
        "id": "KzZlIVmyfJ2o",
        "outputId": "22bdbd00-38a5-4142-ea9a-7d8ef24aabe1"
      },
      "outputs": [
        {
          "name": "stdout",
          "output_type": "stream",
          "text": [
            "Enter your value:121\n",
            "reversed n = 121\n",
            "n is a palindrome.\n"
          ]
        }
      ],
      "source": [
        "# Python program to reverse a number\n",
        " \n",
        "n = eval(input(\"Enter your value:\"))\n",
        "rev = 0\n",
        "num = n\n",
        "\n",
        "while(n > 0):\n",
        "    a = n % 10\n",
        "    rev = rev * 10 + a\n",
        "    n = n // 10\n",
        "print(\"reversed n =\",rev) \n",
        "if num == rev:\n",
        "  print(\"n is a palindrome.\")\n",
        "else:\n",
        "  print(\"n is not a palindrome.\")"
      ]
    },
    {
      "cell_type": "code",
      "execution_count": null,
      "metadata": {
        "colab": {
          "base_uri": "https://localhost:8080/"
        },
        "id": "1yZQJBpItd21",
        "outputId": "f813ff8f-b554-47e8-94e7-674e5cb5c592"
      },
      "outputs": [
        {
          "name": "stdout",
          "output_type": "stream",
          "text": [
            "Enter your value:48\n",
            "Enter your value:12\n",
            "The gcd of 48 and 12 is:12\n"
          ]
        }
      ],
      "source": [
        "def computeGCD(x,y):\n",
        "  \n",
        "    if x > y:\n",
        "        small = y\n",
        "    else:\n",
        "        small = x\n",
        "    for i in range(1, small+1):\n",
        "        if((x % i == 0) and (y % i == 0)):\n",
        "            gcd = i\n",
        "    return gcd\n",
        "  \n",
        "a = eval(input(\"Enter your value:\"))\n",
        "b = eval(input(\"Enter your value:\"))\n",
        "  \n",
        "\n",
        "print(\"The gcd of\",a,\"and\",b,\"is:\",end=\"\")\n",
        "print(computeGCD(a,b)) "
      ]
    },
    {
      "cell_type": "code",
      "execution_count": null,
      "metadata": {
        "colab": {
          "base_uri": "https://localhost:8080/"
        },
        "id": "AqzH6GS3wH2G",
        "outputId": "1ab04664-c724-4b66-9be5-24d7d1019050"
      },
      "outputs": [
        {
          "name": "stdout",
          "output_type": "stream",
          "text": [
            "Enter your value:56\n",
            "Enter your value:18\n",
            "c = 2\n"
          ]
        }
      ],
      "source": [
        "# GCD\n",
        "\n",
        "import math\n",
        "\n",
        "a = eval(input(\"Enter your value:\"))\n",
        "b = eval(input(\"Enter your value:\"))\n",
        "\n",
        "c = math.gcd(a,b)\n",
        "print(\"c =\",c)"
      ]
    },
    {
      "cell_type": "code",
      "execution_count": null,
      "metadata": {
        "colab": {
          "base_uri": "https://localhost:8080/"
        },
        "id": "EWwJ-nraw_aA",
        "outputId": "8fefe440-a85d-43b6-bef8-ac24c56839b0"
      },
      "outputs": [
        {
          "name": "stdout",
          "output_type": "stream",
          "text": [
            "Enter your value:100\n",
            "Enter your value:24\n",
            "The L.C.M. is 600\n"
          ]
        }
      ],
      "source": [
        "# Python Program to find the L.C.M.\n",
        "\n",
        "def compute_lcm(x, y):\n",
        "\n",
        "   if x > y:\n",
        "       greater = x\n",
        "   else:\n",
        "       greater = y\n",
        "\n",
        "   while(True):\n",
        "       if((greater % x == 0) and (greater % y == 0)):\n",
        "           lcm = greater\n",
        "           break\n",
        "       greater += 1\n",
        "   return lcm\n",
        "\n",
        "a = eval(input(\"Enter your value:\"))\n",
        "b = eval(input(\"Enter your value:\"))\n",
        "\n",
        "print(\"The L.C.M. is\", compute_lcm(a,b)) "
      ]
    },
    {
      "cell_type": "code",
      "execution_count": null,
      "metadata": {
        "colab": {
          "base_uri": "https://localhost:8080/"
        },
        "id": "LlzcEr14Hx3o",
        "outputId": "b575d31a-cfdb-4825-8acd-e469fcefc0a4"
      },
      "outputs": [
        {
          "name": "stdout",
          "output_type": "stream",
          "text": [
            "Enter any number:6\n",
            "The number is a Perfect number!\n"
          ]
        }
      ],
      "source": [
        "# Perfect number\n",
        "\n",
        "n = eval(input(\"Enter any number:\"))\n",
        "sum = 0\n",
        "\n",
        "for i in range(1, n):\n",
        "    if(n % i == 0):\n",
        "        sum = sum + i\n",
        "if (sum == n):\n",
        "    print(\"The number is a Perfect number!\")\n",
        "else:\n",
        "    print(\"The number is not a Perfect number!\") "
      ]
    },
    {
      "cell_type": "code",
      "execution_count": null,
      "metadata": {
        "colab": {
          "base_uri": "https://localhost:8080/"
        },
        "id": "khjdgHpsUCX1",
        "outputId": "901ab33d-8281-4b5f-d1cd-975e7191e709"
      },
      "outputs": [
        {
          "name": "stdout",
          "output_type": "stream",
          "text": [
            "Enter your value:10000\n",
            "Below are all perfect numbers till 10000\n",
            "6  is a perfect number\n",
            "28  is a perfect number\n",
            "496  is a perfect number\n",
            "8128  is a perfect number\n"
          ]
        }
      ],
      "source": [
        "# Python code to check if a given number is perfect or not\n",
        "\n",
        "a = eval(input(\"Enter your value:\"))\n",
        "\n",
        "def isPerfect(n):\n",
        "    \n",
        "    sum = 1\n",
        "    i = 2\n",
        "\n",
        "    while i * i <= n:\n",
        "        if n % i == 0:\n",
        "            sum = sum + i + n/i\n",
        "        i += 1\n",
        "     \n",
        "    return (True if sum == n and n!=1 else False)\n",
        " \n",
        "print(\"Below are all perfect numbers till\",a)\n",
        "n = 2\n",
        "for n in range (a):\n",
        "    if isPerfect (n):\n",
        "        print(n , \" is a perfect number\")"
      ]
    },
    {
      "cell_type": "code",
      "execution_count": null,
      "metadata": {
        "colab": {
          "base_uri": "https://localhost:8080/"
        },
        "id": "cLNHoHkxJLhm",
        "outputId": "6a651cae-0479-4d9f-d39a-863ceefd079b"
      },
      "outputs": [
        {
          "name": "stdout",
          "output_type": "stream",
          "text": [
            "Enter the number of rows:5\n",
            "* \n",
            "* * \n",
            "* * * \n",
            "* * * * \n",
            "* * * * * \n"
          ]
        }
      ],
      "source": [
        "n = eval(input(\"Enter the number of rows:\"))  \n",
        "  \n",
        "for i in range(0, n):   \n",
        "        for j in range(0, i + 1):    \n",
        "            print(\"* \", end=\"\")         \n",
        "        print() "
      ]
    },
    {
      "cell_type": "code",
      "execution_count": null,
      "metadata": {
        "colab": {
          "base_uri": "https://localhost:8080/"
        },
        "id": "q23RXJWrN065",
        "outputId": "7bdad0f9-59b1-44af-b73f-3e1f61eb73fc"
      },
      "outputs": [
        {
          "name": "stdout",
          "output_type": "stream",
          "text": [
            "Enter the number of rows:5\n",
            "* \n",
            "\n",
            "* * \n",
            "\n",
            "* * * \n",
            "\n",
            "* * * * \n",
            "\n",
            "* * * * * \n",
            "\n"
          ]
        }
      ],
      "source": [
        "n = eval(input(\"Enter the number of rows:\"))  \n",
        "  \n",
        "for i in range(0, n):   \n",
        "        for j in range(0, i + 1):    \n",
        "            print(\"* \", end=\"\")         \n",
        "        print(\"\\n\") "
      ]
    },
    {
      "cell_type": "code",
      "execution_count": null,
      "metadata": {
        "colab": {
          "base_uri": "https://localhost:8080/"
        },
        "id": "54hefDkoOnbx",
        "outputId": "1fd060bf-18be-4d88-89cc-2eb5e78ea805"
      },
      "outputs": [
        {
          "name": "stdout",
          "output_type": "stream",
          "text": [
            "Enter the number of rows: 5\n",
            "* * * * *  \n",
            "* * * *  \n",
            "* * *  \n",
            "* *  \n",
            "*  \n",
            " \n"
          ]
        }
      ],
      "source": [
        "rows = eval(input(\"Enter the number of rows: \"))  \n",
        "\n",
        "for i in range(rows + 1, 0, -1):    \n",
        "    for j in range(0, i - 1):  \n",
        "        print(\"*\", end=' ')  \n",
        "    print(\" \") "
      ]
    },
    {
      "cell_type": "code",
      "execution_count": null,
      "metadata": {
        "colab": {
          "base_uri": "https://localhost:8080/"
        },
        "id": "XpijAfnwO5Ik",
        "outputId": "2bb60694-5073-4abd-fd2b-3fafdde83ea0"
      },
      "outputs": [
        {
          "name": "stdout",
          "output_type": "stream",
          "text": [
            "Enter the number of rows: 5\n",
            "* * * * * \n",
            "\n",
            "* * * * \n",
            "\n",
            "* * * \n",
            "\n",
            "* * \n",
            "\n",
            "* \n",
            "\n",
            "\n",
            "\n"
          ]
        }
      ],
      "source": [
        "rows = eval(input(\"Enter the number of rows: \"))  \n",
        "  \n",
        "# the outer loop is executing in reversed order  \n",
        "for i in range(rows + 1, 0, -1):    \n",
        "    for j in range(0, i - 1):  \n",
        "        print(\"*\", end=' ')  \n",
        "    print(\"\\n\") "
      ]
    },
    {
      "cell_type": "code",
      "execution_count": null,
      "metadata": {
        "colab": {
          "base_uri": "https://localhost:8080/"
        },
        "id": "W_DNCeYPPAdr",
        "outputId": "7c881e4d-08f4-4790-d6f8-195b60496317"
      },
      "outputs": [
        {
          "name": "stdout",
          "output_type": "stream",
          "text": [
            "Enter the number of rows: 11\n",
            "The character pattern \n",
            "A \n",
            "B C \n",
            "D E F \n",
            "G H I J \n",
            "K L M N O \n",
            "P Q R S T U \n",
            "V W X Y Z [ \\ \n",
            "] ^ _ ` a b c d \n",
            "e f g h i j k l m \n",
            "n o p q r s t u v w \n",
            "x y z { | } ~     \n"
          ]
        }
      ],
      "source": [
        "n = eval(input(\"Enter the number of rows: \"))\n",
        "\n",
        "print(\"The character pattern \")  \n",
        "\n",
        "asciiValue = 65     #ASCII value of A  \n",
        "for i in range(0,n):  \n",
        "    for j in range(0, i + 1):  \n",
        "        # It will convert the ASCII value to the character  \n",
        "        alphabet = chr(asciiValue)  \n",
        "        print(alphabet, end=' ')  \n",
        "        asciiValue += 1  \n",
        "    print() "
      ]
    },
    {
      "cell_type": "code",
      "execution_count": null,
      "metadata": {
        "colab": {
          "base_uri": "https://localhost:8080/"
        },
        "id": "_sAoH1Y8QKUC",
        "outputId": "cf301b69-533d-446b-837f-4e15be478d35"
      },
      "outputs": [
        {
          "name": "stdout",
          "output_type": "stream",
          "text": [
            "Enter the number of rows: 6\n",
            "******\n",
            "**\n",
            "**\n",
            "**\n",
            "**\n",
            "******\n"
          ]
        }
      ],
      "source": [
        "# \n",
        "n = eval(input(\"Enter the number of rows: \"))\n",
        "\n",
        "for i in range(1,n+1):\n",
        "  if i == 1 or i == n:\n",
        "    print(\"*\" * n)\n",
        "  else:\n",
        "    print(\"*\" * 2)"
      ]
    },
    {
      "cell_type": "code",
      "execution_count": null,
      "metadata": {
        "colab": {
          "base_uri": "https://localhost:8080/"
        },
        "id": "kC0WrPWDR5CX",
        "outputId": "91caf402-73d4-4d69-9c14-2cf39bf12877"
      },
      "outputs": [
        {
          "name": "stdout",
          "output_type": "stream",
          "text": [
            "Enter the number of rows: 4\n",
            "****\n",
            "*  *\n",
            "*  *\n",
            "****\n"
          ]
        }
      ],
      "source": [
        "#\n",
        "n = eval(input(\"Enter the number of rows: \"))\n",
        "for i in range(n):\n",
        "  if i == 0 or i == n-1:\n",
        "    print(\"*\" * n)\n",
        "  else: \n",
        "    print(\"*\",\"\" * (n-2), \"*\")"
      ]
    },
    {
      "cell_type": "code",
      "execution_count": null,
      "metadata": {
        "colab": {
          "base_uri": "https://localhost:8080/"
        },
        "id": "UA88VevvSyDT",
        "outputId": "327ad1fe-6fee-416c-cd59-3e824cd53fd6"
      },
      "outputs": [
        {
          "name": "stdout",
          "output_type": "stream",
          "text": [
            "The character pattern\n",
            "Enter the ASCII value to print pattern: 78\n",
            "Enter the number of rows: 5\n",
            "N \n",
            "N N \n",
            "N N N \n",
            "N N N N \n",
            "N N N N N \n"
          ]
        }
      ],
      "source": [
        "print(\"The character pattern\") \n",
        "\n",
        "asciiValue = eval(input(\"Enter the ASCII value to print pattern: \"))  \n",
        "n = eval(input(\"Enter the number of rows: \"))\n",
        "\n",
        "if (asciiValue >= 33 or asciiValue <= 127):  \n",
        "    for i in range(0,n):  \n",
        "        for j in range(0, i + 1):  \n",
        "            # It will convert the ASCII value to the character  \n",
        "            alphabet = chr(asciiValue)  \n",
        "            print(alphabet, end=' ')  \n",
        "        print()  \n",
        "else:  \n",
        "    print(\"Enter valid character value\") "
      ]
    },
    {
      "cell_type": "code",
      "execution_count": null,
      "metadata": {
        "id": "PhjfDKoHVkJc"
      },
      "outputs": [],
      "source": [
        "#\n",
        "\n",
        "n = eval(input(\"Enter the number of rows: \"))\n",
        "\n",
        "for i in range(0,n):\n",
        "  for j in range(0,n):\n",
        "    if i == 0 or i == n-1:\n",
        "      print(\"*\")\n",
        "    else:\n",
        "      if j == 0 or j == n-1:\n",
        "        print(\"*\")\n",
        "      else:\n",
        "        print(\"\") "
      ]
    },
    {
      "cell_type": "markdown",
      "metadata": {
        "id": "02mjvePG5pf2"
      },
      "source": [
        "# Python continues again (1)"
      ]
    },
    {
      "cell_type": "code",
      "execution_count": null,
      "metadata": {
        "id": "qVOnD_9wSdlP"
      },
      "outputs": [],
      "source": [
        "# My Favourite one so far\n",
        "# Weather \n",
        "\n",
        "from urllib.request import urlopen\n",
        "\n",
        "def get_temperature(city):\n",
        "  url = \"http://wttr.in/\" + city + \"?format=%t\"\n",
        "  page = urlopen(url)\n",
        "  raw = page.read()\n",
        "  temp = raw.decode(\"utf-8\") \n",
        "  return temp\n",
        "\n",
        "city = input(\"City:\")\n",
        "temp = get_temperature(city)\n",
        "print(\"temperature is\",temp)\n",
        "\n",
        "# print(type(temp))\n",
        "# F = temp[1:len(temp)-2]\n",
        "# float(F)\n",
        "# print(F) \n",
        "# C = (F - 32) * 5/9\n",
        "# print(\"temperature in Celsius is\",C,\"°C\") "
      ]
    },
    {
      "cell_type": "code",
      "execution_count": null,
      "metadata": {
        "colab": {
          "base_uri": "https://localhost:8080/"
        },
        "id": "xuI0LfHAYzQX",
        "outputId": "4e3bbb22-c75f-4f0f-99ee-7938722741c7"
      },
      "outputs": [
        {
          "name": "stdout",
          "output_type": "stream",
          "text": [
            "Password:abscs113\n",
            "True\n"
          ]
        }
      ],
      "source": [
        "def check(password):\n",
        "  has_number = False\n",
        "  for i in password:\n",
        "    if i.isdigit():\n",
        "      has_number = True\n",
        "  return has_number\n",
        "\n",
        "password = input(\"Password:\")\n",
        "has_number = check(password)\n",
        "print(has_number) "
      ]
    },
    {
      "cell_type": "code",
      "execution_count": null,
      "metadata": {
        "colab": {
          "base_uri": "https://localhost:8080/"
        },
        "id": "3tTst5jxOPBN",
        "outputId": "bba77f5c-e3f7-45a9-feaa-156a100bdf35"
      },
      "outputs": [
        {
          "data": {
            "text/plain": [
              "datetime.datetime(2022, 11, 5, 13, 33, 11, 697670)"
            ]
          },
          "execution_count": 7,
          "metadata": {},
          "output_type": "execute_result"
        }
      ],
      "source": [
        "from datetime import datetime\n",
        "datetime.now() # Will give time as per GMT"
      ]
    },
    {
      "cell_type": "code",
      "execution_count": null,
      "metadata": {
        "colab": {
          "base_uri": "https://localhost:8080/"
        },
        "id": "aNrfK14JUcUR",
        "outputId": "b44ca0e1-bf03-4cc8-f708-dd60935173ab"
      },
      "outputs": [
        {
          "data": {
            "text/plain": [
              "datetime.timedelta(days=15, seconds=37868, microseconds=95175)"
            ]
          },
          "execution_count": 6,
          "metadata": {},
          "output_type": "execute_result"
        }
      ],
      "source": [
        "# Time till 2022 FIFA World Cup Qatar\n",
        "\n",
        "from datetime import datetime\n",
        "datetime(2022,11,21) - datetime.now()"
      ]
    },
    {
      "cell_type": "code",
      "execution_count": null,
      "metadata": {
        "id": "Kirst0RKK5Os"
      },
      "outputs": [],
      "source": [
        "# My Favourite one so far\n",
        "# birthday days calculator \n",
        "\n",
        "A = eval(input(\"Enter the month for today's date:\"))\n",
        "B = eval(input(\"Enter the day for today's date:\"))\n",
        "a = eval(input(\"Enter the month for bday:\"))\n",
        "b = eval(input(\"Enter the day for bday:\"))\n",
        "\n",
        "from datetime import datetime \n",
        "\n",
        "now = datetime.now() \n",
        "print(\"Exact date and time at present =\",now) \n",
        "\n",
        "date_today = datetime(now.year,A,B)\n",
        "bday = datetime(now.year,a,b)\n",
        "\n",
        "if bday < date_today:\n",
        "  print(\"Your Birthday has passed already!\")\n",
        "elif bday > date_today:\n",
        "  diff = bday - date_today\n",
        "  print(\"days left =\",diff.days)\n",
        "else:\n",
        "  bday == date_today\n",
        "  print(\"Happy Birthday!!!\") "
      ]
    },
    {
      "cell_type": "code",
      "execution_count": null,
      "metadata": {
        "colab": {
          "base_uri": "https://localhost:8080/"
        },
        "id": "iblmKuzHS_Of",
        "outputId": "7c24e441-d3e0-492a-f529-18066675cd5d"
      },
      "outputs": [
        {
          "name": "stdout",
          "output_type": "stream",
          "text": [
            "Text or secret:AKSHIT\n",
            "NXFUVG\n"
          ]
        }
      ],
      "source": [
        "# My Favourite one so far \n",
        "# Secret Message Transmitter \n",
        "\n",
        "MAPPING = {\n",
        "    'A':'N',\n",
        "    'B':'O',\n",
        "    'C':'P',\n",
        "    'D':'Q',\n",
        "    'E':'R',\n",
        "    'F':'S',\n",
        "    'G':'T',\n",
        "    'H':'U',\n",
        "    'I':'V',\n",
        "    'J':'W',\n",
        "    'K':'X',\n",
        "    'L':'Y',\n",
        "    'M':'Z',\n",
        "    'N':'A',\n",
        "    'O':'B',\n",
        "    'P':'C',\n",
        "    'Q':'D',\n",
        "    'R':'E',\n",
        "    'S':'F',\n",
        "    'T':'G',\n",
        "    'U':'H',\n",
        "    'V':'I',\n",
        "    'W':'J',\n",
        "    'X':'K',\n",
        "    'Y':'L',\n",
        "    'Z':'M'\n",
        "}\n",
        "\n",
        "def cipher(original):\n",
        "  text = \"\"\n",
        "  for letter in original:\n",
        "    letter = letter.upper()\n",
        "    new_letter = MAPPING[letter]\n",
        "    text = text + new_letter\n",
        "  return text\n",
        "\n",
        "text = input(\"Text or secret:\")\n",
        "result = cipher(text)\n",
        "print(result) "
      ]
    },
    {
      "cell_type": "code",
      "execution_count": null,
      "metadata": {
        "colab": {
          "base_uri": "https://localhost:8080/"
        },
        "id": "tO3zjnlH-DDs",
        "outputId": "5f838915-3ac2-491f-fd3c-17b7e66ccacb"
      },
      "outputs": [
        {
          "name": "stdout",
          "output_type": "stream",
          "text": [
            "Enter your value:12\n",
            "even\n"
          ]
        }
      ],
      "source": [
        "# Even odd\n",
        "\n",
        "def evenodd(x):\n",
        "  if x % 2 == 0:\n",
        "    return \"even\"\n",
        "  else:\n",
        "    return \"odd\"\n",
        "\n",
        "n = eval(input(\"Enter your value:\"))\n",
        "a = evenodd(n)\n",
        "print(a)"
      ]
    },
    {
      "cell_type": "code",
      "execution_count": null,
      "metadata": {
        "colab": {
          "base_uri": "https://localhost:8080/"
        },
        "id": "DIDgPj3t_Abt",
        "outputId": "a0124393-6b17-413f-9c7c-e209eca76188"
      },
      "outputs": [
        {
          "name": "stdout",
          "output_type": "stream",
          "text": [
            "Enter your value:13\n",
            "odd\n",
            "Enter your value:12\n",
            "even\n",
            "Enter your value:10\n",
            "even\n"
          ]
        }
      ],
      "source": [
        "# Even odd\n",
        "\n",
        "def evenodd(x):\n",
        "  if x % 2 == 0:\n",
        "    return \"even\"\n",
        "  else:\n",
        "    return \"odd\"\n",
        "\n",
        "for i in range(1,4):\n",
        "  n = eval(input(\"Enter your value:\"))\n",
        "  a = evenodd(n)\n",
        "  print(a) "
      ]
    },
    {
      "cell_type": "code",
      "execution_count": null,
      "metadata": {
        "colab": {
          "base_uri": "https://localhost:8080/"
        },
        "id": "zQ3IVrmpBN_M",
        "outputId": "f3e7252f-d1d1-46b2-c12a-1480f686874f"
      },
      "outputs": [
        {
          "name": "stdout",
          "output_type": "stream",
          "text": [
            "Enter no. of terms:3\n",
            "Enter your value:0\n",
            "Enter your value:1\n",
            "c = 1\n",
            "c = 2\n",
            "c = 3\n",
            "c = 5\n"
          ]
        }
      ],
      "source": [
        "# Fibonacci\n",
        "\n",
        "n = eval(input(\"Enter no. of terms:\"))\n",
        "a = eval(input(\"Enter your value:\"))\n",
        "b = eval(input(\"Enter your value:\"))\n",
        "\n",
        "for i in range(0,n+1):\n",
        "  c = a + b\n",
        "  print(\"c =\",c)\n",
        "  a = b\n",
        "  b = c\n",
        "  i = i + 1"
      ]
    },
    {
      "cell_type": "code",
      "execution_count": null,
      "metadata": {
        "colab": {
          "base_uri": "https://localhost:8080/"
        },
        "id": "BbBwEM0iDtFX",
        "outputId": "f3e6d9c1-d41f-444b-e50b-8a0617435a23"
      },
      "outputs": [
        {
          "name": "stdout",
          "output_type": "stream",
          "text": [
            "Enter no. of terms:5\n",
            "0 1\n",
            "c = 1\n",
            "c = 2\n",
            "c = 3\n",
            "c = 5\n",
            "c = 8\n"
          ]
        }
      ],
      "source": [
        "def fibonacci(n):\n",
        "  a = 0\n",
        "  b = 1\n",
        "  print(a,b)\n",
        "\n",
        "  for i in range(1,n+1):\n",
        "    c = a + b\n",
        "    print(\"c =\",c)\n",
        "    a = b\n",
        "    b = c\n",
        "\n",
        "n = eval(input(\"Enter no. of terms:\"))\n",
        "fibonacci(n) "
      ]
    },
    {
      "cell_type": "code",
      "execution_count": null,
      "metadata": {
        "colab": {
          "base_uri": "https://localhost:8080/"
        },
        "id": "fDDCe42PDPWV",
        "outputId": "a668a544-336f-4351-d69e-7f2c1acbd7c6"
      },
      "outputs": [
        {
          "name": "stdout",
          "output_type": "stream",
          "text": [
            "Enter no. of terms:13\n",
            "Fibonacci sequence:\n",
            "0\n",
            "1\n",
            "1\n",
            "2\n",
            "3\n",
            "5\n",
            "8\n",
            "13\n",
            "21\n",
            "34\n",
            "55\n",
            "89\n",
            "144\n"
          ]
        }
      ],
      "source": [
        "# My Favourite one so far \n",
        "# Fibonacci sequence \n",
        "\n",
        "def fibonacci(n_terms):\n",
        "  a = 0\n",
        "  b = 1\n",
        "  count = 0\n",
        "\n",
        "  if n_terms <= 0:\n",
        "    print(\"Please enter a positive integer\")\n",
        "  elif n_terms == 1:\n",
        "    print(\"Fibonacci sequence upto\",n_terms,\":\")\n",
        "    print(a)\n",
        "  else:\n",
        "    print(\"Fibonacci sequence:\")\n",
        "    while count < n_terms:\n",
        "      print(a)\n",
        "      nth = a + b\n",
        "      a = b\n",
        "      b = nth\n",
        "      count = count + 1 \n",
        "\n",
        "n = eval(input(\"Enter no. of terms:\"))\n",
        "fibonacci(n) "
      ]
    },
    {
      "cell_type": "code",
      "execution_count": null,
      "metadata": {
        "colab": {
          "base_uri": "https://localhost:8080/"
        },
        "id": "2-a9B8M6FqZy",
        "outputId": "6aad077a-ec48-4959-df4c-9a512ef49b00"
      },
      "outputs": [
        {
          "name": "stdout",
          "output_type": "stream",
          "text": [
            "Enter no.:13\n",
            "The factors of 13 are:\n",
            "1\n",
            "13\n",
            "n is prime\n"
          ]
        }
      ],
      "source": [
        "# Factors and prime\n",
        "\n",
        "def factors(x):\n",
        "   print(\"The factors of\",x,\"are:\")\n",
        "   for i in range(1, x + 1):\n",
        "       if x % i == 0:\n",
        "           print(i)\n",
        "\n",
        "def prime(x):\n",
        "  if x % 2 == 1:\n",
        "    print(\"n is prime\")\n",
        "\n",
        "n = eval(input(\"Enter no.:\"))\n",
        "\n",
        "factors(n)\n",
        "prime(n) "
      ]
    },
    {
      "cell_type": "code",
      "execution_count": null,
      "metadata": {
        "colab": {
          "base_uri": "https://localhost:8080/"
        },
        "id": "BCm4L0eXZA9x",
        "outputId": "2225a994-f161-4779-ef30-6fe941e354c8"
      },
      "outputs": [
        {
          "name": "stdout",
          "output_type": "stream",
          "text": [
            "Enter your number:67\n",
            "Enter your number:78\n",
            "a = 670\n",
            "b = 819\n",
            "The G.C.D is 1\n",
            "The L.C.M. is 548730\n",
            "670 and 819 are co-prime.\n"
          ]
        }
      ],
      "source": [
        "# My Favourite one so far \n",
        "# GCD, LCM and Co-primes\n",
        "\n",
        "def compute_GCD(x,y):\n",
        "    if x > y:\n",
        "      small = y\n",
        "    else:\n",
        "      small = x\n",
        "    for i in range(1, small+1):\n",
        "        if((x % i == 0) and (y % i == 0)):\n",
        "            gcd = i\n",
        "    return gcd\n",
        "\n",
        "def compute_LCM(x,y):\n",
        "   if x > y:\n",
        "     greater = x\n",
        "   else:\n",
        "     greater = y\n",
        "   while(True):\n",
        "       if((greater % x == 0) and (greater % y == 0)):\n",
        "           lcm = greater\n",
        "           break\n",
        "       greater += 1\n",
        "   return lcm \n",
        "\n",
        "import random\n",
        "\n",
        "value_1 = eval(input(\"Enter your number:\"))\n",
        "value_2 = eval(input(\"Enter your number:\")) \n",
        "\n",
        "a = random.randint(0,1000)\n",
        "b = random.randint(0,1000)\n",
        "\n",
        "print(\"a =\",a)\n",
        "print(\"b =\",b) \n",
        "\n",
        "print(\"The G.C.D is\", compute_GCD(a,b))\n",
        "print(\"The L.C.M. is\", compute_LCM(a,b))\n",
        "\n",
        "if compute_GCD(a,b) == 1:\n",
        "      print(a,\"and\",b,\"are co-prime.\") "
      ]
    },
    {
      "cell_type": "code",
      "execution_count": null,
      "metadata": {
        "colab": {
          "base_uri": "https://localhost:8080/"
        },
        "id": "eaglyfdge48S",
        "outputId": "d67a7533-9a0e-4b2e-e52b-3a5fb5be2fcc"
      },
      "outputs": [
        {
          "name": "stdout",
          "output_type": "stream",
          "text": [
            "Enter your value:13\n",
            "Sum of first 13 odd numbers is: 169\n",
            "Sum of first 13 even numbers is: 182\n"
          ]
        }
      ],
      "source": [
        "# Sum of n odd terms and n even terms\n",
        "\n",
        "def oddSum(n) :\n",
        "    sum = 0\n",
        "    count = 1\n",
        "    i = 0\n",
        "    while i < n:\n",
        "        sum = sum + count \n",
        "        count = count + 2\n",
        "        i = i + 1 \n",
        "    return sum\n",
        "\n",
        "def evenSum(n):\n",
        "    count = 2\n",
        "    sum = 0\n",
        "    i = 1\n",
        "     \n",
        "    while i <= n:\n",
        "        sum += count\n",
        "        count += 2\n",
        "        i = i + 1\n",
        "    return sum\n",
        "\n",
        "n = eval(input(\"Enter your value:\"))\n",
        "print(\"Sum of first\",n,\"odd numbers is:\",oddSum(n))\n",
        "print(\"Sum of first\",n,\"even numbers is:\",evenSum(n)) "
      ]
    },
    {
      "cell_type": "code",
      "execution_count": null,
      "metadata": {
        "id": "bujP6mIbnvrg"
      },
      "outputs": [],
      "source": [
        "def sumodd(n):\n",
        " \n",
        "    return (n * n)\n",
        "\n",
        "def sumeven(n):\n",
        " \n",
        "    return (n * (n + 1))\n",
        "\n",
        "def findSum(num):\n",
        " \n",
        "    sum_odd = 0\n",
        "    sum_even = 0\n",
        "    x = 1\n",
        "    count = 0\n",
        "    ans = 0\n",
        "\n",
        "    while (num > 0):\n",
        "        inc = min(x,num)\n",
        "        num -= inc\n",
        "\n",
        "        if count == 0:\n",
        "          ans = ans + sumodd(sum_odd + inc) - sumodd(sum_odd)\n",
        "          sum_odd += inc\n",
        "        \n",
        "        else:\n",
        "            ans = ans + sumeven(sum_even + inc) - sumeven(sum_even)\n",
        "            sum_even += inc\n",
        "            x *= 2\n",
        "            count ^= 1\n",
        "     \n",
        "    return ans \n",
        "\n",
        "n = eval(input(\"Enter your value:\"))\n",
        "print(findSum(n)) "
      ]
    },
    {
      "cell_type": "code",
      "execution_count": null,
      "metadata": {
        "colab": {
          "base_uri": "https://localhost:8080/"
        },
        "id": "OyXloWnYv0hf",
        "outputId": "03a54df5-e7db-448f-9d04-c1d9a3f1c893"
      },
      "outputs": [
        {
          "name": "stdout",
          "output_type": "stream",
          "text": [
            "Enter your value:3\n",
            "2 9 28 "
          ]
        }
      ],
      "source": [
        "n =eval(input(\"Enter your value:\"))\n",
        "\n",
        "for i in range(1,n+1):\n",
        "  term = i**3 + 1\n",
        "  print(term, end=' ')"
      ]
    },
    {
      "cell_type": "code",
      "execution_count": null,
      "metadata": {
        "colab": {
          "base_uri": "https://localhost:8080/"
        },
        "id": "EbhzCmPhMAv_",
        "outputId": "a24a7819-b984-41c0-9b80-5672568581c1"
      },
      "outputs": [
        {
          "name": "stdout",
          "output_type": "stream",
          "text": [
            "Enter value for n:10\n",
            "1\n",
            "2 4\n",
            "3\n",
            "4 8\n",
            "5\n",
            "6 12\n",
            "7\n",
            "8 16\n",
            "9\n",
            "10 20\n",
            "total = 115\n"
          ]
        }
      ],
      "source": [
        "def series(n):\n",
        "  total = 0\n",
        "  for i in range(1,n+1):\n",
        "    if i % 2 == 0:\n",
        "      print(i,2*i)\n",
        "      total = total + i + 2*i\n",
        "    else:\n",
        "      print(i)\n",
        "      total += i\n",
        "  print('total =',total)\n",
        "\n",
        "n = eval(input(\"Enter value for n:\"))\n",
        "series(n) "
      ]
    },
    {
      "cell_type": "code",
      "execution_count": null,
      "metadata": {
        "colab": {
          "base_uri": "https://localhost:8080/"
        },
        "id": "a4EV7PB7OMsc",
        "outputId": "3ebed096-fdc3-4f87-8854-2e48ea9bf5de"
      },
      "outputs": [
        {
          "name": "stdout",
          "output_type": "stream",
          "text": [
            "Enter value for n:10\n",
            "1\n",
            "2 4\n",
            "3\n",
            "4 8\n",
            "5\n",
            "6 12\n",
            "7\n",
            "8 16\n",
            "9\n",
            "10 20\n"
          ]
        },
        {
          "data": {
            "text/plain": [
              "115"
            ]
          },
          "execution_count": 19,
          "metadata": {},
          "output_type": "execute_result"
        }
      ],
      "source": [
        "def series(n):\n",
        "  total = 0\n",
        "  for i in range(1,n+1):\n",
        "    if i % 2 == 0:\n",
        "      print(i,2*i)\n",
        "      total = total + i + 2*i\n",
        "    else:\n",
        "      print(i)\n",
        "      total += i\n",
        "  return total\n",
        "\n",
        "n = eval(input(\"Enter value for n:\"))\n",
        "series(n) "
      ]
    },
    {
      "cell_type": "code",
      "execution_count": null,
      "metadata": {
        "colab": {
          "base_uri": "https://localhost:8080/"
        },
        "id": "bQm4iyUSOWsi",
        "outputId": "09004b8e-0657-4869-9112-4e39262889fd"
      },
      "outputs": [
        {
          "name": "stdout",
          "output_type": "stream",
          "text": [
            "Enter value for n:20\n",
            "temp in F = 68.0\n",
            "temp in K = 293.15\n"
          ]
        }
      ],
      "source": [
        "# temperature\n",
        "\n",
        "def to_Farhenheit(n):\n",
        "  F = (n * 9/5) + 32\n",
        "  print(\"temp in F =\",F)\n",
        "\n",
        "def to_Kelvin(n):\n",
        "  K = n + 273.15\n",
        "  print(\"temp in K =\",K)\n",
        "\n",
        "n = eval(input(\"Enter value for n:\"))\n",
        "to_Farhenheit(n)\n",
        "to_Kelvin(n) "
      ]
    },
    {
      "cell_type": "code",
      "execution_count": null,
      "metadata": {
        "colab": {
          "base_uri": "https://localhost:8080/"
        },
        "id": "3wogskfKQE17",
        "outputId": "15ad5516-7b1a-45c9-b705-183f1bf0601a"
      },
      "outputs": [
        {
          "name": "stdout",
          "output_type": "stream",
          "text": [
            "Enter no. of terms:3\n",
            "sum is 1.6666666666666667\n"
          ]
        }
      ],
      "source": [
        "# 1/1! + 1/2! + 1/3! + ...... 1/n!\n",
        "\n",
        "def factorial(n):\n",
        "  f = 1\n",
        "  for i in range(1,n+1):\n",
        "    f = f * i\n",
        "  return f\n",
        "\n",
        "n = eval(input(\"Enter no. of terms:\"))\n",
        "sum = 0\n",
        "for i in range(1,n+1):\n",
        "  term = 1/factorial(i)\n",
        "  sum = sum + term\n",
        "print(\"sum is\",sum)"
      ]
    },
    {
      "cell_type": "code",
      "execution_count": null,
      "metadata": {
        "colab": {
          "base_uri": "https://localhost:8080/"
        },
        "id": "_6dqiiHumAY-",
        "outputId": "e2ed9653-a521-4f23-fe25-f8e4f1a645ad"
      },
      "outputs": [
        {
          "name": "stdout",
          "output_type": "stream",
          "text": [
            "my value for sine = 0.5000000000202799\n",
            "a = 0.49999999999999994\n",
            "percentage error = -4.0559888780933315e-09\n"
          ]
        }
      ],
      "source": [
        "# Sine\n",
        "\n",
        "def my_sin(x):\n",
        "  sign = 1\n",
        "  s = 0\n",
        "  for i in range(1,10,2):\n",
        "    f = factorial(i)\n",
        "    term = (x**i)/f*sign\n",
        "    sign = sign*-1\n",
        "    s += term\n",
        "  return s\n",
        "\n",
        "x = math.pi/6\n",
        "ans = my_sin(x)\n",
        "print(\"my value for sine =\",ans)\n",
        "\n",
        "import math\n",
        "\n",
        "a = math.sin(x)\n",
        "print(\"a =\",a)\n",
        "\n",
        "percentage_error = (a - ans)*100/a\n",
        "print(\"percentage error =\",percentage_error)"
      ]
    },
    {
      "cell_type": "code",
      "execution_count": null,
      "metadata": {
        "colab": {
          "base_uri": "https://localhost:8080/"
        },
        "id": "BATmJ1cssT7q",
        "outputId": "49d31cd9-3863-4fc9-8797-b9a4ea0bba53"
      },
      "outputs": [
        {
          "name": "stdout",
          "output_type": "stream",
          "text": [
            "my value for cos = 0.499999566567085\n",
            "a = 0.5000000000000001\n",
            "percentage error = 8.66865830229102e-05\n"
          ]
        }
      ],
      "source": [
        "# Cos\n",
        "\n",
        "def my_cos(x):\n",
        "  sign = 1\n",
        "  s = 0\n",
        "  for i in range(2,10,2):\n",
        "    f = factorial(i)\n",
        "    term = (x**i)/f*sign\n",
        "    sign = sign*-1\n",
        "    s += term\n",
        "  return s\n",
        "\n",
        "x = math.pi/3\n",
        "ans = my_cos(x)\n",
        "print(\"my value for cos =\",ans)\n",
        "\n",
        "import math\n",
        "\n",
        "a = math.cos(x)\n",
        "print(\"a =\",a)\n",
        "\n",
        "percentage_error = (a - ans)*100/a\n",
        "print(\"percentage error =\",percentage_error)"
      ]
    },
    {
      "cell_type": "code",
      "execution_count": null,
      "metadata": {
        "id": "DrfaPuyeusNu"
      },
      "outputs": [],
      "source": [
        "# My Favourite one so far \n",
        "# Trignometric Table Calculator \n",
        "\n",
        "import math \n",
        "import random\n",
        "\n",
        "a = random.randint(-360,360) \n",
        "print(\"angle a in degrees =\",a)\n",
        "\n",
        "x = math.pi * a /180\n",
        "print(\"angle a in radians =\",x)\n",
        "\n",
        "sin = math.sin(x)\n",
        "print(\"sin x =\",sin)\n",
        "\n",
        "cos = math.cos(x)\n",
        "print(\"cos x =\",cos)\n",
        "\n",
        "tan = math.tan(x)\n",
        "print(\"tan x =\",tan)\n",
        "\n",
        "cosec = 1 / math.sin(x)\n",
        "print(\"cosec x =\",cosec)\n",
        "\n",
        "sec = 1 / math.cos(x)\n",
        "print(\"sec x =\",sec)\n",
        "\n",
        "cot = 1 / math.tan(x)\n",
        "print(\"cot x =\",cot) "
      ]
    },
    {
      "cell_type": "code",
      "execution_count": null,
      "metadata": {
        "colab": {
          "base_uri": "https://localhost:8080/"
        },
        "id": "VFP2PAbqygtj",
        "outputId": "64794683-2c8e-4ceb-b132-11bb123d1c92"
      },
      "outputs": [
        {
          "name": "stdout",
          "output_type": "stream",
          "text": [
            "Enter a number: 153\n",
            "153 is an Armstrong number\n"
          ]
        }
      ],
      "source": [
        "# Armstrong No.\n",
        "\n",
        "num = eval(input(\"Enter a number: \"))\n",
        "sum = 0\n",
        "a = num\n",
        "\n",
        "while a > 0:\n",
        "   digit = a % 10\n",
        "   sum += digit ** 3\n",
        "   a //= 10\n",
        "\n",
        "if num == sum:\n",
        "   print(num,\"is an Armstrong number\")\n",
        "else:\n",
        "   print(num,\"is not an Armstrong number\")"
      ]
    },
    {
      "cell_type": "code",
      "execution_count": null,
      "metadata": {
        "colab": {
          "base_uri": "https://localhost:8080/"
        },
        "id": "f66xW0P6zUNr",
        "outputId": "efd703c8-b67c-4f31-e1aa-6f3764c879cb"
      },
      "outputs": [
        {
          "name": "stdout",
          "output_type": "stream",
          "text": [
            "Enter a number:1634\n",
            "1634 is an Armstrong number\n"
          ]
        }
      ],
      "source": [
        "# Armstrong No.\n",
        "\n",
        "num = eval(input(\"Enter a number:\"))\n",
        "order = len(str(num))\n",
        "sum = 0\n",
        "a = num\n",
        "\n",
        "while a > 0:\n",
        "   digit = a % 10\n",
        "   sum += digit ** order\n",
        "   a //= 10\n",
        "\n",
        "if num == sum:\n",
        "   print(num,\"is an Armstrong number\")\n",
        "else:\n",
        "   print(num,\"is not an Armstrong number\")"
      ]
    },
    {
      "cell_type": "code",
      "execution_count": null,
      "metadata": {
        "colab": {
          "base_uri": "https://localhost:8080/"
        },
        "id": "Yz-lqHxEREbq",
        "outputId": "e34afea4-863f-4b7a-ad37-06626ddef67f"
      },
      "outputs": [
        {
          "name": "stdout",
          "output_type": "stream",
          "text": [
            "Enter your value:121\n",
            "reversed n = 121\n",
            "n is a palindrome.\n"
          ]
        }
      ],
      "source": [
        "# Python program to reverse a number\n",
        "\n",
        "def palindrome(n):\n",
        "  num = n\n",
        "  rev = 0\n",
        "  while(n > 0):\n",
        "    a = n % 10\n",
        "    rev = rev * 10 + a\n",
        "    n = n // 10\n",
        "  print(\"reversed n =\",rev) \n",
        "  if num == rev:\n",
        "    print(\"n is a palindrome.\")\n",
        "  else:\n",
        "    print(\"n is not a palindrome.\")\n",
        "\n",
        "n = eval(input(\"Enter your value:\"))\n",
        "palindrome(n) "
      ]
    },
    {
      "cell_type": "code",
      "execution_count": null,
      "metadata": {
        "colab": {
          "base_uri": "https://localhost:8080/"
        },
        "id": "iGzrUZ2DTVZT",
        "outputId": "4449a703-1a99-4b8e-9b2e-968324b4f6ba"
      },
      "outputs": [
        {
          "name": "stdout",
          "output_type": "stream",
          "text": [
            "Enter value:2022\n",
            "2022 is not a leap year\n"
          ]
        }
      ],
      "source": [
        "# Leap year\n",
        "\n",
        "def leap_year(year):\n",
        "  if (year % 400 == 0) and (year % 100 == 0):\n",
        "    print(\"{0} is a leap year\".format(year))\n",
        "  elif (year % 4 ==0) and (year % 100 != 0):\n",
        "    print(\"{0} is a leap year\".format(year))\n",
        "  else:\n",
        "    print(\"{0} is not a leap year\".format(year))\n",
        "\n",
        "n = eval(input(\"Enter value:\"))\n",
        "leap_year(n)"
      ]
    },
    {
      "cell_type": "code",
      "execution_count": null,
      "metadata": {
        "colab": {
          "base_uri": "https://localhost:8080/"
        },
        "id": "s4US-xUXUci3",
        "outputId": "598e095a-8e53-4b54-b60f-ddfa62109e4b"
      },
      "outputs": [
        {
          "name": "stdout",
          "output_type": "stream",
          "text": [
            "Enter any number:6\n",
            "The number is a Perfect number!\n"
          ]
        }
      ],
      "source": [
        "# Perfect number\n",
        "\n",
        "def perfect_number(n):\n",
        "  sum = 0\n",
        "  for i in range(1, n):\n",
        "    if(n % i == 0):\n",
        "        sum = sum + i\n",
        "  if (sum == n):\n",
        "    print(\"The number is a Perfect number!\")\n",
        "  else:\n",
        "    print(\"The number is not a Perfect number!\")\n",
        "\n",
        "n = eval(input(\"Enter any number:\"))\n",
        "perfect_number(n)"
      ]
    },
    {
      "cell_type": "markdown",
      "metadata": {
        "id": "hZFYG8xeXF8s"
      },
      "source": [
        "# Python continues again (2)"
      ]
    },
    {
      "cell_type": "code",
      "execution_count": null,
      "metadata": {
        "colab": {
          "base_uri": "https://localhost:8080/",
          "height": 35
        },
        "id": "QiF0MhjtWKZb",
        "outputId": "f9f4c305-c47c-441e-eb8a-a3f737135a8d"
      },
      "outputs": [
        {
          "data": {
            "application/vnd.google.colaboratory.intrinsic+json": {
              "type": "string"
            },
            "text/plain": [
              "'r'"
            ]
          },
          "execution_count": 8,
          "metadata": {},
          "output_type": "execute_result"
        }
      ],
      "source": [
        "s = \"Hello World\"\n",
        "len(s)\n",
        "s[-3] "
      ]
    },
    {
      "cell_type": "code",
      "execution_count": null,
      "metadata": {
        "colab": {
          "base_uri": "https://localhost:8080/",
          "height": 35
        },
        "id": "01q3HRTcXCsT",
        "outputId": "a5989264-b5f1-4901-beda-775b4601ec57"
      },
      "outputs": [
        {
          "data": {
            "application/vnd.google.colaboratory.intrinsic+json": {
              "type": "string"
            },
            "text/plain": [
              "'v'"
            ]
          },
          "execution_count": 10,
          "metadata": {},
          "output_type": "execute_result"
        }
      ],
      "source": [
        "name = \"Akshit Manchanda loves to travel\"\n",
        "len(name)\n",
        "name[-13] "
      ]
    },
    {
      "cell_type": "code",
      "execution_count": null,
      "metadata": {
        "colab": {
          "base_uri": "https://localhost:8080/",
          "height": 70
        },
        "id": "ZrsQ4p7YYLge",
        "outputId": "c359687e-c30a-4449-b347-f3390c167f68"
      },
      "outputs": [
        {
          "name": "stdout",
          "output_type": "stream",
          "text": [
            "Enter sentence:Akshit Manchanda\n",
            "Enter any number:-13\n"
          ]
        },
        {
          "data": {
            "application/vnd.google.colaboratory.intrinsic+json": {
              "type": "string"
            },
            "text/plain": [
              "'h'"
            ]
          },
          "execution_count": 13,
          "metadata": {},
          "output_type": "execute_result"
        }
      ],
      "source": [
        "sentence = input(\"Enter sentence:\")\n",
        "n = eval(input(\"Enter any number:\"))\n",
        "\n",
        "len(sentence)\n",
        "sentence[n]"
      ]
    },
    {
      "cell_type": "code",
      "execution_count": null,
      "metadata": {
        "colab": {
          "base_uri": "https://localhost:8080/",
          "height": 35
        },
        "id": "m74nskWnZpz6",
        "outputId": "6b8f3794-6358-4e0d-a002-bb467a5e0eb7"
      },
      "outputs": [
        {
          "data": {
            "application/vnd.google.colaboratory.intrinsic+json": {
              "type": "string"
            },
            "text/plain": [
              "'C'"
            ]
          },
          "execution_count": 14,
          "metadata": {},
          "output_type": "execute_result"
        }
      ],
      "source": [
        "max(\"A\",\"AZ\",\"C\",\"BD\",\"BT\")"
      ]
    },
    {
      "cell_type": "code",
      "execution_count": null,
      "metadata": {
        "colab": {
          "base_uri": "https://localhost:8080/",
          "height": 35
        },
        "id": "msE3wDzBa3Ih",
        "outputId": "7c6fd35b-aed6-43d0-e1b7-70ff93cfae8d"
      },
      "outputs": [
        {
          "data": {
            "application/vnd.google.colaboratory.intrinsic+json": {
              "type": "string"
            },
            "text/plain": [
              "' aaa '"
            ]
          },
          "execution_count": 15,
          "metadata": {},
          "output_type": "execute_result"
        }
      ],
      "source": [
        "min(\"Aaaa\",\"aa\",\" aaa \",\"baa\")"
      ]
    },
    {
      "cell_type": "code",
      "execution_count": null,
      "metadata": {
        "colab": {
          "base_uri": "https://localhost:8080/",
          "height": 35
        },
        "id": "YKS6df7kXRAP",
        "outputId": "c03f2eb8-ffff-4d83-fa4f-cfb3f4acd634"
      },
      "outputs": [
        {
          "data": {
            "application/vnd.google.colaboratory.intrinsic+json": {
              "type": "string"
            },
            "text/plain": [
              "' WORLD'"
            ]
          },
          "execution_count": 9,
          "metadata": {},
          "output_type": "execute_result"
        }
      ],
      "source": [
        "S = \"HELLO WORLD\"\n",
        "len(S)\n",
        "S[5:] "
      ]
    },
    {
      "cell_type": "code",
      "execution_count": null,
      "metadata": {
        "colab": {
          "base_uri": "https://localhost:8080/",
          "height": 35
        },
        "id": "rILiDT6YaJPq",
        "outputId": "c60f4ea2-96b8-4b9a-e6ba-decc7edef49f"
      },
      "outputs": [
        {
          "data": {
            "application/vnd.google.colaboratory.intrinsic+json": {
              "type": "string"
            },
            "text/plain": [
              "'HELLO WORLD'"
            ]
          },
          "execution_count": 10,
          "metadata": {},
          "output_type": "execute_result"
        }
      ],
      "source": [
        "S[:]"
      ]
    },
    {
      "cell_type": "code",
      "execution_count": null,
      "metadata": {
        "colab": {
          "base_uri": "https://localhost:8080/",
          "height": 35
        },
        "id": "Wwo33axkaPf-",
        "outputId": "e2342af9-6233-4c4d-ae2a-1b228e423f52"
      },
      "outputs": [
        {
          "data": {
            "application/vnd.google.colaboratory.intrinsic+json": {
              "type": "string"
            },
            "text/plain": [
              "'HELLO WORLD'"
            ]
          },
          "execution_count": 11,
          "metadata": {},
          "output_type": "execute_result"
        }
      ],
      "source": [
        "S[:11]"
      ]
    },
    {
      "cell_type": "code",
      "execution_count": null,
      "metadata": {
        "colab": {
          "base_uri": "https://localhost:8080/",
          "height": 35
        },
        "id": "b2WEuVxsaXjZ",
        "outputId": "ecfeaa5c-7012-4209-f89c-58a66e619afe"
      },
      "outputs": [
        {
          "data": {
            "application/vnd.google.colaboratory.intrinsic+json": {
              "type": "string"
            },
            "text/plain": [
              "'HELLO WORLD'"
            ]
          },
          "execution_count": 12,
          "metadata": {},
          "output_type": "execute_result"
        }
      ],
      "source": [
        "S[:15]+S[15:]"
      ]
    },
    {
      "cell_type": "code",
      "execution_count": null,
      "metadata": {
        "colab": {
          "base_uri": "https://localhost:8080/",
          "height": 35
        },
        "id": "mcnVza8Paf_G",
        "outputId": "790943cf-709a-458e-8ed2-7c2ca4924adb"
      },
      "outputs": [
        {
          "data": {
            "application/vnd.google.colaboratory.intrinsic+json": {
              "type": "string"
            },
            "text/plain": [
              "''"
            ]
          },
          "execution_count": 13,
          "metadata": {},
          "output_type": "execute_result"
        }
      ],
      "source": [
        "S[15:0]"
      ]
    },
    {
      "cell_type": "code",
      "execution_count": null,
      "metadata": {
        "colab": {
          "base_uri": "https://localhost:8080/",
          "height": 35
        },
        "id": "1COMtwEiak5P",
        "outputId": "763296ff-9481-420c-b6fe-ad13ec07f6b2"
      },
      "outputs": [
        {
          "data": {
            "application/vnd.google.colaboratory.intrinsic+json": {
              "type": "string"
            },
            "text/plain": [
              "'HLOWRD'"
            ]
          },
          "execution_count": 14,
          "metadata": {},
          "output_type": "execute_result"
        }
      ],
      "source": [
        "S[0:len(S):2]"
      ]
    },
    {
      "cell_type": "code",
      "execution_count": null,
      "metadata": {
        "colab": {
          "base_uri": "https://localhost:8080/",
          "height": 35
        },
        "id": "Rk5aYCwZavOH",
        "outputId": "74bb02ed-5d7c-4b5a-c1f6-021f5f915151"
      },
      "outputs": [
        {
          "data": {
            "application/vnd.google.colaboratory.intrinsic+json": {
              "type": "string"
            },
            "text/plain": [
              "'HLWL'"
            ]
          },
          "execution_count": 15,
          "metadata": {},
          "output_type": "execute_result"
        }
      ],
      "source": [
        "S[0:len(S):3] "
      ]
    },
    {
      "cell_type": "code",
      "execution_count": null,
      "metadata": {
        "colab": {
          "base_uri": "https://localhost:8080/",
          "height": 35
        },
        "id": "8S4h4YNSa5PA",
        "outputId": "9a7848a9-fda9-46b7-f891-707c883e13c8"
      },
      "outputs": [
        {
          "data": {
            "application/vnd.google.colaboratory.intrinsic+json": {
              "type": "string"
            },
            "text/plain": [
              "'DRWO'"
            ]
          },
          "execution_count": 16,
          "metadata": {},
          "output_type": "execute_result"
        }
      ],
      "source": [
        "S[-1:-9:-2]"
      ]
    },
    {
      "cell_type": "code",
      "execution_count": null,
      "metadata": {
        "colab": {
          "base_uri": "https://localhost:8080/"
        },
        "id": "_SDasATdbQta",
        "outputId": "04d1fca8-0dbc-417b-aa19-cd5c088eca67"
      },
      "outputs": [
        {
          "data": {
            "text/plain": [
              "3"
            ]
          },
          "execution_count": 17,
          "metadata": {},
          "output_type": "execute_result"
        }
      ],
      "source": [
        "\"hello how are are you\".count(\"o\")"
      ]
    },
    {
      "cell_type": "code",
      "execution_count": null,
      "metadata": {
        "colab": {
          "base_uri": "https://localhost:8080/"
        },
        "id": "PGkeBczic3C_",
        "outputId": "6ed33a4f-7944-4598-b588-6273fcd2a840"
      },
      "outputs": [
        {
          "data": {
            "text/plain": [
              "3"
            ]
          },
          "execution_count": 18,
          "metadata": {},
          "output_type": "execute_result"
        }
      ],
      "source": [
        "S = \"hello how are are you\"\n",
        "S.count(\"o\")"
      ]
    },
    {
      "cell_type": "code",
      "execution_count": null,
      "metadata": {
        "colab": {
          "base_uri": "https://localhost:8080/"
        },
        "id": "K4GSn4n9dH7c",
        "outputId": "49c4727b-b51c-4399-b744-47f07c81b82e"
      },
      "outputs": [
        {
          "name": "stdout",
          "output_type": "stream",
          "text": [
            "11\n"
          ]
        }
      ],
      "source": [
        "quote = \"Let it be, let it be, let it be\"\n",
        "result = quote.find(\"let it\")\n",
        "print(result)"
      ]
    },
    {
      "cell_type": "code",
      "execution_count": null,
      "metadata": {
        "colab": {
          "base_uri": "https://localhost:8080/"
        },
        "id": "4ZAG4DqGfJ9h",
        "outputId": "a7f93fc5-0c41-4eb4-fb70-498f3cafa15d"
      },
      "outputs": [
        {
          "name": "stdout",
          "output_type": "stream",
          "text": [
            "22\n"
          ]
        }
      ],
      "source": [
        "quote = \"Let it be, let it be, let it be\"\n",
        "result = quote.rfind(\"let it\")\n",
        "print(result)"
      ]
    },
    {
      "cell_type": "code",
      "execution_count": null,
      "metadata": {
        "colab": {
          "base_uri": "https://localhost:8080/"
        },
        "id": "YF-thmyQfXs7",
        "outputId": "7bd6edfa-c804-4f39-b749-351f3471beda"
      },
      "outputs": [
        {
          "name": "stdout",
          "output_type": "stream",
          "text": [
            "Hello, welcome to my world\n"
          ]
        }
      ],
      "source": [
        "txt = \"hello, welcome to my world\"\n",
        "x = txt.capitalize()\n",
        "print(x)"
      ]
    },
    {
      "cell_type": "code",
      "execution_count": null,
      "metadata": {
        "colab": {
          "base_uri": "https://localhost:8080/",
          "height": 35
        },
        "id": "DlsZ3oyHgMNI",
        "outputId": "6d3c84b8-acd9-4a15-f22f-8b63167364ac"
      },
      "outputs": [
        {
          "data": {
            "application/vnd.google.colaboratory.intrinsic+json": {
              "type": "string"
            },
            "text/plain": [
              "'Hello How Are You'"
            ]
          },
          "execution_count": 24,
          "metadata": {},
          "output_type": "execute_result"
        }
      ],
      "source": [
        "Str = \"hello how are you\"\n",
        "Str.title()\n"
      ]
    },
    {
      "cell_type": "code",
      "execution_count": null,
      "metadata": {
        "colab": {
          "base_uri": "https://localhost:8080/",
          "height": 35
        },
        "id": "Eb2Vxg6cgdXZ",
        "outputId": "9390e7fb-d177-4955-9454-454630789262"
      },
      "outputs": [
        {
          "data": {
            "application/vnd.google.colaboratory.intrinsic+json": {
              "type": "string"
            },
            "text/plain": [
              "'hello how are you'"
            ]
          },
          "execution_count": 25,
          "metadata": {},
          "output_type": "execute_result"
        }
      ],
      "source": [
        "Str = \"HELLO How ARE you\"\n",
        "Str.lower()"
      ]
    },
    {
      "cell_type": "code",
      "execution_count": null,
      "metadata": {
        "colab": {
          "base_uri": "https://localhost:8080/",
          "height": 35
        },
        "id": "La678y7Kg0Wp",
        "outputId": "14a48d34-26e2-4261-8123-0fb32d2a4014"
      },
      "outputs": [
        {
          "data": {
            "application/vnd.google.colaboratory.intrinsic+json": {
              "type": "string"
            },
            "text/plain": [
              "'HELLO HOW ARE YOU'"
            ]
          },
          "execution_count": 26,
          "metadata": {},
          "output_type": "execute_result"
        }
      ],
      "source": [
        "Str = \"HELLO How ARE you\"\n",
        "Str.upper()"
      ]
    },
    {
      "cell_type": "code",
      "execution_count": null,
      "metadata": {
        "colab": {
          "base_uri": "https://localhost:8080/",
          "height": 35
        },
        "id": "H4n4qC7Dg-hS",
        "outputId": "6b74b710-0d47-4d0a-9e15-b94ce8b71dfe"
      },
      "outputs": [
        {
          "data": {
            "application/vnd.google.colaboratory.intrinsic+json": {
              "type": "string"
            },
            "text/plain": [
              "'wELCOME TO cs ge cLASS'"
            ]
          },
          "execution_count": 27,
          "metadata": {},
          "output_type": "execute_result"
        }
      ],
      "source": [
        "\"Welcome to CS GE Class\".swapcase()"
      ]
    },
    {
      "cell_type": "code",
      "execution_count": null,
      "metadata": {
        "colab": {
          "base_uri": "https://localhost:8080/",
          "height": 35
        },
        "id": "oajc0eEzhMcO",
        "outputId": "675ff02c-a43c-4c1b-f97b-bde98c331404"
      },
      "outputs": [
        {
          "data": {
            "application/vnd.google.colaboratory.intrinsic+json": {
              "type": "string"
            },
            "text/plain": [
              "'ssalc y'"
            ]
          },
          "execution_count": 28,
          "metadata": {},
          "output_type": "execute_result"
        }
      ],
      "source": [
        "a = \"welcome to my class\"\n",
        "a[:-8:-1]"
      ]
    },
    {
      "cell_type": "code",
      "execution_count": null,
      "metadata": {
        "colab": {
          "base_uri": "https://localhost:8080/",
          "height": 35
        },
        "id": "piOXiDjtkudB",
        "outputId": "20a4bbbe-26f1-4a9a-83f0-c382939b4d5f"
      },
      "outputs": [
        {
          "data": {
            "application/vnd.google.colaboratory.intrinsic+json": {
              "type": "string"
            },
            "text/plain": [
              "'WELCO'"
            ]
          },
          "execution_count": 29,
          "metadata": {},
          "output_type": "execute_result"
        }
      ],
      "source": [
        "a[:5].swapcase()"
      ]
    },
    {
      "cell_type": "code",
      "execution_count": null,
      "metadata": {
        "colab": {
          "base_uri": "https://localhost:8080/"
        },
        "id": "6A07SPscAWok",
        "outputId": "47acaa14-42ce-4b95-96be-130a06b1e1dd"
      },
      "outputs": [
        {
          "data": {
            "text/plain": [
              "False"
            ]
          },
          "execution_count": 2,
          "metadata": {},
          "output_type": "execute_result"
        }
      ],
      "source": [
        "\"123 aa aa aa\".istitle()"
      ]
    },
    {
      "cell_type": "code",
      "execution_count": null,
      "metadata": {
        "colab": {
          "base_uri": "https://localhost:8080/"
        },
        "id": "YxVJ_jHlAlWs",
        "outputId": "4e04dbed-cc7a-4076-f247-d18d8112728f"
      },
      "outputs": [
        {
          "data": {
            "text/plain": [
              "False"
            ]
          },
          "execution_count": 3,
          "metadata": {},
          "output_type": "execute_result"
        }
      ],
      "source": [
        "\"A123 a a a\".istitle()"
      ]
    },
    {
      "cell_type": "code",
      "execution_count": null,
      "metadata": {
        "colab": {
          "base_uri": "https://localhost:8080/"
        },
        "id": "OJGxG5gWAyaV",
        "outputId": "de931f60-ce6d-4fe7-e4dd-e9563528fa1a"
      },
      "outputs": [
        {
          "data": {
            "text/plain": [
              "True"
            ]
          },
          "execution_count": 4,
          "metadata": {},
          "output_type": "execute_result"
        }
      ],
      "source": [
        "\"A123 Aa Ba\".istitle()"
      ]
    },
    {
      "cell_type": "code",
      "execution_count": null,
      "metadata": {
        "colab": {
          "base_uri": "https://localhost:8080/"
        },
        "id": "i2EzF44vA-K9",
        "outputId": "c30dab88-0439-4d2e-c2e1-7c43a505ae65"
      },
      "outputs": [
        {
          "data": {
            "text/plain": [
              "False"
            ]
          },
          "execution_count": 6,
          "metadata": {},
          "output_type": "execute_result"
        }
      ],
      "source": [
        "\"@A AAA A B C\".istitle()"
      ]
    },
    {
      "cell_type": "code",
      "execution_count": null,
      "metadata": {
        "colab": {
          "base_uri": "https://localhost:8080/"
        },
        "id": "G0zwX29nBML6",
        "outputId": "2ae23890-9e8a-41ce-e1ca-6e133fe87b90"
      },
      "outputs": [
        {
          "data": {
            "text/plain": [
              "['Welcome', 'to', 'CS', 'class']"
            ]
          },
          "execution_count": 7,
          "metadata": {},
          "output_type": "execute_result"
        }
      ],
      "source": [
        "a = \"Welcome to CS class\"\n",
        "a.split()"
      ]
    },
    {
      "cell_type": "code",
      "execution_count": null,
      "metadata": {
        "colab": {
          "base_uri": "https://localhost:8080/"
        },
        "id": "MOzU9rqDBUqm",
        "outputId": "9a8f679d-d955-430c-808a-26fe9005d4bc"
      },
      "outputs": [
        {
          "data": {
            "text/plain": [
              "['Welcome ', ' CS class']"
            ]
          },
          "execution_count": 8,
          "metadata": {},
          "output_type": "execute_result"
        }
      ],
      "source": [
        "a.split(\"to\")"
      ]
    },
    {
      "cell_type": "code",
      "execution_count": null,
      "metadata": {
        "colab": {
          "base_uri": "https://localhost:8080/"
        },
        "id": "WQbQoNwtBZqg",
        "outputId": "b7f531c2-4d3a-4f5c-a04f-0fb823d57076"
      },
      "outputs": [
        {
          "data": {
            "text/plain": [
              "['Welcome to CS class']"
            ]
          },
          "execution_count": 9,
          "metadata": {},
          "output_type": "execute_result"
        }
      ],
      "source": [
        "a.split(\"Class\")"
      ]
    },
    {
      "cell_type": "code",
      "execution_count": null,
      "metadata": {
        "colab": {
          "base_uri": "https://localhost:8080/",
          "height": 35
        },
        "id": "cs9zlJptBzaj",
        "outputId": "3a04b71a-ea8f-4797-c298-f480e9256280"
      },
      "outputs": [
        {
          "data": {
            "application/vnd.google.colaboratory.intrinsic+json": {
              "type": "string"
            },
            "text/plain": [
              "'Welcome to Python class'"
            ]
          },
          "execution_count": 10,
          "metadata": {},
          "output_type": "execute_result"
        }
      ],
      "source": [
        "a.replace(\"CS\",\"Python\")"
      ]
    },
    {
      "cell_type": "code",
      "execution_count": null,
      "metadata": {
        "colab": {
          "base_uri": "https://localhost:8080/"
        },
        "id": "xCzT2UgcCDIg",
        "outputId": "9b3c8430-8465-4544-ad0b-dad7a03177d0"
      },
      "outputs": [
        {
          "data": {
            "text/plain": [
              "['svf', 'dfvdh', 'dfdhfj', 'jeieir', 'jvjdbj', 'weuyqwu', 'mcxbnm']"
            ]
          },
          "execution_count": 11,
          "metadata": {},
          "output_type": "execute_result"
        }
      ],
      "source": [
        "b = \"svf dfvdh dfdhfj jeieir jvjdbj weuyqwu mcxbnm\"\n",
        "b.split()"
      ]
    },
    {
      "cell_type": "code",
      "execution_count": null,
      "metadata": {
        "colab": {
          "base_uri": "https://localhost:8080/"
        },
        "id": "pQoCvpInCNUG",
        "outputId": "6da479c6-8e00-4f40-eea9-aa2c581529e0"
      },
      "outputs": [
        {
          "data": {
            "text/plain": [
              "45"
            ]
          },
          "execution_count": 12,
          "metadata": {},
          "output_type": "execute_result"
        }
      ],
      "source": [
        "len(b)"
      ]
    },
    {
      "cell_type": "code",
      "execution_count": null,
      "metadata": {
        "colab": {
          "base_uri": "https://localhost:8080/",
          "height": 35
        },
        "id": "0LH3XE-YCUFL",
        "outputId": "7776577e-11d2-4874-d0fc-273d655deebe"
      },
      "outputs": [
        {
          "data": {
            "application/vnd.google.colaboratory.intrinsic+json": {
              "type": "string"
            },
            "text/plain": [
              "'android is awesome'"
            ]
          },
          "execution_count": 13,
          "metadata": {},
          "output_type": "execute_result"
        }
      ],
      "source": [
        "string = \" android is awesome \"\n",
        "string.strip()"
      ]
    },
    {
      "cell_type": "code",
      "execution_count": null,
      "metadata": {
        "colab": {
          "base_uri": "https://localhost:8080/",
          "height": 35
        },
        "id": "jn8ebADADBP1",
        "outputId": "70697839-99e0-4719-e2b0-be3236e8be52"
      },
      "outputs": [
        {
          "data": {
            "application/vnd.google.colaboratory.intrinsic+json": {
              "type": "string"
            },
            "text/plain": [
              "'droid is awesome'"
            ]
          },
          "execution_count": 15,
          "metadata": {},
          "output_type": "execute_result"
        }
      ],
      "source": [
        "string = \"android is awesome\"\n",
        "string.strip(\"an\")"
      ]
    },
    {
      "cell_type": "code",
      "execution_count": null,
      "metadata": {
        "colab": {
          "base_uri": "https://localhost:8080/",
          "height": 35
        },
        "id": "Y0WEYkIGDMEy",
        "outputId": "cf223244-ea26-4e6a-e0a6-f8c459eb7620"
      },
      "outputs": [
        {
          "data": {
            "application/vnd.google.colaboratory.intrinsic+json": {
              "type": "string"
            },
            "text/plain": [
              "' chgdddgd '"
            ]
          },
          "execution_count": 19,
          "metadata": {},
          "output_type": "execute_result"
        }
      ],
      "source": [
        "a = \"aa chgdddgd aa\"\n",
        "a.strip(\"aa\")"
      ]
    },
    {
      "cell_type": "code",
      "execution_count": null,
      "metadata": {
        "colab": {
          "base_uri": "https://localhost:8080/",
          "height": 35
        },
        "id": "ndZyoWAUDqh3",
        "outputId": "83f118ed-d034-49be-e2cf-cd85879d9779"
      },
      "outputs": [
        {
          "data": {
            "application/vnd.google.colaboratory.intrinsic+json": {
              "type": "string"
            },
            "text/plain": [
              "' a chgdddgd a '"
            ]
          },
          "execution_count": 20,
          "metadata": {},
          "output_type": "execute_result"
        }
      ],
      "source": [
        "a = \"aa a chgdddgd a aa\"\n",
        "a.strip(\"a\")"
      ]
    },
    {
      "cell_type": "code",
      "execution_count": null,
      "metadata": {
        "colab": {
          "base_uri": "https://localhost:8080/",
          "height": 35
        },
        "id": "mwl_Y7CdEJUs",
        "outputId": "3acbbe48-717f-4440-c7c2-7d735f0fb4ea"
      },
      "outputs": [
        {
          "data": {
            "application/vnd.google.colaboratory.intrinsic+json": {
              "type": "string"
            },
            "text/plain": [
              "'jhjhktuytuyuyvbcnbv'"
            ]
          },
          "execution_count": 21,
          "metadata": {},
          "output_type": "execute_result"
        }
      ],
      "source": [
        "b = \"anananananjhjhktuytuyuyvbcnbvanananananan\"\n",
        "b.strip(\"an\")"
      ]
    },
    {
      "cell_type": "code",
      "execution_count": null,
      "metadata": {
        "colab": {
          "base_uri": "https://localhost:8080/",
          "height": 35
        },
        "id": "uAdfg56dE5fg",
        "outputId": "124bb45d-c2bf-4110-e9c2-b73c19e0148b"
      },
      "outputs": [
        {
          "data": {
            "application/vnd.google.colaboratory.intrinsic+json": {
              "type": "string"
            },
            "text/plain": [
              "' jhjh anananana baaana hhhh '"
            ]
          },
          "execution_count": 22,
          "metadata": {},
          "output_type": "execute_result"
        }
      ],
      "source": [
        "c = \"abbbanananan jhjh anananana baaana hhhh ananana\"\n",
        "c.strip(\"anb\")"
      ]
    },
    {
      "cell_type": "code",
      "execution_count": null,
      "metadata": {
        "colab": {
          "base_uri": "https://localhost:8080/",
          "height": 35
        },
        "id": "Lq_DFDr4FY1k",
        "outputId": "8383bfa7-885e-4ab7-ed2c-1ed7f4c64c24"
      },
      "outputs": [
        {
          "data": {
            "application/vnd.google.colaboratory.intrinsic+json": {
              "type": "string"
            },
            "text/plain": [
              "' are studying python. we are studying strings.'"
            ]
          },
          "execution_count": 23,
          "metadata": {},
          "output_type": "execute_result"
        }
      ],
      "source": [
        "s = \"wewewewewewewewewewewewewe are studying python. we are studying strings.\" \n",
        "s.strip(\"we\")"
      ]
    },
    {
      "cell_type": "code",
      "execution_count": null,
      "metadata": {
        "colab": {
          "base_uri": "https://localhost:8080/",
          "height": 35
        },
        "id": "82Di7CvxGtwW",
        "outputId": "4290450c-21cd-4702-a20b-fa69848ed0cc"
      },
      "outputs": [
        {
          "data": {
            "application/vnd.google.colaboratory.intrinsic+json": {
              "type": "string"
            },
            "text/plain": [
              "'this is good '"
            ]
          },
          "execution_count": 24,
          "metadata": {},
          "output_type": "execute_result"
        }
      ],
      "source": [
        "string = \" this is good \"\n",
        "string.lstrip()"
      ]
    },
    {
      "cell_type": "code",
      "execution_count": null,
      "metadata": {
        "colab": {
          "base_uri": "https://localhost:8080/",
          "height": 35
        },
        "id": "chV_TTDEG_Ze",
        "outputId": "d2e397fd-6fa7-47ba-e31f-8830237744a1"
      },
      "outputs": [
        {
          "data": {
            "application/vnd.google.colaboratory.intrinsic+json": {
              "type": "string"
            },
            "text/plain": [
              "'www.programiz.com/'"
            ]
          },
          "execution_count": 25,
          "metadata": {},
          "output_type": "execute_result"
        }
      ],
      "source": [
        "string = \"https://www.programiz.com/\"\n",
        "string.lstrip(\"https://\")"
      ]
    },
    {
      "cell_type": "code",
      "execution_count": null,
      "metadata": {
        "colab": {
          "base_uri": "https://localhost:8080/"
        },
        "id": "zE7kOljSl_45",
        "outputId": "f013233c-9ff5-46d4-f3ac-2ccf78d8c554"
      },
      "outputs": [
        {
          "name": "stdout",
          "output_type": "stream",
          "text": [
            "Enter string:Akshit Manchanda\n",
            "Number of vowels are: 5\n"
          ]
        }
      ],
      "source": [
        "# Vowel counter\n",
        "\n",
        "a_string = input(\"Enter string:\")\n",
        "vowels = 0\n",
        "\n",
        "for i in a_string:\n",
        "      if(i=='a' or i=='e' or i=='i' or i=='o' or i=='u' or i=='A' or i=='E' or i=='I' or i=='O' or i=='U'):\n",
        "            vowels = vowels + 1\n",
        "print(\"Number of vowels are:\",vowels)"
      ]
    },
    {
      "cell_type": "code",
      "execution_count": null,
      "metadata": {
        "colab": {
          "base_uri": "https://localhost:8080/"
        },
        "id": "BJhDSKG4cJjc",
        "outputId": "eff319a9-cf20-4157-b72b-0e5dbf76227c"
      },
      "outputs": [
        {
          "name": "stdout",
          "output_type": "stream",
          "text": [
            "Enter a string:Akshit Manchanda\n",
            "{'a': 4, 'e': 0, 'i': 1, 'o': 0, 'u': 0}\n"
          ]
        }
      ],
      "source": [
        "# Vowel counter\n",
        "\n",
        "a_string = input(\"Enter a string:\")\n",
        "lowercase = a_string.lower()\n",
        "vowel_counts = {}\n",
        "\n",
        "for vowel in \"aeiou\":\n",
        "    count = lowercase.count(vowel)\n",
        "    vowel_counts[vowel] = count\n",
        "\n",
        "print(vowel_counts)"
      ]
    },
    {
      "cell_type": "code",
      "execution_count": null,
      "metadata": {
        "colab": {
          "base_uri": "https://localhost:8080/"
        },
        "id": "_fG_1LW_p6zv",
        "outputId": "dfc271fa-38b2-4e10-9208-f6853829a3e8"
      },
      "outputs": [
        {
          "name": "stdout",
          "output_type": "stream",
          "text": [
            "Enter a string:Akshit Manchanda\n",
            "{'a': 4, 'e': 0, 'i': 1, 'o': 0, 'u': 0}\n",
            "{'b': 0, 'c': 1, 'd': 1, 'f': 0, 'g': 0, 'h': 2, 'j': 0, 'k': 1, 'l': 0, 'm': 1, 'n': 2, 'p': 0, 'q': 0, 'r': 0, 's': 1, 't': 1, 'v': 0, 'w': 0, 'x': 0, 'y': 0, 'z': 0}\n"
          ]
        }
      ],
      "source": [
        "# Vowel and consonant counter\n",
        "\n",
        "a_string = input(\"Enter a string:\")\n",
        "lowercase = a_string.lower()\n",
        "vowel_counts = {}\n",
        "consonant_counts = {}\n",
        "\n",
        "for vowel in \"aeiou\":\n",
        "  count = lowercase.count(vowel)\n",
        "  vowel_counts[vowel] = count\n",
        "\n",
        "for consonant in \"bcdfghjklmnpqrstvwxyz\":\n",
        "  count1 = lowercase.count(consonant)\n",
        "  consonant_counts[consonant] = count1\n",
        "\n",
        "\n",
        "print(vowel_counts)\n",
        "print(consonant_counts)"
      ]
    },
    {
      "cell_type": "code",
      "execution_count": null,
      "metadata": {
        "colab": {
          "base_uri": "https://localhost:8080/"
        },
        "id": "V1VsCYduvXOy",
        "outputId": "c007afb0-7e25-4195-ca03-550928d23f68"
      },
      "outputs": [
        {
          "name": "stdout",
          "output_type": "stream",
          "text": [
            "Enter sentence:abba\n",
            "abba is a palindrome.\n"
          ]
        },
        {
          "data": {
            "text/plain": [
              "True"
            ]
          },
          "execution_count": 36,
          "metadata": {},
          "output_type": "execute_result"
        }
      ],
      "source": [
        "# Palindrome in string\n",
        "\n",
        "def is_palindrome(s):\n",
        "  if s[::1] == s[::-1]:\n",
        "    print(s,\"is a palindrome.\")\n",
        "    return True\n",
        "  else:\n",
        "    print(s,\"is not a palindrome.\")\n",
        "    return False\n",
        "\n",
        "s = input(\"Enter sentence:\")\n",
        "is_palindrome(s) "
      ]
    },
    {
      "cell_type": "code",
      "execution_count": null,
      "metadata": {
        "colab": {
          "base_uri": "https://localhost:8080/"
        },
        "id": "HsHl93eeyM7x",
        "outputId": "82751746-c975-40f0-e4ad-57336afdbc07"
      },
      "outputs": [
        {
          "name": "stdout",
          "output_type": "stream",
          "text": [
            "Enter a string:Akshit\n",
            "tihskA\n"
          ]
        }
      ],
      "source": [
        "st = input(\"Enter a string:\")\n",
        "new = \"\"\n",
        "\n",
        "for i in range(len(st)-1,-1,-1):\n",
        "  new = new + st[i]\n",
        "print(new) "
      ]
    },
    {
      "cell_type": "code",
      "execution_count": null,
      "metadata": {
        "colab": {
          "base_uri": "https://localhost:8080/"
        },
        "id": "rIx05aa_zG08",
        "outputId": "86391e55-7699-40b3-d8c0-5c0d5a017efd"
      },
      "outputs": [
        {
          "data": {
            "text/plain": [
              "('python is ', 'not', ' fun')"
            ]
          },
          "execution_count": 1,
          "metadata": {},
          "output_type": "execute_result"
        }
      ],
      "source": [
        "a = \"python is not fun\"\n",
        "a.partition(\"not\")"
      ]
    },
    {
      "cell_type": "code",
      "execution_count": null,
      "metadata": {
        "colab": {
          "base_uri": "https://localhost:8080/"
        },
        "id": "2usqhDXCMIJY",
        "outputId": "3d79c73f-07cd-4633-f6b8-a5d274961b62"
      },
      "outputs": [
        {
          "data": {
            "text/plain": [
              "('python is ', 'not', ' not fun')"
            ]
          },
          "execution_count": 2,
          "metadata": {},
          "output_type": "execute_result"
        }
      ],
      "source": [
        "b = \"python is not not fun\"\n",
        "b.partition(\"not\")"
      ]
    },
    {
      "cell_type": "code",
      "execution_count": null,
      "metadata": {
        "colab": {
          "base_uri": "https://localhost:8080/"
        },
        "id": "isdru6NcMNzT",
        "outputId": "aedd5fcb-f74d-4560-d070-8045b653fbce"
      },
      "outputs": [
        {
          "data": {
            "text/plain": [
              "['python is ', ' fun']"
            ]
          },
          "execution_count": 3,
          "metadata": {},
          "output_type": "execute_result"
        }
      ],
      "source": [
        "a = \"python is not fun\"\n",
        "a.split(\"not\")"
      ]
    },
    {
      "cell_type": "code",
      "execution_count": null,
      "metadata": {
        "colab": {
          "base_uri": "https://localhost:8080/",
          "height": 35
        },
        "id": "Q_rFvRl4Mcmd",
        "outputId": "097c21aa-3f0e-45d3-fbef-a7f2f2f452f0"
      },
      "outputs": [
        {
          "data": {
            "application/vnd.google.colaboratory.intrinsic+json": {
              "type": "string"
            },
            "text/plain": [
              "'Hello how are you'"
            ]
          },
          "execution_count": 6,
          "metadata": {},
          "output_type": "execute_result"
        }
      ],
      "source": [
        "\" \".join([\"Hello\",\"how\",\"are\",\"you\"])"
      ]
    },
    {
      "cell_type": "code",
      "execution_count": null,
      "metadata": {
        "colab": {
          "base_uri": "https://localhost:8080/"
        },
        "id": "2voxaoQ-OVAX",
        "outputId": "c4a6444c-20d9-4d93-e462-7131da02bb2e"
      },
      "outputs": [
        {
          "name": "stdout",
          "output_type": "stream",
          "text": [
            "Enter:Akshit\n",
            "Enter:Akshit is good at FIFA and PES\n",
            "2\n",
            "A has count 2\n",
            "1\n",
            "k has count 1\n",
            "2\n",
            "s has count 2\n",
            "1\n",
            "h has count 1\n",
            "2\n",
            "i has count 2\n",
            "2\n",
            "t has count 2\n"
          ]
        }
      ],
      "source": [
        "# Word \n",
        "\n",
        "word = input(\"Enter:\")\n",
        "sen = input(\"Enter:\")\n",
        "\n",
        "for i in word:\n",
        "  c = sen.count(i)\n",
        "  print(c)\n",
        "  print(i,\"has count\",c)"
      ]
    },
    {
      "cell_type": "code",
      "execution_count": null,
      "metadata": {
        "colab": {
          "base_uri": "https://localhost:8080/"
        },
        "id": "GEoAVePC04LG",
        "outputId": "d6e4858a-f8d9-4323-d41d-b65e3b5ce1bf"
      },
      "outputs": [
        {
          "name": "stdout",
          "output_type": "stream",
          "text": [
            "Enter s1:Akshit\n",
            "Enter s2:Tiksha\n",
            "The strings are anagrams.\n"
          ]
        }
      ],
      "source": [
        "# Anagram\n",
        "\n",
        "def check(s1,s2):\n",
        "    if sorted(s1) == sorted(s2):\n",
        "      print(\"The strings are anagrams.\")\n",
        "    else:\n",
        "      print(\"The strings aren't anagrams.\")        \n",
        "\n",
        "s1 = input(\"Enter s1:\").lower()\n",
        "s2 = input(\"Enter s2:\").lower()\n",
        "\n",
        "check(s1,s2) "
      ]
    },
    {
      "cell_type": "code",
      "execution_count": null,
      "metadata": {
        "colab": {
          "base_uri": "https://localhost:8080/"
        },
        "id": "mSX2KAcDPpvq",
        "outputId": "49d46d02-aba3-4143-83b4-ab0ea44da182"
      },
      "outputs": [
        {
          "name": "stdout",
          "output_type": "stream",
          "text": [
            "Enter string:Akshit\n",
            "Enter string:Tiksha\n",
            "Matching characters:  4\n"
          ]
        }
      ],
      "source": [
        "# Counting matching charcters\n",
        "\n",
        "def count(s1,s2):\n",
        "    c = 0 \n",
        "    a = 0\n",
        "    for i in s1:\n",
        "        if s2.find(i) > 0 and a == s1.find(i):\n",
        "            c = c + 1\n",
        "        a = a + 1\n",
        "    print(\"Matching characters: \",c)\n",
        "\n",
        "s1 = input(\"Enter string:\")\n",
        "s2 = input(\"Enter string:\")\n",
        "\n",
        "count(s1,s2) "
      ]
    },
    {
      "cell_type": "code",
      "execution_count": null,
      "metadata": {
        "colab": {
          "base_uri": "https://localhost:8080/"
        },
        "id": "OXnXnomfYYKV",
        "outputId": "6034018d-3cab-4b32-afa4-ea21224c040b"
      },
      "outputs": [
        {
          "name": "stdout",
          "output_type": "stream",
          "text": [
            "Enter a string:Akshit\n",
            "Akshit\n",
            "Least frequent character: A\n"
          ]
        }
      ],
      "source": [
        "# Least frequent character in string\n",
        "\n",
        "string = input(\"Enter a string:\") \n",
        "print(string)\n",
        "char_freq = {} \n",
        "\n",
        "for i in string:\n",
        "    if i in char_freq:\n",
        "        char_freq[i] = char_freq[i]+1\n",
        "    else:\n",
        "        char_freq[i] = 1\n",
        "\n",
        "result = min(char_freq, key = char_freq.get)\n",
        "print(\"Least frequent character:\",result)"
      ]
    },
    {
      "cell_type": "code",
      "execution_count": null,
      "metadata": {
        "colab": {
          "base_uri": "https://localhost:8080/"
        },
        "id": "mGawJytNZN2r",
        "outputId": "7ffaf1c8-a8a5-4db8-c7bd-73bd635c2541"
      },
      "outputs": [
        {
          "name": "stdout",
          "output_type": "stream",
          "text": [
            "Enter a string:Manchanda\n",
            "Manchanda\n",
            "Most frequent character: a\n"
          ]
        }
      ],
      "source": [
        "# Most frequent character in string \n",
        "\n",
        "string = input(\"Enter a string:\")\n",
        "print(string)\n",
        "char_freq={}\n",
        "\n",
        "for i in string:\n",
        "    if i in char_freq:\n",
        "        char_freq[i]=char_freq[i]+1\n",
        "    else:\n",
        "        char_freq[i] = 1\n",
        "\n",
        "result = max(char_freq, key = char_freq.get)\n",
        "print(\"Most frequent character:\",result)"
      ]
    },
    {
      "cell_type": "code",
      "execution_count": null,
      "metadata": {
        "colab": {
          "base_uri": "https://localhost:8080/"
        },
        "id": "Us0dIqlWXnzp",
        "outputId": "c4ca364a-3bef-49af-c362-9b410eb30282"
      },
      "outputs": [
        {
          "name": "stdout",
          "output_type": "stream",
          "text": [
            "Enter a string:Manchanda\n",
            "Without Order: Mncdha\n",
            "With Order: M\n",
            "With Order: Ma\n",
            "With Order: Man\n",
            "With Order: Manc\n",
            "With Order: Manch\n",
            "With Order: Manch\n",
            "With Order: Manch\n",
            "With Order: Manchd\n",
            "With Order: Manchd\n"
          ]
        }
      ],
      "source": [
        "# Remove all duplicates from a given string\n",
        "\n",
        "def removeDuplicate(str):\n",
        "    s = set(str)\n",
        "    s = \"\".join(s)\n",
        "    print(\"Without Order:\",s)\n",
        "    t = \"\"\n",
        "    for i in str:\n",
        "        if i in t:\n",
        "            pass\n",
        "        else:\n",
        "            t = t + i\n",
        "        print(\"With Order:\",t)\n",
        "      \n",
        "str = input(\"Enter a string:\")\n",
        "removeDuplicate(str) "
      ]
    },
    {
      "cell_type": "code",
      "execution_count": null,
      "metadata": {
        "id": "rnQHrRhClH5Z"
      },
      "outputs": [],
      "source": [
        "# To check credentials\n",
        "\n",
        "def phone_number_checker(n):\n",
        "  if len(n) == 10:\n",
        "    if n.isdigit() == True:\n",
        "      print(\"Valid Number\")\n",
        "    else:\n",
        "      print(\"Invalid Number\")\n",
        "\n",
        "def email_checker(a):\n",
        "  c = 0\n",
        "  for char in a:\n",
        "    if char.isalnum() == True or char == '@' or char == '.':\n",
        "      continue\n",
        "    else:\n",
        "      c += 1\n",
        "      break\n",
        "  if c == 0:\n",
        "    print(\"Valid Email ID\")\n",
        "  else:\n",
        "    print(\"Invalid Email ID\")\n",
        "\n",
        "def name_checker(b):\n",
        "  count = 0\n",
        "  for char in b:\n",
        "    if char.isspace() == True or char.isalpha() == True:\n",
        "        count += 1\n",
        "  if count >= 1:\n",
        "    print(\"Valid Name\")\n",
        "  else:\n",
        "    print(\"Invalid Name\")\n",
        "\n",
        "mobile = str(input(\"Enter mobile number:\"))\n",
        "phone_number_checker(mobile)\n",
        "email_id = str(input(\"Enter email ID:\"))\n",
        "email_checker(email_id)\n",
        "name = str(input(\"Enter name:\"))\n",
        "name_checker(name) "
      ]
    },
    {
      "cell_type": "markdown",
      "metadata": {
        "id": "PwxfGAnYnNsB"
      },
      "source": [
        "# The Boss Mega Basic Maths Code"
      ]
    },
    {
      "cell_type": "code",
      "execution_count": null,
      "metadata": {
        "colab": {
          "base_uri": "https://localhost:8080/"
        },
        "id": "od3Taym4nZq2",
        "outputId": "48c403d7-5587-412b-b773-c28a13044e12"
      },
      "outputs": [
        {
          "name": "stdout",
          "output_type": "stream",
          "text": [
            "Enter your 1st number:1\n",
            "Enter your 2nd number:1\n",
            " \n",
            "a = -5\n",
            "b = -952\n",
            "GCD, LCM, Co-prime does not exist for negative number/numbers.\n",
            "Therefore, we will use abs() function to make it/them positive.\n",
            "abs(a) = 5\n",
            "abs(b) = 952\n",
            "The G.C.D is 1\n",
            "The L.C.M. is 4760\n",
            "5 and 952 are co-prime.\n",
            " \n",
            "a = -5\n",
            "angle a in degrees = -5\n",
            "angle a in radians = -0.08726646259971647\n",
            "sin x = -0.08715574274765817\n",
            "cos x = 0.9961946980917455\n",
            "tan x = -0.08748866352592401\n",
            "cosec x = -11.473713245669856\n",
            "sec x = 1.0038198375433474\n",
            "cot x = -11.430052302761343\n",
            " \n",
            "b = -952\n",
            "angle b in degrees = -952\n",
            "angle b in radians = -16.615534478986017\n",
            "sin y = 0.7880107536067218\n",
            "cos y = -0.6156614753256585\n",
            "tan y = -1.279941632193078\n",
            "cosec y = 1.269018215072579\n",
            "sec y = -1.6242692454827434\n",
            "cot y = -0.7812856265067178\n",
            " \n",
            "a = -5\n",
            "b = -952\n",
            "n = 4\n",
            "c = 0.005252100840336135\n",
            " \n",
            "More updates coming soon...\n"
          ]
        }
      ],
      "source": [
        "# My Favourite one so far \n",
        "# The Boss Mega Basic Maths Code \n",
        "\n",
        "def compute_GCD(x,y):\n",
        "  if x > y:\n",
        "    small = y\n",
        "  else:\n",
        "    small = x\n",
        "  for i in range(1,small+1):\n",
        "    if (x % i == 0) and (y % i == 0):\n",
        "      gcd = i\n",
        "  return gcd\n",
        "\n",
        "def compute_LCM(x,y):\n",
        "  if x > y:\n",
        "    greater = x\n",
        "  else:\n",
        "    greater = y\n",
        "  while(True):\n",
        "    if (greater % x == 0) and (greater % y == 0):\n",
        "      lcm = greater\n",
        "      break\n",
        "    greater += 1\n",
        "  return lcm \n",
        "\n",
        "import random\n",
        "\n",
        "value_1 = eval(input(\"Enter your 1st number:\"))\n",
        "value_2 = eval(input(\"Enter your 2nd number:\")) \n",
        "\n",
        "print(\" \")\n",
        "\n",
        "a = random.randint(-1000,1000)\n",
        "b = random.randint(-1000,1000) \n",
        "\n",
        "print(\"a =\",a)\n",
        "print(\"b =\",b)\n",
        "\n",
        "if a < 0 or b < 0:\n",
        "  print(\"GCD, LCM, Co-prime does not exist for negative number/numbers.\")\n",
        "  print(\"Therefore, we will use abs() function to make it/them positive.\")\n",
        "  if a < 0:\n",
        "    A = abs(a)\n",
        "    print(\"abs(a) =\",A)\n",
        "  if b < 0:\n",
        "    B = abs(b)\n",
        "    print(\"abs(b) =\",B)\n",
        "  print(\"The G.C.D is\", compute_GCD(A,B))\n",
        "  print(\"The L.C.M. is\", compute_LCM(A,B)) \n",
        "  if compute_GCD(A,B) == 1:\n",
        "      print(A,\"and\",B,\"are co-prime.\") \n",
        "else:\n",
        "  print(\"The G.C.D is\", compute_GCD(a,b))\n",
        "  print(\"The L.C.M. is\", compute_LCM(a,b))\n",
        "  if compute_GCD(a,b) == 1:\n",
        "      print(a,\"and\",b,\"are co-prime.\") \n",
        "\n",
        "print(\" \")\n",
        "\n",
        "import math \n",
        "\n",
        "print(\"a =\",a)\n",
        "print(\"angle a in degrees =\",a)\n",
        "\n",
        "x = math.pi * a / 180\n",
        "print(\"angle a in radians =\",x)\n",
        "\n",
        "sin_a = math.sin(x)\n",
        "print(\"sin x =\",sin_a)\n",
        "\n",
        "cos_a = math.cos(x)\n",
        "print(\"cos x =\",cos_a)\n",
        "\n",
        "tan_a = math.tan(x)\n",
        "print(\"tan x =\",tan_a)\n",
        "\n",
        "cosec_a = 1 / math.sin(x)\n",
        "print(\"cosec x =\",cosec_a)\n",
        "\n",
        "sec_a = 1 / math.cos(x)\n",
        "print(\"sec x =\",sec_a)\n",
        "\n",
        "cot_a = 1 / math.tan(x)\n",
        "print(\"cot x =\",cot_a)\n",
        "\n",
        "print(\" \")\n",
        "\n",
        "print(\"b =\",b)\n",
        "print(\"angle b in degrees =\",b)\n",
        "\n",
        "y = math.pi * b / 180\n",
        "print(\"angle b in radians =\",y)\n",
        "\n",
        "sin_b = math.sin(y)\n",
        "print(\"sin y =\",sin_b)\n",
        "\n",
        "cos_b = math.cos(y)\n",
        "print(\"cos y =\",cos_b)\n",
        "\n",
        "tan_b = math.tan(y)\n",
        "print(\"tan y =\",tan_b)\n",
        "\n",
        "cosec_b = 1 / math.sin(y)\n",
        "print(\"cosec y =\",cosec_b)\n",
        "\n",
        "sec_b = 1 / math.cos(y)\n",
        "print(\"sec y =\",sec_b)\n",
        "\n",
        "cot_b = 1 / math.tan(y)\n",
        "print(\"cot y =\",cot_b) \n",
        "\n",
        "print(\" \")\n",
        "\n",
        "print(\"a =\",a)\n",
        "print(\"b =\",b) \n",
        "\n",
        "n = random.randint(0,10)\n",
        "print(\"n =\",n)\n",
        "\n",
        "choice = n\n",
        "\n",
        "if choice == 1:\n",
        "  c = a + b\n",
        "  print(\"c =\",c)\n",
        "elif choice == 2:\n",
        "  c = a - b\n",
        "  print(\"c =\",c)\n",
        "elif choice == 3:\n",
        "  c = a * b\n",
        "  print(\"c =\",c)\n",
        "elif choice == 4:\n",
        "  c = a / b\n",
        "  print(\"c =\",c)\n",
        "elif choice == 5:\n",
        "  c = a ** b\n",
        "  print(\"c =\",c)\n",
        "elif choice == 6:\n",
        "  c = a % b\n",
        "  d = a // b\n",
        "  print(\"c =\",c)\n",
        "  print(\"d =\",d)\n",
        "elif choice == 7 and a > 0 and b > 0:\n",
        "  c = math.sqrt(a)\n",
        "  d = math.sqrt(b)\n",
        "  print(\"c =\",c)\n",
        "  print(\"d =\",d)\n",
        "elif choice == 8 and a > 0 and b > 0:\n",
        "  c = math.factorial(a)\n",
        "  d = math.factorial(b)\n",
        "  print(\"c =\",c)\n",
        "  print(\"d =\",d)\n",
        "else:\n",
        "  choice > 8 or choice == 0\n",
        "  print(\"Wrong choice!!!\")\n",
        "  print(\"Please read the instructions again.\")\n",
        "\n",
        "print(\" \")\n",
        "\n",
        "print(\"More updates coming soon...\") "
      ]
    },
    {
      "cell_type": "markdown",
      "metadata": {
        "id": "il2j0Z1O8lrh"
      },
      "source": [
        "# Rock, Paper, Scissors!!! \n",
        "Changes made so far:-\n",
        "1. Added percentage calculator.\n",
        "2. Added login and password."
      ]
    },
    {
      "cell_type": "code",
      "source": [
        "rows = 13 \n",
        " \n",
        "k = 2 * rows - 2   \n",
        "for i in range(rows, -1, -1):\n",
        "  for j in range(k, 0, -1):\n",
        "    print(end=\" \")\n",
        "  k = k + 1\n",
        "  for j in range(0, i + 1):\n",
        "    print(\"*\", end=\" \")  \n",
        "  print(\"\") "
      ],
      "metadata": {
        "id": "fGPCr-HXkdKu"
      },
      "execution_count": null,
      "outputs": []
    },
    {
      "cell_type": "code",
      "execution_count": null,
      "metadata": {
        "id": "xwwzixk58Z2D"
      },
      "outputs": [],
      "source": [
        "# My Favourite one so far \n",
        "# Let's Play\n",
        "\n",
        "import random \n",
        "import sys \n",
        "\n",
        "def GameAccess(user_Input):\n",
        "  username = \"akki1310\"\n",
        "  password = \"PSG_messi30\" \n",
        "  if user_Input == username:\n",
        "    user_Input = input(\"Password?\\n\")   \n",
        "    if user_Input == password:\n",
        "       print(\"Welcome!\")\n",
        "    else:\n",
        "       print(\"That is the wrong password.\")\n",
        "       sys.exit()\n",
        "  else:\n",
        "    print(\"That is the wrong username.\")\n",
        "    sys.exit()\n",
        "\n",
        "user_Input = input(\"Enter credentials:\\n\")\n",
        "GameAccess(user_Input) \n",
        "\n",
        "print(\" \")\n",
        "\n",
        "def instructions():\n",
        "    play = input(\"Would you like to play Rock, Paper, Scissors, Lizard, Spock (y/n): \").lower()\n",
        "    if play == \"y\":\n",
        "        print(\"1.Rock\")\n",
        "        print(\"2.Paper\")\n",
        "        print(\"3.Scissors\")\n",
        "    elif play != \"y\" and play != \"n\":\n",
        "        print(\"Error has accured!!! Please type y for yes or n for no\")\n",
        "        instructions()  \n",
        "    else:\n",
        "        play == \"n\"\n",
        "        print(\"Nice 1!!!\")\n",
        "        sys.exit()\n",
        "\n",
        "print(\" \")\n",
        "\n",
        "def getPlayerChoice():\n",
        "    choice = int(input(\"What is your choice user?: \"))\n",
        "    if choice > 3:\n",
        "        print(\"Invalid number please try again....\")\n",
        "        getPlayerChoice()\n",
        "    elif choice < 1:\n",
        "        print(\"Invalid number please try again....\")\n",
        "        getPlayerChoice()\n",
        "    elif choice == 1:\n",
        "        print(\"You picked Rock\")\n",
        "    elif choice == 2:\n",
        "        print(\"You picked Paper\")\n",
        "    elif choice == 3:\n",
        "        print(\"You picked Scissors\")\n",
        "    return choice\n",
        "\n",
        "def getCPUChoice():\n",
        "    choice = random.randint(1,3)\n",
        "    if choice == 1:\n",
        "        print(\"CPU picked Rock\")\n",
        "    elif choice == 2:\n",
        "        print(\"CPU picked Paper\")\n",
        "    elif choice == 3:\n",
        "        print(\"CPU picked Scissors\")\n",
        "    return choice\n",
        "\n",
        "\n",
        "def winner(playerChoice, CPUChoice, playerWins, CPUWins, ties):\n",
        "    if playerChoice == 1 and CPUChoice == 3:\n",
        "        print(\"Player wins.\")\n",
        "        playerWins = playerWins.append(1) \n",
        "    elif playerChoice == 2 and CPUChoice == 1:\n",
        "        print(\"Player wins.\")\n",
        "        playerWins = playerWins.append(1) \n",
        "    elif playerChoice == 3 and CPUChoice == 2:\n",
        "        print(\"Player wins.\")\n",
        "        playerWins = playerWins.append(1) \n",
        "    elif playerChoice == CPUChoice:\n",
        "        print(\"Tie\")\n",
        "        ties = ties.append(1)\n",
        "    else:\n",
        "        print(\"CPU won\")\n",
        "        CPUWins = CPUWins.append(1) \n",
        "    return\n",
        "\n",
        "\n",
        "def gameTotal(playerWins, CPUWins, ties):\n",
        "    playerWins = sum(playerWins)\n",
        "    CPUWins = sum(CPUWins)\n",
        "    ties = sum(ties)\n",
        "    print(\"Player final score: \", playerWins)\n",
        "    print(\"CPU final Score: \", CPUWins)\n",
        "    print(\"Total ties: \",ties)\n",
        "    total_games = playerWins + CPUWins + ties\n",
        "    print(\"Total games =\",total_games)\n",
        "    perc_playerWins = playerWins * 100 / (total_games)\n",
        "    print(\"percentage of player wins =\",perc_playerWins,\"%\")\n",
        "    perc_CPUWins = CPUWins * 100 / (total_games)\n",
        "    print(\"percentage of CPU wins =\",perc_CPUWins,\"%\")\n",
        "    perc_ties = ties * 100 / (total_games) \n",
        "    print(\"percentage of ties =\",perc_ties,\"%\") \n",
        "\n",
        "\n",
        "def main():\n",
        "    playerChoice = 0\n",
        "    playerWins = []\n",
        "    CPUChoice = 0\n",
        "    CPUWins = []\n",
        "    ties = []\n",
        "    finalPlayerWins = 0\n",
        "    finalCPUWins = 0\n",
        "    finalTies = 0\n",
        "    Continue = 'y'\n",
        "    instructions()\n",
        "    while Continue == 'y':\n",
        "        playerChoice = getPlayerChoice()\n",
        "        CPUChoice = getCPUChoice()\n",
        "        winner(playerChoice,CPUChoice,playerWins, CPUWins, ties)\n",
        "        Continue = input(\"Would you like to play again (y/n):\").lower()\n",
        "        if Continue == 'n':\n",
        "          print(\"Printing final scores...\")\n",
        "          print(\"Thanks for playing!!!\")\n",
        "          break\n",
        "    gameTotal(playerWins, CPUWins, ties)\n",
        "\n",
        "\n",
        "main() "
      ]
    },
    {
      "cell_type": "code",
      "source": [
        "rows = 13 \n",
        " \n",
        "k = 2 * rows - 2   \n",
        "for i in range(0, rows):\n",
        "  for j in range(0, k):\n",
        "    print(end=\" \")  \n",
        "  k = k - 1  \n",
        "  for j in range(0, i + 1):\n",
        "    print(\"*\", end=\" \")  \n",
        "  print(\"\")  "
      ],
      "metadata": {
        "id": "yrUFH8ackWU-"
      },
      "execution_count": null,
      "outputs": []
    },
    {
      "cell_type": "markdown",
      "metadata": {
        "id": "Q_JxHv3v9xJp"
      },
      "source": [
        "# Rock, Paper, Scissors, Lizard, Spock!!!\n",
        "Changes made so far:-\n",
        "1. Added percentage calculator.\n",
        "2. Added login and password."
      ]
    },
    {
      "cell_type": "code",
      "source": [
        "rows = 13 \n",
        "\n",
        "k = 2 * rows - 2   \n",
        "for i in range(rows, -1, -1):\n",
        "  for j in range(k, 0, -1):\n",
        "    print(end=\" \")\n",
        "  k = k + 1\n",
        "  for j in range(0, i + 1):\n",
        "    print(\"*\", end=\" \")  \n",
        "  print(\"\")"
      ],
      "metadata": {
        "id": "MsqNOddwkQWw"
      },
      "execution_count": null,
      "outputs": []
    },
    {
      "cell_type": "code",
      "execution_count": null,
      "metadata": {
        "id": "rmiPLLZb9wPm"
      },
      "outputs": [],
      "source": [
        "# My Favourite one so far \n",
        "# Let's Play\n",
        "# https://files.realpython.com/media/rps-lizardspock.88cf9623a6f0.png\n",
        "# refer above link for game chart \n",
        "\n",
        "import random \n",
        "import sys \n",
        "\n",
        "def GameAccess(user_Input):\n",
        "  username = \"akki1310\"\n",
        "  password = \"PSG_messi30\" \n",
        "  if user_Input == username:\n",
        "    user_Input = input(\"Password?\\n\")   \n",
        "    if user_Input == password:\n",
        "       print(\"Welcome!\")\n",
        "    else:\n",
        "       print(\"That is the wrong password.\")\n",
        "       sys.exit()\n",
        "  else:\n",
        "    print(\"That is the wrong username.\")\n",
        "    sys.exit()\n",
        "\n",
        "user_Input = input(\"Enter credentials:\\n\")\n",
        "GameAccess(user_Input) \n",
        "\n",
        "print(\" \")\n",
        "\n",
        "def instructions():\n",
        "    play = input(\"Would you like to play Rock, Paper, Scissors, Lizard, Spock (y/n): \").lower()\n",
        "    if play == \"y\":\n",
        "        print(\"1.Rock\")\n",
        "        print(\"2.Paper\")\n",
        "        print(\"3.Scissors\")\n",
        "        print(\"4.Lizard\")\n",
        "        print(\"5.Spock\")\n",
        "    elif play != \"y\" and play != \"n\":\n",
        "        print(\"Error has accured!!! Please type y for yes or n for no\")\n",
        "        instructions()  \n",
        "    else:\n",
        "        play == \"n\"\n",
        "        print(\"Nice 1!!!\")\n",
        "        sys.exit()\n",
        "\n",
        "print(\" \")\n",
        "\n",
        "def getPlayerChoice():\n",
        "    choice = int(input(\"What is your choice user?: \"))\n",
        "    if choice > 5:\n",
        "        print(\"Invalid number please try again....\")\n",
        "        getPlayerChoice()\n",
        "    elif choice < 1:\n",
        "        print(\"Invalid number please try again....\")\n",
        "        getPlayerChoice()\n",
        "    elif choice == 1:\n",
        "        print(\"You picked Rock\")\n",
        "    elif choice == 2:\n",
        "        print(\"You picked Paper\")\n",
        "    elif choice == 3:\n",
        "        print(\"You picked Scissors\")\n",
        "    elif choice == 4:\n",
        "        print(\"You picked Lizard\")\n",
        "    elif choice == 5:\n",
        "        print(\"You picked Spock\")\n",
        "    return choice\n",
        "\n",
        "def getCPUChoice():\n",
        "    choice = random.randint(1,5)\n",
        "    if choice == 1:\n",
        "        print(\"CPU picked Rock\")\n",
        "    elif choice == 2:\n",
        "        print(\"CPU picked Paper\")\n",
        "    elif choice == 3:\n",
        "        print(\"CPU picked Scissors\")\n",
        "    elif choice == 4:\n",
        "        print(\"CPU picked Lizard\")\n",
        "    elif choice == 5:\n",
        "        print(\"CPU picked Spock\")\n",
        "    return choice\n",
        "\n",
        "\n",
        "def winner(playerChoice, CPUChoice, playerWins, CPUWins, ties):\n",
        "    if playerChoice == 1 and (CPUChoice == 3 or CPUChoice == 4):\n",
        "        print(\"Player wins.\")\n",
        "        playerWins = playerWins.append(1) \n",
        "    elif playerChoice == 2 and (CPUChoice == 1 or CPUChoice == 5):\n",
        "        print(\"Player wins.\")\n",
        "        playerWins = playerWins.append(1) \n",
        "    elif playerChoice == 3 and (CPUChoice == 2 or CPUChoice == 4):\n",
        "        print(\"Player wins.\")\n",
        "        playerWins = playerWins.append(1) \n",
        "    elif playerChoice == 4 and (CPUChoice == 2 or CPUChoice == 5):\n",
        "        print(\"Player wins.\")\n",
        "        playerWins = playerWins.append(1)\n",
        "    elif playerChoice == 5 and (CPUChoice == 1 or CPUChoice == 3):\n",
        "        print(\"Player wins\")\n",
        "        playerWins = playerWins.append(1)\n",
        "    elif playerChoice == CPUChoice:\n",
        "        print(\"Tie\")\n",
        "        ties = ties.append(1)\n",
        "    else:\n",
        "        print(\"CPU won\")\n",
        "        CPUWins = CPUWins.append(1) \n",
        "    return\n",
        "\n",
        "\n",
        "def gameTotal(playerWins, CPUWins, ties):\n",
        "    playerWins = sum(playerWins)\n",
        "    CPUWins = sum(CPUWins)\n",
        "    ties = sum(ties)\n",
        "    print(\"Player final score: \", playerWins)\n",
        "    print(\"CPU final Score: \", CPUWins)\n",
        "    print(\"Total ties: \",ties)\n",
        "    total_games = playerWins + CPUWins + ties\n",
        "    print(\"Total games =\",total_games)\n",
        "    perc_playerWins = playerWins * 100 / (total_games)\n",
        "    print(\"percentage of player wins =\",perc_playerWins,\"%\")\n",
        "    perc_CPUWins = CPUWins * 100 / (total_games)\n",
        "    print(\"percentage of CPU wins =\",perc_CPUWins,\"%\")\n",
        "    perc_ties = ties * 100 / (total_games) \n",
        "    print(\"percentage of ties =\",perc_ties,\"%\") \n",
        "\n",
        "\n",
        "def main():\n",
        "    playerChoice = 0\n",
        "    playerWins = []\n",
        "    CPUChoice = 0\n",
        "    CPUWins = []\n",
        "    ties = []\n",
        "    finalPlayerWins = 0\n",
        "    finalCPUWins = 0\n",
        "    finalTies = 0\n",
        "    Continue = 'y'\n",
        "    instructions()\n",
        "    while Continue == 'y':\n",
        "        playerChoice = getPlayerChoice()\n",
        "        CPUChoice = getCPUChoice()\n",
        "        winner(playerChoice,CPUChoice,playerWins, CPUWins, ties)\n",
        "        Continue = input(\"Would you like to play again (y/n):\").lower()\n",
        "        if Continue == 'n':\n",
        "          print(\"Printing final scores...\")\n",
        "          print(\"Thanks for playing!!!\")\n",
        "          break\n",
        "    gameTotal(playerWins, CPUWins, ties)\n",
        "\n",
        "\n",
        "main() "
      ]
    },
    {
      "cell_type": "code",
      "source": [
        "rows = 13 \n",
        " \n",
        "k = 2 * rows - 2   \n",
        "for i in range(0, rows):\n",
        "  for j in range(0, k):\n",
        "    print(end=\" \")  \n",
        "  k = k - 1  \n",
        "  for j in range(0, i + 1):\n",
        "    print(\"*\", end=\" \")  \n",
        "  print(\"\")"
      ],
      "metadata": {
        "id": "9Ln29aankFbn"
      },
      "execution_count": null,
      "outputs": []
    },
    {
      "cell_type": "markdown",
      "metadata": {
        "id": "j8NRA17gpcht"
      },
      "source": [
        "# Python continues again (3)"
      ]
    },
    {
      "cell_type": "code",
      "execution_count": null,
      "metadata": {
        "colab": {
          "base_uri": "https://localhost:8080/",
          "height": 53
        },
        "id": "m9XkQQdmImNY",
        "outputId": "47ea47a4-9583-4522-da38-e054f8876896"
      },
      "outputs": [
        {
          "name": "stdout",
          "output_type": "stream",
          "text": [
            "Enter a word:Balloons\n"
          ]
        },
        {
          "data": {
            "application/vnd.google.colaboratory.intrinsic+json": {
              "type": "string"
            },
            "text/plain": [
              "'Bal*o*ns'"
            ]
          },
          "execution_count": 25,
          "metadata": {},
          "output_type": "execute_result"
        }
      ],
      "source": [
        "#\n",
        "\n",
        "def replace(string):\n",
        "  new_string = ''\n",
        "  for i in range(len(string)):\n",
        "    if i == 0:\n",
        "      new_string = new_string + string[i]\n",
        "    else:\n",
        "      if string[i] == string[i-1]:\n",
        "        new_string = new_string + '*'\n",
        "      else:\n",
        "        new_string = new_string + string[i]\n",
        "  return new_string\n",
        "\n",
        "string = input(\"Enter a word:\")\n",
        "replace(string)"
      ]
    },
    {
      "cell_type": "code",
      "execution_count": null,
      "metadata": {
        "colab": {
          "base_uri": "https://localhost:8080/"
        },
        "id": "aw7USXeVNm8n",
        "outputId": "8885f65c-e1da-4edb-b98e-1df7adcc2e8a"
      },
      "outputs": [
        {
          "name": "stdout",
          "output_type": "stream",
          "text": [
            "Enter a sentence: welcome to delhi\n",
            "Welcome To Delhi\n"
          ]
        }
      ],
      "source": [
        "s = input(\"Enter a sentence: \")\n",
        "news = ''\n",
        "prev = ' '\n",
        "\n",
        "for i in s:\n",
        "  if prev == ' ' and i.isalpha() == True:\n",
        "    news = news + i.upper()\n",
        "  else:\n",
        "    if i.isalpha():\n",
        "      news = news + i.lower()\n",
        "    else:\n",
        "      news = news + i\n",
        "  prev = i\n",
        "print(news)"
      ]
    },
    {
      "cell_type": "code",
      "execution_count": null,
      "metadata": {
        "colab": {
          "base_uri": "https://localhost:8080/"
        },
        "id": "0NilVwN20gIs",
        "outputId": "e8002f0f-259c-40f6-c0ef-459c154837e0"
      },
      "outputs": [
        {
          "name": "stdout",
          "output_type": "stream",
          "text": [
            "Enter a string:Akshit Manchanda\n",
            "Akshit Manchanda\n",
            "Least frequent character: A\n"
          ]
        }
      ],
      "source": [
        "# Least frequent character in string\n",
        "\n",
        "string = input(\"Enter a string:\") \n",
        "print(string)\n",
        "char_freq = {} \n",
        "\n",
        "for i in string:\n",
        "    if i in char_freq:\n",
        "        char_freq[i] = char_freq[i]+1\n",
        "    else:\n",
        "        char_freq[i] = 1\n",
        "\n",
        "result = min(char_freq, key = char_freq.get)\n",
        "print(\"Least frequent character:\",result)"
      ]
    },
    {
      "cell_type": "code",
      "execution_count": null,
      "metadata": {
        "colab": {
          "base_uri": "https://localhost:8080/"
        },
        "id": "OPFeFk1CqpGB",
        "outputId": "ea4be62a-d6e1-4174-f48e-1bb72219f8f9"
      },
      "outputs": [
        {
          "name": "stdout",
          "output_type": "stream",
          "text": [
            "Password:Akki\n",
            "False\n"
          ]
        }
      ],
      "source": [
        "def check(password):\n",
        "  has_number = False\n",
        "  for i in password:\n",
        "    if i.isdigit():\n",
        "      has_number = True\n",
        "  return has_number\n",
        "\n",
        "password = input(\"Password:\")\n",
        "has_number = check(password)\n",
        "print(has_number) "
      ]
    },
    {
      "cell_type": "code",
      "execution_count": null,
      "metadata": {
        "colab": {
          "base_uri": "https://localhost:8080/"
        },
        "id": "AeIP7fw5skWU",
        "outputId": "a80dec19-07e5-4b4e-d398-7aef32202cfb"
      },
      "outputs": [
        {
          "name": "stdout",
          "output_type": "stream",
          "text": [
            "Enter a string:ABC\n",
            "ABC\n",
            "ACB\n",
            "BAC\n",
            "BCA\n",
            "CBA\n",
            "CAB\n"
          ]
        }
      ],
      "source": [
        "# String permutations\n",
        "\n",
        "def to_string(List):\n",
        "    return ''.join(List)\n",
        "\n",
        "def permute(a,l,r):\n",
        "    if l == r:\n",
        "        print(to_string(a))\n",
        "    else:\n",
        "        for i in range(l,r+1):\n",
        "          a[l], a[i] = a[i], a[l]\n",
        "          permute(a, l+1, r)\n",
        "          a[l], a[i] = a[i], a[l]\n",
        " \n",
        "\n",
        "string = input(\"Enter a string:\")\n",
        "n = len(string)\n",
        "a = list(string)\n",
        "permute(a,0,n-1) "
      ]
    },
    {
      "cell_type": "code",
      "execution_count": null,
      "metadata": {
        "colab": {
          "base_uri": "https://localhost:8080/"
        },
        "id": "XvoGdHnPQORm",
        "outputId": "5d0de890-42bc-41e9-9d2c-aae3181afa3b"
      },
      "outputs": [
        {
          "name": "stdout",
          "output_type": "stream",
          "text": [
            "['hello']\n"
          ]
        }
      ],
      "source": [
        "# lists\n",
        "\n",
        "a = []\n",
        "b = a + [\"hello\"]\n",
        "print(b)"
      ]
    },
    {
      "cell_type": "code",
      "execution_count": null,
      "metadata": {
        "colab": {
          "base_uri": "https://localhost:8080/"
        },
        "id": "exEN1jlaQkDk",
        "outputId": "bed5ddc2-36a1-45d3-d3eb-055f40cd0796"
      },
      "outputs": [
        {
          "name": "stdout",
          "output_type": "stream",
          "text": [
            "['old', 'gold']\n"
          ]
        }
      ],
      "source": [
        "z = []\n",
        "y = z + [\"old\",\"gold\"]\n",
        "print(y)"
      ]
    },
    {
      "cell_type": "code",
      "execution_count": null,
      "metadata": {
        "colab": {
          "base_uri": "https://localhost:8080/"
        },
        "id": "63XN5OBORhkZ",
        "outputId": "ed701495-1e91-4087-e533-2bd1ee22e091"
      },
      "outputs": [
        {
          "data": {
            "text/plain": [
              "1"
            ]
          },
          "execution_count": 13,
          "metadata": {},
          "output_type": "execute_result"
        }
      ],
      "source": [
        "z = [\" \"]\n",
        "len(z)"
      ]
    },
    {
      "cell_type": "code",
      "execution_count": null,
      "metadata": {
        "colab": {
          "base_uri": "https://localhost:8080/"
        },
        "id": "ipHmXLxzU_0d",
        "outputId": "535c6a09-3875-4ad9-d5b9-0cd161ba3b36"
      },
      "outputs": [
        {
          "name": "stdout",
          "output_type": "stream",
          "text": [
            "19\n"
          ]
        },
        {
          "data": {
            "text/plain": [
              "[0,\n",
              " 7,\n",
              " 11,\n",
              " 23,\n",
              " 36,\n",
              " 44,\n",
              " 50,\n",
              " 54,\n",
              " 65,\n",
              " 69,\n",
              " 78,\n",
              " 86,\n",
              " 86,\n",
              " 89,\n",
              " 90,\n",
              " 91,\n",
              " 92,\n",
              " 93,\n",
              " 94,\n",
              " 95,\n",
              " 95,\n",
              " 96,\n",
              " 97,\n",
              " 98,\n",
              " 99,\n",
              " 100,\n",
              " 100,\n",
              " 101]"
            ]
          },
          "execution_count": 21,
          "metadata": {},
          "output_type": "execute_result"
        }
      ],
      "source": [
        "marks = [100,98,99,100,54,78,86,65,95,95,92,89,86,11,7,23,44,36,50,69,90,101,97,96,94,93,91,0]\n",
        "count = 1\n",
        "for i in marks:\n",
        "  if i >= 75:\n",
        "    count = count + 1\n",
        "print(count)\n",
        "\n",
        "sorted(marks)"
      ]
    },
    {
      "cell_type": "code",
      "execution_count": null,
      "metadata": {
        "colab": {
          "base_uri": "https://localhost:8080/"
        },
        "id": "GOpcI9MiWXTJ",
        "outputId": "a90bef4a-8b9b-429a-ecd1-c58d37873f2e"
      },
      "outputs": [
        {
          "name": "stdout",
          "output_type": "stream",
          "text": [
            "[1, 2, 3, 4, 5, 6]\n"
          ]
        }
      ],
      "source": [
        "a = [1,2,3,4,5]\n",
        "a.append(6)\n",
        "print(a)"
      ]
    },
    {
      "cell_type": "code",
      "execution_count": null,
      "metadata": {
        "colab": {
          "base_uri": "https://localhost:8080/"
        },
        "id": "OnfOLRDUuP6v",
        "outputId": "b4057ccb-530d-4e6b-95b0-dcbaa1f27f2b"
      },
      "outputs": [
        {
          "name": "stdout",
          "output_type": "stream",
          "text": [
            "Enter:Akshit is smart\n",
            "char = A 1\n"
          ]
        }
      ],
      "source": [
        "sentence = input(\"Enter:\")\n",
        "char = sentence[0]\n",
        "freq = sentence.count(char)\n",
        "\n",
        "for i in sentence:\n",
        "  f = sentence.count(i)\n",
        "  if f < freq:\n",
        "    freq = f\n",
        "    char = i\n",
        "print(\"char =\",char,freq)"
      ]
    },
    {
      "cell_type": "code",
      "execution_count": null,
      "metadata": {
        "colab": {
          "base_uri": "https://localhost:8080/"
        },
        "id": "AxeLwiyU1viV",
        "outputId": "d919e6f9-2d5b-408f-fd4d-e9cf5271cade"
      },
      "outputs": [
        {
          "name": "stdout",
          "output_type": "stream",
          "text": [
            "Enter a number:10\n",
            "Enter a number:13\n",
            "Enter a number:4\n",
            "Enter a number:8\n",
            "Enter a number:-1\n",
            "sum = 35\n"
          ]
        }
      ],
      "source": [
        "sum = 0\n",
        "while (True):\n",
        "  n = eval(input(\"Enter a number:\"))\n",
        "  if n > 0:\n",
        "    sum = sum + n\n",
        "  else:\n",
        "    break\n",
        "print(\"sum =\",sum)"
      ]
    },
    {
      "cell_type": "code",
      "execution_count": null,
      "metadata": {
        "colab": {
          "base_uri": "https://localhost:8080/"
        },
        "id": "ANKn8Vi9GSpO",
        "outputId": "ab365792-6406-4153-e8d8-a59c754c5cd3"
      },
      "outputs": [
        {
          "name": "stdout",
          "output_type": "stream",
          "text": [
            "[1, 8, 27, 64, 125, 216, 343, 512, 729, 1000]\n"
          ]
        }
      ],
      "source": [
        "# list of cubes\n",
        "\n",
        "cube = []\n",
        "for i in range(1,11):\n",
        "  element = i ** 3\n",
        "  cube.append(element)\n",
        "print(cube)"
      ]
    },
    {
      "cell_type": "code",
      "execution_count": null,
      "metadata": {
        "colab": {
          "base_uri": "https://localhost:8080/"
        },
        "id": "0ZUGKSsXJ2CF",
        "outputId": "ec5ac71a-a725-48d0-8d58-b3df02580c37"
      },
      "outputs": [
        {
          "name": "stdout",
          "output_type": "stream",
          "text": [
            "[0, 1, 8, 27, 64, 125, 216, 343, 512, 729, 1000]\n"
          ]
        }
      ],
      "source": [
        "cube = [i ** 3 for i in range(0,11)]\n",
        "print(cube)"
      ]
    },
    {
      "cell_type": "code",
      "execution_count": null,
      "metadata": {
        "colab": {
          "base_uri": "https://localhost:8080/"
        },
        "id": "Ko2g63wcKHga",
        "outputId": "b1e345d3-957e-41c5-e1e6-c6c638350872"
      },
      "outputs": [
        {
          "name": "stdout",
          "output_type": "stream",
          "text": [
            "Even numbers in the list:  [0, 2, 4, 6, 8, 10]\n"
          ]
        }
      ],
      "source": [
        "# even nos using list comprehension\n",
        "\n",
        "list = [i for i in range(0,11)]\n",
        "even_nos = [num for num in list if num % 2 == 0]\n",
        " \n",
        "print(\"Even numbers in the list: \", even_nos)"
      ]
    },
    {
      "cell_type": "code",
      "execution_count": null,
      "metadata": {
        "colab": {
          "base_uri": "https://localhost:8080/"
        },
        "id": "xMX_XuUBgHhw",
        "outputId": "f14f197b-ca71-43bb-9260-d53f753106fa"
      },
      "outputs": [
        {
          "name": "stdout",
          "output_type": "stream",
          "text": [
            "age > 18 are [19, 20, 19]\n"
          ]
        }
      ],
      "source": [
        "age_list = [13,17,18,19,20,16,18,19]\n",
        "age_check = [age for age in age_list if age > 18]\n",
        "\n",
        "print(\"age > 18 are\",age_check)"
      ]
    },
    {
      "cell_type": "code",
      "execution_count": null,
      "metadata": {
        "colab": {
          "base_uri": "https://localhost:8080/"
        },
        "id": "awzy5TZahjsy",
        "outputId": "dce0660f-8293-4f25-de3f-0c68bacdf3a7"
      },
      "outputs": [
        {
          "name": "stdout",
          "output_type": "stream",
          "text": [
            "odd nos are [7, 3, 35]\n",
            "sum of odd nos = 45\n"
          ]
        }
      ],
      "source": [
        "nos = [7,3,2,8,6,14,28,35,36]\n",
        "num_check = [n for n in nos if n % 2 == 1]\n",
        "print(\"odd nos are\",num_check)\n",
        "sum_odd = sum(num_check)\n",
        "print(\"sum of odd nos =\",sum_odd) "
      ]
    },
    {
      "cell_type": "code",
      "execution_count": null,
      "metadata": {
        "id": "VFWtCSuClGxo"
      },
      "outputs": [],
      "source": [
        "# Menu driven program\n",
        "\n",
        "print(\"1 for lenghth of function.\")\n",
        "print(\"2 for maximum of 3 strings.\")\n",
        "print(\"3 for replacing successive characters with '#'.\")\n",
        "print(\"4 for finding number of words in a string.\")\n",
        "\n",
        "choice = eval(input(\"Enter 1,2,3 or 4:\"))\n",
        "\n",
        "if choice == 1:\n",
        "  string = str(input(\"Enter a string:\"))\n",
        "  a = len(string)\n",
        "  print(\"length is\",a)\n",
        "elif choice == 2:\n",
        "  string1 = str(input(\"Enter a string1:\"))\n",
        "  string2 = str(input(\"Enter a string2:\"))\n",
        "  string3 = str(input(\"Enter a string3:\"))\n",
        "  b = max(string1,string2,string3)\n",
        "  print(\"max is\",b)\n",
        "elif choice == 3:\n",
        "  new = ''\n",
        "  string4 = str(input(\"Enter a string:\"))\n",
        "  for i in range(0,len(string4)):\n",
        "    if i % 2 == 0:\n",
        "      if string4[i] != \" \":\n",
        "        new = new + \"#\"\n",
        "      else:\n",
        "        new = new + string4[i]\n",
        "    else:\n",
        "      new = new + string4[i]\n",
        "  print(\"new string\",new)\n",
        "elif choice == 4:\n",
        "  string5 = str(input(\"Enter a string:\"))\n",
        "  c = len(string5.split()) \n",
        "  print(\"The number of words in string are : \",c)\n",
        "else:\n",
        "  print(\"Doglapan mat karo!!!\")\n",
        "  print(\"Please follow the instructions!!!\")"
      ]
    },
    {
      "cell_type": "code",
      "execution_count": null,
      "metadata": {
        "colab": {
          "base_uri": "https://localhost:8080/"
        },
        "id": "2VDYIUXK04QT",
        "outputId": "c9e43738-672c-4058-f374-bf8157336376"
      },
      "outputs": [
        {
          "name": "stdout",
          "output_type": "stream",
          "text": [
            "prime nos are [2, 3, 11, 13]\n"
          ]
        }
      ],
      "source": [
        "# \n",
        "nums = [2,3,4,8,9,11,13]\n",
        "prime = []\n",
        "\n",
        "for i in nums:\n",
        "  c = 0\n",
        "  for j in range(1,i+1):\n",
        "    if i % j == 0:\n",
        "      c = c + 1\n",
        "  if c == 2:\n",
        "    prime.append(i)\n",
        "print(\"prime nos are\",prime)"
      ]
    },
    {
      "cell_type": "code",
      "execution_count": null,
      "metadata": {
        "colab": {
          "base_uri": "https://localhost:8080/"
        },
        "id": "kXfWiihSNfay",
        "outputId": "d7e2ba68-786a-4bc7-d0fe-a579686f6c7e"
      },
      "outputs": [
        {
          "name": "stdout",
          "output_type": "stream",
          "text": [
            "2\n",
            "12\n"
          ]
        }
      ],
      "source": [
        "a = lambda i:i+1\n",
        "print(a(1))\n",
        "print(a(11))"
      ]
    },
    {
      "cell_type": "code",
      "execution_count": null,
      "metadata": {
        "colab": {
          "base_uri": "https://localhost:8080/"
        },
        "id": "fdj2FTaOXQ0P",
        "outputId": "844ad926-c7ff-43c3-8f9c-4c6f31019096"
      },
      "outputs": [
        {
          "data": {
            "text/plain": [
              "[1, 8, 27, 64, 125]"
            ]
          },
          "execution_count": 4,
          "metadata": {},
          "output_type": "execute_result"
        }
      ],
      "source": [
        "L = [1,2,3,4,5]\n",
        "list(map(lambda x:x**3,L))"
      ]
    },
    {
      "cell_type": "code",
      "execution_count": null,
      "metadata": {
        "colab": {
          "base_uri": "https://localhost:8080/"
        },
        "id": "fMvmNa0tX9Cn",
        "outputId": "43332ece-a31c-40fb-dd39-7b7b81ca4f41"
      },
      "outputs": [
        {
          "name": "stdout",
          "output_type": "stream",
          "text": [
            "[1, 2, 3, 4, 5]\n",
            "25\n",
            "[1, 4, 9, 16, 25]\n"
          ]
        }
      ],
      "source": [
        "L = [-1,-2,-3,-4,-5]\n",
        "my_func = lambda x:x**2\n",
        "new = list(map(abs,L))\n",
        "print(new)\n",
        "m = my_func(5)\n",
        "print(m)\n",
        "n = list(map(my_func,L))\n",
        "print(n)"
      ]
    },
    {
      "cell_type": "code",
      "execution_count": null,
      "metadata": {
        "colab": {
          "base_uri": "https://localhost:8080/"
        },
        "id": "FJtdAQdqqOal",
        "outputId": "3fbf4e7a-ac57-41b9-8eed-74666cb70e51"
      },
      "outputs": [
        {
          "name": "stdout",
          "output_type": "stream",
          "text": [
            "[1, 2, 6, 24, 120]\n"
          ]
        }
      ],
      "source": [
        "def factorial(n):\n",
        "  f = 1\n",
        "  for i in range(1,n+1):\n",
        "    f = f * i\n",
        "  return f\n",
        "\n",
        "l = [1,2,3,4,5]\n",
        "n = list(map(factorial,l))\n",
        "print(n) "
      ]
    },
    {
      "cell_type": "code",
      "execution_count": null,
      "metadata": {
        "colab": {
          "base_uri": "https://localhost:8080/"
        },
        "id": "7O_Ytc44tIc6",
        "outputId": "759d18c5-917b-487f-d477-37cb240e345e"
      },
      "outputs": [
        {
          "name": "stdout",
          "output_type": "stream",
          "text": [
            "Enter a list:[1,4,9,-16,-25,-36,49,64,81,-100,-121,-144,169]\n",
            "[1, 4, 9, 16, 25, 36, 49, 64, 81, 100, 121, 144, 169]\n",
            "[1.0, 2.0, 3.0, 4.0, 5.0, 6.0, 7.0, 8.0, 9.0, 10.0, 11.0, 12.0, 13.0]\n"
          ]
        }
      ],
      "source": [
        "import math\n",
        "l = eval(input(\"Enter a list:\"))\n",
        "n = list(map(abs, l))\n",
        "print(n)\n",
        "a = list(map(math.sqrt, n))\n",
        "print(a)"
      ]
    },
    {
      "cell_type": "code",
      "execution_count": null,
      "metadata": {
        "colab": {
          "base_uri": "https://localhost:8080/"
        },
        "id": "efotIr-2z2Xn",
        "outputId": "8e28778c-1c65-4710-a373-de9b4c58692b"
      },
      "outputs": [
        {
          "name": "stdout",
          "output_type": "stream",
          "text": [
            "Enter a list:[1, 2, 3, 4, 5, 6, 7, 8, 9, 10, 11, 12, 13]\n",
            "[1, 2, 3, 4, 5, 6, 7, 8, 9, 10, 11, 12, 13]\n",
            "['no', 'yes', 'yes', 'no', 'yes', 'no', 'yes', 'no', 'no', 'no', 'yes', 'no', 'yes']\n"
          ]
        }
      ],
      "source": [
        "def prime(n):\n",
        "  factor = 0\n",
        "  for i in range(1,n+1):\n",
        "    if n % i == 0:\n",
        "      factor += 1\n",
        "  if factor == 2:\n",
        "    return \"yes\"\n",
        "  else:\n",
        "    return \"no\"\n",
        "\n",
        "l = eval(input(\"Enter a list:\"))\n",
        "n = list(map(abs,l))\n",
        "print(n)\n",
        "a = list(map(prime,n))\n",
        "print(a) "
      ]
    },
    {
      "cell_type": "code",
      "execution_count": null,
      "metadata": {
        "id": "__k7Z7ID2zc6"
      },
      "outputs": [],
      "source": [
        "# Menu driven program #1\n",
        "\n",
        "print(\"1 to check if all the elements in a list are numbers or not.\")\n",
        "print(\"2 if a numeric list, then count odd and even nos.\")\n",
        "print(\"3 if a all string list, then find the largest string.\")\n",
        "\n",
        "print(' ')\n",
        "\n",
        "choice = eval(input(\"Enter 1,2 or 3:\"))\n",
        "l = eval(input(\"Enter a list of numbers: \")) \n",
        "s = eval(input(\"Enter a list of strings: \")) \n",
        "\n",
        "if choice == 1:\n",
        "  for x in l:\n",
        "    if int(x) == x:\n",
        "      print(x,end=' ')\n",
        "    else:\n",
        "      print(\"Error\")\n",
        "elif choice == 2:\n",
        "  even_count = 0\n",
        "  odd_count = 0\n",
        "  for num in l:\n",
        "    if num % 2 == 0:\n",
        "        even_count += 1\n",
        "    else:\n",
        "        odd_count += 1\n",
        "  print(\"Even numbers in the list:\", even_count)\n",
        "  print(\"Odd numbers in the list:\", odd_count)\n",
        "elif choice == 3:\n",
        "  a = max(s)\n",
        "  print(\"largest string is\",a)\n",
        "else:\n",
        "  print(\"Doglapan mat karo!!!\")\n",
        "  print(\"Please follow the instructions!!!\")"
      ]
    },
    {
      "cell_type": "code",
      "execution_count": null,
      "metadata": {
        "id": "p1y6hKZBApcE"
      },
      "outputs": [],
      "source": [
        "# Menu driven program #2\n",
        "\n",
        "print(\"1 to check if all the elements in a list are numbers or not.\")\n",
        "print(\"2 if a numeric list, then count odd and even nos.\")\n",
        "print(\"3 if a all string list, then find the largest string.\")\n",
        "\n",
        "print(' ')\n",
        "\n",
        "choice = eval(input(\"Enter 1,2 or 3:\"))\n",
        "\n",
        "if choice == 1:\n",
        "  l = eval(input(\"Enter a list: \"))\n",
        "  c = 0\n",
        "  for value in l:\n",
        "    if value.isdigit():\n",
        "      c = c + 1\n",
        "  if c == len(l):\n",
        "    print(\"List contains of all numeric elements.\")\n",
        "  else:\n",
        "    print(\"not all elements are numeric.\")\n",
        "elif choice == 2:\n",
        "  l = eval(input(\"Enter a list: \"))\n",
        "  n = all(isinstance(i,int) for i in l)\n",
        "  if n == True:\n",
        "    c = 0\n",
        "    for val in l:\n",
        "      if val % 2 != 0:\n",
        "        c = c + 1\n",
        "    print(c)\n",
        "  else:\n",
        "    print(\"list contains non numeric data.\")\n",
        "elif choice == 3:\n",
        "  l = eval(input(\"Enter a list: \"))\n",
        "  n = all(isinstance(x,str) for x in l)\n",
        "  if n == True:\n",
        "    m = max(l)\n",
        "    print(\"largest string is\",m)\n",
        "  else:\n",
        "    print(\"list contains non string values.\")\n",
        "else:\n",
        "  print(\"Doglapan mat karo!!!\")\n",
        "  print(\"Please follow the instructions!!!\")  "
      ]
    },
    {
      "cell_type": "code",
      "execution_count": null,
      "metadata": {
        "colab": {
          "base_uri": "https://localhost:8080/"
        },
        "id": "R1A1hL9nbZNn",
        "outputId": "72466a41-4384-42f6-f893-d2d660ab58c5"
      },
      "outputs": [
        {
          "name": "stdout",
          "output_type": "stream",
          "text": [
            "[1, 3, 5, 7, 9]\n",
            "[2, 4, 6, 8, 10]\n"
          ]
        }
      ],
      "source": [
        "l = [1,2,3,4,5,6,7,8,9,10]\n",
        "a = list(filter(lambda x: x % 2 == 1,l))\n",
        "print(a)\n",
        "b = list(filter(lambda x: x % 2 != 1,l))\n",
        "print(b)"
      ]
    },
    {
      "cell_type": "code",
      "execution_count": null,
      "metadata": {
        "colab": {
          "base_uri": "https://localhost:8080/"
        },
        "id": "jV3TU24RdLCy",
        "outputId": "0aabece7-71c3-4333-de4d-f9ef6a3480f2"
      },
      "outputs": [
        {
          "name": "stdout",
          "output_type": "stream",
          "text": [
            "720\n",
            "0.001388888888888889\n"
          ]
        }
      ],
      "source": [
        "import functools\n",
        "\n",
        "l = [1,2,3,4,5,6]\n",
        "n = functools.reduce(lambda x,y : x*y,l)\n",
        "print(n)\n",
        "N = functools.reduce(lambda x,y : x/y,l)\n",
        "print(N) "
      ]
    },
    {
      "cell_type": "code",
      "execution_count": null,
      "metadata": {
        "colab": {
          "base_uri": "https://localhost:8080/"
        },
        "id": "BNy3QuJZhHos",
        "outputId": "82ffe604-d676-491c-a0f1-cbd36b30b472"
      },
      "outputs": [
        {
          "name": "stdout",
          "output_type": "stream",
          "text": [
            "minors are [1, 2, 3, 4, 5, 6, 7, 8, 9, 10, 11, 12, 13, 14, 15, 16, 17]\n",
            "majors are [18, 19, 20, 21, 22, 23, 24, 25, 26, 27, 28, 29, 30, 31, 32, 33, 34, 35, 36, 37, 38, 39, 40, 41, 42, 43, 44, 45, 46, 47, 48, 49, 50]\n"
          ]
        }
      ],
      "source": [
        "age_list = [0,1,2,3,4,5,6,7,8,9,10,11,12,13,14,15,16,17,18,19,20,21,22,23,24,25,26,\n",
        "            27,28,29,30,31,32,33,34,35,36,37,38,39,40,41,42,43,44,45,46,47,48,49,50]\n",
        "m = list(filter(lambda x : 0 < x < 18, age_list))\n",
        "print(\"minors are\",m)\n",
        "M = list(filter(lambda x : 17 < x < 51, age_list))\n",
        "print(\"majors are\",M)"
      ]
    },
    {
      "cell_type": "code",
      "execution_count": null,
      "metadata": {
        "colab": {
          "base_uri": "https://localhost:8080/"
        },
        "id": "qhgkNgaB6iU7",
        "outputId": "22a4ac69-0f93-477c-ac48-f3ef362cf7bb"
      },
      "outputs": [
        {
          "name": "stdout",
          "output_type": "stream",
          "text": [
            "Enter your value:60\n",
            "1\n",
            "2\n",
            "3\n",
            "4\n",
            "5\n",
            "6\n",
            "10\n",
            "12\n",
            "15\n",
            "20\n",
            "30\n",
            "60\n"
          ]
        }
      ],
      "source": [
        "# Q1\n",
        "n = eval(input(\"Enter your value:\"))\n",
        "\n",
        "for i in range(1,n+1):\n",
        "  if n % i == 0:\n",
        "    print(i)"
      ]
    },
    {
      "cell_type": "markdown",
      "metadata": {
        "id": "GG19iO9-ZLW2"
      },
      "source": [
        "# Python continues again (4)"
      ]
    },
    {
      "cell_type": "code",
      "execution_count": null,
      "metadata": {
        "colab": {
          "base_uri": "https://localhost:8080/"
        },
        "id": "dhqkHyxL9iSk",
        "outputId": "542e31e9-44e6-4a39-851e-58c6015ae305"
      },
      "outputs": [
        {
          "name": "stdout",
          "output_type": "stream",
          "text": [
            "Enter your value:24\n",
            "the factors are ( 1,2,3,4,6,8,12,24,)\n"
          ]
        }
      ],
      "source": [
        "# Q1\n",
        "n = eval(input(\"Enter your value:\"))\n",
        "\n",
        "print(\"the factors are (\", end=\" \")\n",
        "for i in range(1,n+1):\n",
        "  if n % i == 0:\n",
        "    print(i,end=\",\")\n",
        "print(\")\")  "
      ]
    },
    {
      "cell_type": "code",
      "execution_count": null,
      "metadata": {
        "colab": {
          "base_uri": "https://localhost:8080/"
        },
        "id": "VvsUs5q26IFH",
        "outputId": "7d7c6ecf-6de5-494e-ac82-9b8f87b17699"
      },
      "outputs": [
        {
          "name": "stdout",
          "output_type": "stream",
          "text": [
            "type a number : 60\n",
            "the factors are ( 1, 2, 3, 4, 5, 6, 10, 12, 15, 20, 30, 60 )\n"
          ]
        }
      ],
      "source": [
        "def factors(n):\n",
        "    print(\"the factors are (\", end=\" \")\n",
        "    for i in range(1,n+1):\n",
        "      if n % i == 0 and i != n:\n",
        "        print(i,end=\", \")\n",
        "      if i == n and n % i == 0:\n",
        "        print(i, end=' ')\n",
        "    print(\")\") \n",
        "\n",
        "n = eval(input('type a number : '))\n",
        "factors(n)"
      ]
    },
    {
      "cell_type": "code",
      "execution_count": null,
      "metadata": {
        "colab": {
          "base_uri": "https://localhost:8080/"
        },
        "id": "z6nUPzwV1SuC",
        "outputId": "10c7d79a-c30a-4b14-d9c9-fa32e65ce9e6"
      },
      "outputs": [
        {
          "name": "stdout",
          "output_type": "stream",
          "text": [
            "Enter n1: 24\n",
            "Enter n2: 40\n",
            "Common factors are {8, 1, 2, 4}\n"
          ]
        }
      ],
      "source": [
        "# Q2\n",
        "n1 = eval(input(\"Enter n1: \"))\n",
        "n2 = eval(input(\"Enter n2: \"))\n",
        "\n",
        "common = {i for i in range(1, min(n1+1, n2+1)) if n1 % i == 0 and n2 % i == 0}\n",
        "\n",
        "print(\"Common factors are\",common)"
      ]
    },
    {
      "cell_type": "code",
      "execution_count": null,
      "metadata": {
        "colab": {
          "base_uri": "https://localhost:8080/"
        },
        "id": "J18fHyn17pAj",
        "outputId": "5ff97d29-cc72-4ba4-c907-bbd3e47ec71a"
      },
      "outputs": [
        {
          "name": "stdout",
          "output_type": "stream",
          "text": [
            "Enter n1: 24\n",
            "Enter n2: 60\n",
            "The common divisors of 24 and 60 are :\n",
            "1\n",
            "2\n",
            "3\n",
            "4\n",
            "6\n",
            "12\n"
          ]
        }
      ],
      "source": [
        "# Q2\n",
        "n1 = eval(input(\"Enter n1: \"))\n",
        "n2 = eval(input(\"Enter n2: \"))\n",
        "divisor = 0\n",
        "print(\"The common divisors of\",n1,\"and\",n2,\"are :\")\n",
        "for i in range(1,min(n1,n2)+1):\n",
        "  if n1%i == n2%i == 0:\n",
        "    divisor = i\n",
        "    print(divisor)"
      ]
    },
    {
      "cell_type": "code",
      "execution_count": null,
      "metadata": {
        "colab": {
          "base_uri": "https://localhost:8080/"
        },
        "id": "7hM3bE2tFjSE",
        "outputId": "4d26d7c2-a798-4eb6-f30b-9018fabd7a07"
      },
      "outputs": [
        {
          "name": "stdout",
          "output_type": "stream",
          "text": [
            "Enter a set: {1,2,3,4,5,6,7,8,9}\n",
            "Enter a set: {1,10,23,5,87,90,4,8,7,0}\n",
            " \n",
            "A U B = {0, 1, 2, 3, 4, 5, 6, 7, 8, 9, 10, 23, 87, 90}\n",
            " \n",
            "A ∩ B = {1, 4, 5, 7, 8}\n",
            " \n",
            "A - B = {9, 2, 3, 6}\n",
            " \n",
            "B - A = {0, 10, 23, 87, 90}\n",
            " \n",
            "B.symmetric_difference(A) = {0, 2, 3, 6, 9, 10, 87, 23, 90}\n",
            " \n",
            "A.symmetric_difference(B) = {0, 2, 3, 6, 9, 10, 23, 87, 90}\n"
          ]
        }
      ],
      "source": [
        "# Q3\n",
        "A = eval(input(\"Enter a set: \"))\n",
        "B = eval(input(\"Enter a set: \"))\n",
        "\n",
        "print(\" \")\n",
        "\n",
        "C = A.union(B)\n",
        "print(\"A U B =\",C)\n",
        "print(\" \")\n",
        "D = A.intersection(B)\n",
        "print(\"A ∩ B =\",D)\n",
        "print(\" \")\n",
        "E = A - B\n",
        "print(\"A - B =\",E)\n",
        "print(\" \")\n",
        "F = B - A \n",
        "print(\"B - A =\",F)\n",
        "print(\" \")\n",
        "G = B.symmetric_difference(A)\n",
        "print(\"B.symmetric_difference(A) =\",G)\n",
        "print(\" \")\n",
        "H = A.symmetric_difference(B)\n",
        "print(\"A.symmetric_difference(B) =\",H) "
      ]
    },
    {
      "cell_type": "code",
      "execution_count": null,
      "metadata": {
        "colab": {
          "base_uri": "https://localhost:8080/"
        },
        "id": "d9ht7bDGF9ni",
        "outputId": "0087c464-622d-4b71-e5d7-e6196976de94"
      },
      "outputs": [
        {
          "name": "stdout",
          "output_type": "stream",
          "text": [
            "Enter a list: [1,2,3,4,5,6,7,8,9]\n",
            "Enter a list: [1,10,23,5,87,90,4,8,7,0]\n",
            " \n",
            "A U B = {0, 1, 2, 3, 4, 5, 6, 7, 8, 9, 10, 23, 87, 90}\n",
            " \n",
            "A ∩ B = {1, 4, 5, 7, 8}\n",
            " \n",
            "A - B = {9, 2, 3, 6}\n",
            " \n",
            "B - A = {0, 10, 23, 87, 90}\n",
            " \n",
            "B.symmetric_difference(A) = {0, 2, 3, 6, 9, 10, 87, 23, 90}\n",
            " \n",
            "A.symmetric_difference(B) = {0, 2, 3, 6, 9, 10, 23, 87, 90}\n"
          ]
        }
      ],
      "source": [
        "# Q4\n",
        "a = eval(input(\"Enter a list: \"))\n",
        "b = eval(input(\"Enter a list: \"))\n",
        "\n",
        "A = set(a)\n",
        "B = set(b)\n",
        "\n",
        "print(\" \")\n",
        "\n",
        "C = A.union(B)\n",
        "print(\"A U B =\",C)\n",
        "print(\" \")\n",
        "D = A.intersection(B)\n",
        "print(\"A ∩ B =\",D)\n",
        "print(\" \")\n",
        "E = A - B\n",
        "print(\"A - B =\",E)\n",
        "print(\" \")\n",
        "F = B - A \n",
        "print(\"B - A =\",F)\n",
        "print(\" \")\n",
        "G = B.symmetric_difference(A)\n",
        "print(\"B.symmetric_difference(A) =\",G)\n",
        "print(\" \")\n",
        "H = A.symmetric_difference(B)\n",
        "print(\"A.symmetric_difference(B) =\",H)"
      ]
    },
    {
      "cell_type": "code",
      "execution_count": null,
      "metadata": {
        "colab": {
          "base_uri": "https://localhost:8080/"
        },
        "id": "9jIzIi3JHBvd",
        "outputId": "4cd26cd7-9e0b-4ddd-e6d8-a449fe50cdf1"
      },
      "outputs": [
        {
          "name": "stdout",
          "output_type": "stream",
          "text": [
            "Enter a list: [1,2,2,3,3,4,5,7,6,0]\n",
            "[1, 2, 3, 4, 5, 7, 6, 0]\n"
          ]
        }
      ],
      "source": [
        "# Q5\n",
        "def Remove(duplicate):\n",
        "    final_list = []\n",
        "    for num in duplicate:\n",
        "        if num not in final_list:\n",
        "            final_list.append(num)\n",
        "    return final_list\n",
        "\n",
        "duplicate = eval(input(\"Enter a list: \"))\n",
        "print(Remove(duplicate))"
      ]
    },
    {
      "cell_type": "code",
      "execution_count": null,
      "metadata": {
        "colab": {
          "base_uri": "https://localhost:8080/"
        },
        "id": "siNkZMC2H6pU",
        "outputId": "a34aac68-6b07-430a-9e9b-9f121f9db0b0"
      },
      "outputs": [
        {
          "name": "stdout",
          "output_type": "stream",
          "text": [
            "Enter a list: [1,2,2,3,3,4,5,7,6,0]\n",
            "[1, 2, 3, 4, 5, 7, 6, 0]\n"
          ]
        }
      ],
      "source": [
        "# Q5 \n",
        "num_list = eval(input(\"Enter a list: \")) \n",
        "result = [] \n",
        "[result.append(x) for x in num_list if x not in result] \n",
        "print(result) "
      ]
    },
    {
      "cell_type": "code",
      "execution_count": null,
      "metadata": {
        "colab": {
          "base_uri": "https://localhost:8080/"
        },
        "id": "8GMhUyjyJfw6",
        "outputId": "42add4ad-fdbc-4c2c-9284-2598281bb771"
      },
      "outputs": [
        {
          "name": "stdout",
          "output_type": "stream",
          "text": [
            "Enter a list: [1,2,2,3,3,4,5,7,6,0]\n",
            "[0, 1, 2, 3, 4, 5, 6, 7]\n"
          ]
        }
      ],
      "source": [
        "# Q5 \n",
        "num_list = eval(input(\"Enter a list: \")) \n",
        "result = list(set(num_list))\n",
        "print(result)"
      ]
    },
    {
      "cell_type": "code",
      "execution_count": null,
      "metadata": {
        "colab": {
          "base_uri": "https://localhost:8080/"
        },
        "id": "Q5jEODhlZIZO",
        "outputId": "6c950000-5ffa-4c12-a283-2892f40b3903"
      },
      "outputs": [
        {
          "name": "stdout",
          "output_type": "stream",
          "text": [
            "10\n",
            "[1, 3, 2, 4, 6, 5, 7, 9, 8]\n"
          ]
        }
      ],
      "source": [
        "a = [1,3,2,4,6,5,7,9,8,10]\n",
        "b = a.pop()\n",
        "print(b)\n",
        "print(a)"
      ]
    },
    {
      "cell_type": "code",
      "execution_count": null,
      "metadata": {
        "colab": {
          "base_uri": "https://localhost:8080/"
        },
        "id": "7Qjz_SNBbOez",
        "outputId": "7e6ba92e-b854-4741-fd92-3e184c6bc0a6"
      },
      "outputs": [
        {
          "name": "stdout",
          "output_type": "stream",
          "text": [
            "Enter a number you want to delete: 5\n",
            "{0, 1, 2, 3, 4, 5, 6, 7, 8, 9, 10, 13}\n"
          ]
        }
      ],
      "source": [
        "a = {1,3,5,2,0,10,9,6,7,4,8,13}\n",
        "n = eval(input(\"Enter a number you want to delete: \"))\n",
        "s = set()\n",
        "for i in a:\n",
        "  if i != s:\n",
        "    s.add(i)\n",
        "print(s)"
      ]
    },
    {
      "cell_type": "code",
      "execution_count": null,
      "metadata": {
        "colab": {
          "base_uri": "https://localhost:8080/"
        },
        "id": "3xg3XQNluIvK",
        "outputId": "0a47f72c-cc2c-4bb2-e767-1de875a4beeb"
      },
      "outputs": [
        {
          "name": "stdout",
          "output_type": "stream",
          "text": [
            "Enter a string: BCDEF\n",
            "bcdef is a heterogram.\n"
          ]
        }
      ],
      "source": [
        "# Heterogram\n",
        "\n",
        "def heterogram(s,n):\n",
        "  alph = [0] * 26\n",
        "  for i in range(n):\n",
        "    if s[i] != ' ':\n",
        "      if alph[ord(s[i]) - ord('a')] == 0:\n",
        "        alph[ord(s[i]) - ord('a')] = 1\n",
        "      else:\n",
        "        return False\n",
        "  return True\n",
        "\n",
        "s = input(\"Enter a string: \").lower()\n",
        "n = len(s)\n",
        "\n",
        "if heterogram(s,n):\n",
        "  print(s,\"is a heterogram.\")\n",
        "else:\n",
        "  print(s,\"is not a heterogram.\")"
      ]
    },
    {
      "cell_type": "code",
      "execution_count": null,
      "metadata": {
        "colab": {
          "base_uri": "https://localhost:8080/"
        },
        "id": "cNwH6eD4zgUr",
        "outputId": "772e4b6f-0f0c-4cdf-f994-5eced93ec8cc"
      },
      "outputs": [
        {
          "name": "stdout",
          "output_type": "stream",
          "text": [
            "type a word :Akshit\n",
            "it is a heterogram\n",
            "None\n"
          ]
        }
      ],
      "source": [
        "def heterogram(x):\n",
        "    q = s1.isalpha()\n",
        "\n",
        "    if q:\n",
        "        len1 = len(x)\n",
        "        answer1 = set(x)\n",
        "        len2 = len(answer1)\n",
        "        if len1 == len2:\n",
        "            print('it is a heterogram')\n",
        "        else:\n",
        "            print('It is not a heterogram , please try again')\n",
        "\n",
        "\n",
        "s1 = input('type a word :').lower()\n",
        "\n",
        "print(heterogram(s1)) "
      ]
    },
    {
      "cell_type": "code",
      "execution_count": null,
      "metadata": {
        "colab": {
          "base_uri": "https://localhost:8080/"
        },
        "id": "1dIP4xsqw_oJ",
        "outputId": "7cc8ded8-6217-48bd-89c3-cfe74ec7d508"
      },
      "outputs": [
        {
          "name": "stdout",
          "output_type": "stream",
          "text": [
            "Enter a list a: [1,2,3,4]\n",
            "Enter a list b: [4,8,13,5,2,1,0]\n",
            "list union [0, 1, 2, 3, 4, 5, 8, 13]\n",
            "list intersection [1, 2, 4]\n",
            "list a-b [3]\n",
            "list b-a [0, 8, 13, 5]\n"
          ]
        }
      ],
      "source": [
        "def union(a,b):\n",
        "  U = list(set(a)|set(b))\n",
        "  return U\n",
        "\n",
        "def intersection(a,b):\n",
        "  I = list(set(a)&set(b))\n",
        "  return I\n",
        "\n",
        "def set_difference_1(a,b):\n",
        "  D = list(set(a)-set(b))\n",
        "  return D\n",
        "\n",
        "def set_difference_2(a,b):\n",
        "  D = list(set(b)-set(a))\n",
        "  return D\n",
        "\n",
        "a = eval(input(\"Enter a list a: \"))\n",
        "b = eval(input(\"Enter a list b: \"))\n",
        "print(\"list union\",union(a,b))\n",
        "print(\"list intersection\",intersection(a,b))\n",
        "print(\"list a-b\",set_difference_1(a,b))\n",
        "print(\"list b-a\",set_difference_2(a,b))"
      ]
    },
    {
      "cell_type": "code",
      "execution_count": null,
      "metadata": {
        "colab": {
          "base_uri": "https://localhost:8080/"
        },
        "id": "QPykMYswQT6w",
        "outputId": "5933244d-7043-40d4-84d7-5b85e9e731fb"
      },
      "outputs": [
        {
          "name": "stdout",
          "output_type": "stream",
          "text": [
            "Enter a number : 1304\n",
            "1304 : one thousand three hundred four\n"
          ]
        }
      ],
      "source": [
        "def convert_to_words(num):\n",
        "  l = len(num)\n",
        "  if l == 0:\n",
        "    print(\"empty string\")\n",
        "    return\n",
        "\n",
        "  if l > 4:\n",
        "    print(\"Length more than 4 is not supported\")\n",
        "    return\n",
        "\n",
        "  single_digits = [\"zero\", \"one\", \"two\", \"three\",\n",
        "                   \"four\", \"five\", \"six\", \"seven\",\n",
        "                   \"eight\", \"nine\"]\n",
        "\n",
        "  two_digits = [\"\", \"ten\", \"eleven\", \"twelve\",\n",
        "                \"thirteen\", \"fourteen\", \"fifteen\",\n",
        "                \"sixteen\", \"seventeen\", \"eighteen\",\n",
        "                \"nineteen\"]\n",
        "\n",
        "  tens_multiple = [\"\", \"\", \"twenty\", \"thirty\", \"forty\",\n",
        "                   \"fifty\", \"sixty\", \"seventy\", \"eighty\",\n",
        "                   \"ninety\"]\n",
        " \n",
        "  tens_power = [\"hundred\", \"thousand\"]\n",
        "\n",
        "  print(num, \":\", end=\" \")\n",
        " \n",
        "  if (l == 1):\n",
        "    print(single_digits[ord(num[0]) - 48])\n",
        "    return\n",
        "  x = 0\n",
        "  while (x < len(num)):\n",
        "    if (l >= 3):\n",
        "      if (ord(num[x]) - 48 != 0):\n",
        "        print(single_digits[ord(num[x]) - 48],end=\" \")\n",
        "        print(tens_power[l - 3], end=\" \")\n",
        " \n",
        "      l -= 1\n",
        " \n",
        "    else:\n",
        "      if (ord(num[x]) - 48 == 1):\n",
        "        sum = (ord(num[x]) - 48 + ord(num[x+1]) - 48)\n",
        "        print(two_digits[sum])\n",
        "        return\n",
        "  \n",
        "      elif (ord(num[x]) - 48 == 2 and ord(num[x + 1]) - 48 == 0):\n",
        "        print(\"twenty\")\n",
        "        return\n",
        "      else:\n",
        "        i = ord(num[x]) - 48\n",
        "        if(i > 0):\n",
        "          print(tens_multiple[i], end=\" \")\n",
        "        else:\n",
        "          print(\"\", end=\"\")\n",
        "        x += 1\n",
        "        if(ord(num[x]) - 48 != 0):\n",
        "          print(single_digits[ord(num[x]) - 48])\n",
        "    x += 1\n",
        " \n",
        "n = str(input(\"Enter a number : \"))\n",
        "# length = len(n)\n",
        "# if length > 4:\n",
        "#  print(\"You don't know about this code.\")\n",
        "convert_to_words(n) "
      ]
    },
    {
      "cell_type": "code",
      "execution_count": null,
      "metadata": {
        "colab": {
          "base_uri": "https://localhost:8080/"
        },
        "id": "IhmIT8Iey4H0",
        "outputId": "55f17c58-044d-497b-a564-cecebe90be42"
      },
      "outputs": [
        {
          "name": "stdout",
          "output_type": "stream",
          "text": [
            "enter your roll number :2142\n",
            "two one four two \n"
          ]
        }
      ],
      "source": [
        "def convert_to_words(roll_number):\n",
        "    list1 = []\n",
        "\n",
        "    numbers = {\n",
        "    1 : 'one',\n",
        "    2 : 'two',\n",
        "    3 : 'three',\n",
        "    4 : 'four',\n",
        "    5 : 'five',\n",
        "    6 : 'six',\n",
        "    7 : 'seven',\n",
        "    8 : 'eight',\n",
        "    9 : 'nine',\n",
        "    0 : 'zero',\n",
        "    }\n",
        "\n",
        "    while roll_number > 0 :\n",
        "        x = roll_number % 10\n",
        "        list1.append(x)\n",
        "        roll_number = roll_number // 10\n",
        "    list2 = list1[::-1]\n",
        "\n",
        "    for x in list2:\n",
        "        if x in numbers:\n",
        "            k = numbers.get(x,-1)\n",
        "            print(k, end=' ')\n",
        "    print()\n",
        "\n",
        "\n",
        "roll_number = eval(input(\"enter your roll number :\"))\n",
        "    \n",
        "convert_to_words(roll_number)"
      ]
    },
    {
      "cell_type": "code",
      "execution_count": null,
      "metadata": {
        "colab": {
          "base_uri": "https://localhost:8080/"
        },
        "id": "ZjkW0Wp4psGU",
        "outputId": "110dc866-910b-4512-e111-882140f8af68"
      },
      "outputs": [
        {
          "name": "stdout",
          "output_type": "stream",
          "text": [
            "15\n"
          ]
        }
      ],
      "source": [
        "sum = 0\n",
        "i = 10\n",
        "while i > 0:\n",
        "  sum = sum + i\n",
        "  i = i - 5\n",
        "print(sum)"
      ]
    },
    {
      "cell_type": "code",
      "execution_count": null,
      "metadata": {
        "colab": {
          "base_uri": "https://localhost:8080/"
        },
        "id": "1sph9gr1trim",
        "outputId": "eb2250bc-4383-42fb-c03a-4ababef3bd11"
      },
      "outputs": [
        {
          "name": "stdout",
          "output_type": "stream",
          "text": [
            "The prime numbers in this range are:  [2, 3, 5]\n"
          ]
        }
      ],
      "source": [
        "def prime(x, y):\n",
        "    prime_list = []\n",
        "    for i in range(x, y):\n",
        "        if i == 0 or i == 1:\n",
        "            continue\n",
        "        else:\n",
        "            for j in range(2, int(i/2)+1):\n",
        "                if i % j == 0:\n",
        "                    break\n",
        "            else:\n",
        "              prime_list.append(i)\n",
        "    return prime_list \n",
        "\n",
        "starting_range = 2\n",
        "ending_range = 7\n",
        "lst = prime(starting_range, ending_range)\n",
        "if len(lst) == 0:\n",
        "    print(\"There are no prime numbers in this range\")\n",
        "else:\n",
        "    print(\"The prime numbers in this range are: \", lst)\n",
        "  "
      ]
    },
    {
      "cell_type": "code",
      "execution_count": null,
      "metadata": {
        "id": "RORh32VEvzpQ"
      },
      "outputs": [],
      "source": [
        "\ti = 1\n",
        "\twhile i < 20:\n",
        "\t    if i % 2 == 1:\n",
        "\t        print(i)\n",
        "\t        i += 3"
      ]
    },
    {
      "cell_type": "code",
      "execution_count": null,
      "metadata": {
        "colab": {
          "base_uri": "https://localhost:8080/"
        },
        "id": "iaAqT9YayDjs",
        "outputId": "19c2fa37-c092-429c-dfde-7b940523f982"
      },
      "outputs": [
        {
          "name": "stdout",
          "output_type": "stream",
          "text": [
            "['0', '2', '4', '6']\n"
          ]
        }
      ],
      "source": [
        "L = [\"0\",\"1\",\"2\",\"3\",\"4\",\"5\",\"6\"]\n",
        "del L[1::2]\n",
        "print(L)"
      ]
    },
    {
      "cell_type": "code",
      "execution_count": null,
      "metadata": {
        "colab": {
          "base_uri": "https://localhost:8080/"
        },
        "id": "7NPZK4nA0Fga",
        "outputId": "5c78d6cb-c67d-4d5c-9833-012c13469227"
      },
      "outputs": [
        {
          "name": "stdout",
          "output_type": "stream",
          "text": [
            "['0', '2', '4', '6']\n"
          ]
        }
      ],
      "source": [
        "def odd_pos_removed(list):\n",
        "  del list[1::2]\n",
        "  print(list)\n",
        "\n",
        "L = [\"0\",\"1\",\"2\",\"3\",\"4\",\"5\",\"6\"]\n",
        "odd_pos_removed(L)"
      ]
    },
    {
      "cell_type": "code",
      "execution_count": null,
      "metadata": {
        "colab": {
          "base_uri": "https://localhost:8080/"
        },
        "id": "wx9BOZYp1I46",
        "outputId": "11a4ef15-080f-45c6-e640-2dde3cc5665f"
      },
      "outputs": [
        {
          "name": "stdout",
          "output_type": "stream",
          "text": [
            "[2, 12, 12, 15, 10, 25, 14, 35, 12, 45, 26, 12, 60]\n"
          ]
        }
      ],
      "source": [
        "A= [1,21,3,4,5,6,7,8,9,10, 13, 15,18] \n",
        "for i in range(0, len(A)) : \n",
        "  if (A[i] %2 ==0): \n",
        "    A[i] = 5 *i\n",
        "  elif (A[i] % 3==0): \n",
        "    A[i]= 6 *2 \n",
        "  else:\n",
        "     A[i] *=2 \n",
        "print(A) \n"
      ]
    },
    {
      "cell_type": "code",
      "execution_count": null,
      "metadata": {
        "colab": {
          "base_uri": "https://localhost:8080/"
        },
        "id": "IoSInKuraU-1",
        "outputId": "5f955c10-69cb-475a-c3a1-5d20dc549fff"
      },
      "outputs": [
        {
          "name": "stdout",
          "output_type": "stream",
          "text": [
            "Enter a string:Akshit Manchanda\n",
            "{'a': 4, 'e': 0, 'i': 1, 'o': 0, 'u': 0}\n"
          ]
        }
      ],
      "source": [
        "# Vowel counter\n",
        "\n",
        "a_string = input(\"Enter a string:\").lower()\n",
        "lowercase = a_string.lower()\n",
        "vowel_counts = {}\n",
        "\n",
        "for vowel in \"aeiou\":\n",
        "    count = lowercase.count(vowel)\n",
        "    vowel_counts[vowel] = count\n",
        "\n",
        "print(vowel_counts)"
      ]
    },
    {
      "cell_type": "code",
      "execution_count": null,
      "metadata": {
        "colab": {
          "base_uri": "https://localhost:8080/"
        },
        "id": "hqyRZn8pbKKX",
        "outputId": "0bf0f270-b10f-4a6f-9e28-c2b00b50f3b9"
      },
      "outputs": [
        {
          "name": "stdout",
          "output_type": "stream",
          "text": [
            "Enter a string:Akshit Manchanda\n",
            "{'a': 4, 'e': 0, 'i': 1, 'o': 0, 'u': 0}\n",
            "{'b': 0, 'c': 1, 'd': 1, 'f': 0, 'g': 0, 'h': 2, 'j': 0, 'k': 1, 'l': 0, 'm': 1, 'n': 2, 'p': 0, 'q': 0, 'r': 0, 's': 1, 't': 1, 'v': 0, 'w': 0, 'x': 0, 'y': 0, 'z': 0}\n"
          ]
        }
      ],
      "source": [
        "# Vowel and consonant counter\n",
        "\n",
        "a_string = input(\"Enter a string:\")\n",
        "lowercase = a_string.lower()\n",
        "vowel_counts = {}\n",
        "consonant_counts = {}\n",
        "\n",
        "\n",
        "for vowel in \"aeiou\":\n",
        "  count = lowercase.count(vowel)\n",
        "  vowel_counts[vowel] = count\n",
        "\n",
        "for consonant in \"bcdfghjklmnpqrstvwxyz\":\n",
        "  count1 = lowercase.count(consonant)\n",
        "  consonant_counts[consonant] = count1\n",
        "\n",
        "\n",
        "print(vowel_counts)\n",
        "print(consonant_counts)"
      ]
    },
    {
      "cell_type": "code",
      "execution_count": null,
      "metadata": {
        "colab": {
          "base_uri": "https://localhost:8080/"
        },
        "id": "Z5h9nJ7Wd4zl",
        "outputId": "f242dd3c-2ca0-48cd-d46e-f9bef72732b1"
      },
      "outputs": [
        {
          "name": "stdout",
          "output_type": "stream",
          "text": [
            "Enter a string:Akshit Manchanda !@#$%^&*?/|\\\n",
            "{'a': 3, 'e': 0, 'i': 1, 'o': 0, 'u': 0, 'A': 1, 'E': 0, 'I': 0, 'O': 0, 'U': 0}\n",
            "{'b': 0, 'c': 1, 'd': 1, 'f': 0, 'g': 0, 'h': 2, 'j': 0, 'k': 1, 'l': 0, 'm': 0, 'n': 2, 'p': 0, 'q': 0, 'r': 0, 's': 1, 't': 1, 'v': 0, 'w': 0, 'x': 0, 'y': 0, 'z': 0, 'B': 0, 'C': 0, 'D': 0, 'F': 0, 'G': 0, 'H': 0, 'J': 0, 'K': 0, 'L': 0, 'M': 1, 'N': 0, 'P': 0, 'Q': 0, 'R': 0, 'S': 0, 'T': 0, 'V': 0, 'W': 0, 'X': 0, 'Y': 0, 'Z': 0}\n",
            "{'!': 1, '@': 1, '#': 1, '$': 1, '%': 1, '^': 1, '&': 1, '*': 1, '?': 1, '/': 1, '\\\\': 1, '|': 1, '_': 0, \"'\": 0, ' ': 2}\n"
          ]
        }
      ],
      "source": [
        "# Vowel, consonant and special character counter\n",
        "\n",
        "a_string = input(\"Enter a string:\")\n",
        "vowel_counts = {}\n",
        "consonant_counts = {}\n",
        "spec_char_counts = {}\n",
        "\n",
        "for vowel in \"aeiouAEIOU\":\n",
        "  count = a_string.count(vowel)\n",
        "  vowel_counts[vowel] = count\n",
        "\n",
        "for consonant in \"bcdfghjklmnpqrstvwxyzBCDFGHJKLMNPQRSTVWXYZ\":\n",
        "  count1 = a_string.count(consonant)\n",
        "  consonant_counts[consonant] = count1\n",
        "\n",
        "for spec_char in \"!@#$%^&*?/\\|_' '\":\n",
        "  count2 = a_string.count(spec_char)\n",
        "  spec_char_counts[spec_char] = count2\n",
        "\n",
        "\n",
        "print(vowel_counts)\n",
        "print(consonant_counts)\n",
        "print(spec_char_counts)"
      ]
    },
    {
      "cell_type": "code",
      "execution_count": null,
      "metadata": {
        "colab": {
          "base_uri": "https://localhost:8080/"
        },
        "id": "LudzAteKz0sV",
        "outputId": "4e25268d-48e7-4d96-e2a5-c1d68e092a52"
      },
      "outputs": [
        {
          "name": "stdout",
          "output_type": "stream",
          "text": [
            "Enter a string:This is Akshit Manchanda\n",
            "list of all vowels in the sentence : {'a': 4, 'i': 3}\n",
            "list of all consonants in the sentence : {'c': 1, 'd': 1, 'h': 3, 'k': 1, 'm': 1, 'n': 2, 's': 3, 't': 2}\n",
            "list of all special characters in the sentence : {}\n"
          ]
        }
      ],
      "source": [
        "# Vowel, consonant and special character counter\n",
        "\n",
        "string = input(\"Enter a string:\").lower()\n",
        "vowel_count = {}\n",
        "consonant_count = {}\n",
        "special_char_count = {}\n",
        "\n",
        "for vowel in \"aeiou\":\n",
        "  count = string.count(vowel)\n",
        "  if count == 0:\n",
        "        continue\n",
        "  else:\n",
        "    vowel_count[vowel] = count\n",
        "\n",
        "for consonant in \"bcdfghjklmnpqrstvwxyz\":\n",
        "  count1 = string.count(consonant)\n",
        "  if count1 == 0:\n",
        "        continue\n",
        "  else:\n",
        "    consonant_count[consonant] = count1\n",
        "\n",
        "for special_char in \"!@#$%^&*?/\\|_\":\n",
        "  count2 = string.count(special_char)\n",
        "  if count2 == 0:\n",
        "        continue\n",
        "  else:\n",
        "    special_char_count[special_char] = count2\n",
        "  \n",
        "\n",
        "\n",
        "print('list of all vowels in the sentence :', vowel_count)\n",
        "\n",
        "print('list of all consonants in the sentence :', consonant_count)\n",
        "\n",
        "print('list of all special characters in the sentence :', special_char_count)"
      ]
    },
    {
      "cell_type": "code",
      "execution_count": null,
      "metadata": {
        "colab": {
          "base_uri": "https://localhost:8080/"
        },
        "id": "v1BWDU6of3rz",
        "outputId": "b3c68a2b-3a66-4526-b942-ec6bf2ad4abd"
      },
      "outputs": [
        {
          "name": "stdout",
          "output_type": "stream",
          "text": [
            "Enter a sentence: Hi, I am Akshit Manchanda.\n",
            "{'H': 1, 'i': 2, ',': 1, ' ': 4, 'I': 1, 'a': 4, 'm': 1, 'A': 1, 'k': 1, 's': 1, 'h': 2, 't': 1, 'M': 1, 'n': 2, 'c': 1, 'd': 1, '.': 1}\n"
          ]
        }
      ],
      "source": [
        "# All char counter\n",
        "\n",
        "sentence = input(\"Enter a sentence: \")\n",
        "d = {}\n",
        "\n",
        "for char in sentence:\n",
        "  if char in d.keys():\n",
        "    d[char] = d[char] + 1\n",
        "  else:\n",
        "    d[char] = 1\n",
        "print(d) "
      ]
    },
    {
      "cell_type": "code",
      "execution_count": null,
      "metadata": {
        "colab": {
          "base_uri": "https://localhost:8080/"
        },
        "id": "DnGzSBcJwz1g",
        "outputId": "85a42ac0-df8d-49fa-c44c-89ebac562056"
      },
      "outputs": [
        {
          "name": "stdout",
          "output_type": "stream",
          "text": [
            "Enter a number: 13\n",
            "{1: 1, 2: 8, 3: 27, 4: 64, 5: 125, 6: 216, 7: 343, 8: 512, 9: 729, 10: 1000, 11: 1331, 12: 1728, 13: 2197}\n",
            " \n",
            "{1: 1, 2: 4, 3: 9, 4: 16, 5: 25, 6: 36, 7: 49, 8: 64, 9: 81, 10: 100, 11: 121, 12: 144, 13: 169}\n"
          ]
        }
      ],
      "source": [
        "# loop and dict\n",
        "\n",
        "n = eval(input(\"Enter a number: \"))\n",
        "d = {}\n",
        "d1 = {}\n",
        "\n",
        "for i in range(1,n+1):\n",
        "  d[i] = i**3\n",
        "print(d) \n",
        "\n",
        "print(\" \")\n",
        "\n",
        "for i1 in range(1,n+1):\n",
        "  d1[i1] = i1**2\n",
        "print(d1)"
      ]
    },
    {
      "cell_type": "code",
      "execution_count": null,
      "metadata": {
        "colab": {
          "base_uri": "https://localhost:8080/"
        },
        "id": "gIiv_Rg-2aZN",
        "outputId": "bee02c93-9eab-4bfd-b175-c170e2970a0e"
      },
      "outputs": [
        {
          "name": "stdout",
          "output_type": "stream",
          "text": [
            "10\n",
            "(1, 2, 5, 7, 9)\n",
            "(4, 6, 8, 10)\n"
          ]
        }
      ],
      "source": [
        "t1 = (1,2,5,7,9,2,4,6,8,10)\n",
        "\n",
        "# Q1\n",
        "a = len(t1)\n",
        "print(a)\n",
        "tp1 = t1[:(a//2)]\n",
        "print(tp1)\n",
        "tp2 = t1[(a//2)+1:]\n",
        "print(tp2)\n",
        "\n"
      ]
    },
    {
      "cell_type": "code",
      "execution_count": null,
      "metadata": {
        "colab": {
          "base_uri": "https://localhost:8080/"
        },
        "id": "PU3CFgG9BySJ",
        "outputId": "4ae70322-74fc-4b1c-e97b-ee00c9d855a5"
      },
      "outputs": [
        {
          "name": "stdout",
          "output_type": "stream",
          "text": [
            "{'Car', 'Bicycle', 'Scooter', 'Bike', 'Rickshaw'}\n"
          ]
        }
      ],
      "source": [
        "vehicles = {'Bicycle','Scooter','Car','Bike','Truck','Bus','Rickshaw'}\n",
        "heavyVehicles = {'Truck','Bus'}\n",
        "lightVehicles = {'Rickshaw','Scooter','Bike','Bicycle'}\n",
        "\n",
        "lytVehicles = vehicles - heavyVehicles\n",
        "print(lytVehicles)"
      ]
    },
    {
      "cell_type": "code",
      "execution_count": null,
      "metadata": {
        "colab": {
          "base_uri": "https://localhost:8080/"
        },
        "id": "NXC7jn0VGKNR",
        "outputId": "f416c341-2ec0-4020-9e89-3f049fae46cd"
      },
      "outputs": [
        {
          "name": "stdout",
          "output_type": "stream",
          "text": [
            "[1, 2, 3, 1, 2, 3]\n"
          ]
        }
      ],
      "source": [
        "list1 = [1,2,3]\n",
        "print(list1 * 2)"
      ]
    },
    {
      "cell_type": "code",
      "execution_count": null,
      "metadata": {
        "colab": {
          "base_uri": "https://localhost:8080/"
        },
        "id": "cTvsKwnscj8f",
        "outputId": "4df02fef-517c-46ec-d653-7ee891ae2dc2"
      },
      "outputs": [
        {
          "name": "stdout",
          "output_type": "stream",
          "text": [
            "Enter a list: [1,4,5,2,6,8,9,10,0,13,11,12,15,3]\n",
            "Enter a element to search: 12\n",
            "Element exists at location 11\n"
          ]
        }
      ],
      "source": [
        "def LinearSearch(l,n):\n",
        "  for i in range(len(l)):\n",
        "    if l[i] == n:\n",
        "      return i\n",
        "\n",
        "l = eval(input(\"Enter a list: \"))\n",
        "n = eval(input(\"Enter a element to search: \"))\n",
        "loc = LinearSearch(l,n)\n",
        "\n",
        "if loc == -1:\n",
        "  print(\"Element does not exist!\")\n",
        "else:\n",
        "  print(\"Element exists at location\",loc)"
      ]
    },
    {
      "cell_type": "code",
      "execution_count": null,
      "metadata": {
        "colab": {
          "base_uri": "https://localhost:8080/"
        },
        "id": "ZAVKvti1tFEw",
        "outputId": "a1ca9a30-34f1-445d-b6bb-acd50eebf710"
      },
      "outputs": [
        {
          "name": "stdout",
          "output_type": "stream",
          "text": [
            "Enter a list: [1,4,5,2,6,8,9,10,0,13,11,12,15,3]\n",
            "Enter a element to search: 13\n",
            "Element exists at location 9\n",
            "Binary Search is 12\n",
            "[0, 1, 2, 3, 4, 5, 6, 8, 9, 10, 11, 12, 13, 15]\n",
            "None\n"
          ]
        }
      ],
      "source": [
        "def LinearSearch(l,element):\n",
        "  for i in range(len(l)):\n",
        "    if l[i] == element:\n",
        "      return i \n",
        "\n",
        "def BinarySearch(l,element):\n",
        "  start = 0\n",
        "  end = len(l) - 1\n",
        "  while start <= end:\n",
        "    mid = (start + end)//2\n",
        "    if l[mid] == element:\n",
        "      loc = mid\n",
        "      return loc\n",
        "    elif l[mid] > element:\n",
        "      end = mid - 1\n",
        "    else:\n",
        "      start = mid + 1\n",
        "  return -1\n",
        "\n",
        "def SelectionSort(l):\n",
        "  for i in range(0,len(l) - 1):\n",
        "    min_index = i\n",
        "    for j in range(i + 1, len(l)):\n",
        "      if l[j] < l[min_index]:\n",
        "        min_index = j\n",
        "    temp = l[i]\n",
        "    l[i] = l[min_index]\n",
        "    l[min_index] = temp\n",
        "  print(l)\n",
        "\n",
        "l = eval(input(\"Enter a list: \"))\n",
        "n = eval(input(\"Enter a element to search: \"))\n",
        "LS = LinearSearch(l,n)\n",
        "if LS == -1:\n",
        "  print(\"Element does not exist!\")\n",
        "  print(LS)\n",
        "else: up\n",
        "  print(\"Element exists at location\",LS)\n",
        "\n",
        "l.sort()\n",
        "BS = BinarySearch(l,n) \n",
        "print(\"Binary Search is\",BS)\n",
        "SS = SelectionSort(l) \n",
        "print(SS) "
      ]
    },
    {
      "cell_type": "code",
      "execution_count": null,
      "metadata": {
        "colab": {
          "base_uri": "https://localhost:8080/"
        },
        "id": "h5T9ie770FeH",
        "outputId": "125e1c61-7917-4006-d49c-1e1b957c8383"
      },
      "outputs": [
        {
          "name": "stdout",
          "output_type": "stream",
          "text": [
            "Enter a list: [1,4,5,2,6,8,9,10,0,13,11,12,15,3]\n",
            "[0, 1, 2, 3, 4, 5, 6, 8, 9, 10, 11, 12, 13, 15]\n"
          ]
        }
      ],
      "source": [
        "def BubbleSort(l):\n",
        "  n = len(l) - 1\n",
        "  for i in range(0,n):\n",
        "    for j in range(0,n-i):\n",
        "      if l[j] > l[j+1]:\n",
        "        temp = l[j]\n",
        "        l[j] = l[j+1]\n",
        "        l[j+1] = temp \n",
        "  print(l)\n",
        "\n",
        "l = eval(input(\"Enter a list: \"))\n",
        "BubbleSort(l)"
      ]
    },
    {
      "cell_type": "code",
      "execution_count": null,
      "metadata": {
        "colab": {
          "base_uri": "https://localhost:8080/"
        },
        "id": "sXpH8AdY2ofM",
        "outputId": "49ab2b24-b4e4-4b12-ace9-ff04a67d1c45"
      },
      "outputs": [
        {
          "name": "stdout",
          "output_type": "stream",
          "text": [
            "16\n",
            "23\n",
            "48\n",
            "38\n",
            "21\n",
            "39\n",
            "76\n",
            "61\n"
          ]
        }
      ],
      "source": [
        "F = open(\"new.txt\",\"w\")\n",
        "print(F.write(\"Hello World!!! \\n\"))\n",
        "print(F.write(\"I am Akshit Manchanda.\\n\"))\n",
        "print(F.write(\"I am from Shivaji College, University of Delhi.\\n\"))\n",
        "print(F.write(\"I am a BBE 1st year, 1st Sem student.\\n\"))\n",
        "print(F.write(\"I am a part of CS GE.\"))\n",
        "print(F.write(\"I am the creator of 2 games in Python.\\n\"))\n",
        "print(F.write(\"The games are Rock, Paper, Scissors & Rock, Paper, Scissors, Lizard, Spock.\\n\"))\n",
        "print(F.write(\"I have also created numerous randomizers & randomizing codes.\"))\n",
        "F.close() "
      ]
    },
    {
      "cell_type": "code",
      "execution_count": null,
      "metadata": {
        "colab": {
          "base_uri": "https://localhost:8080/"
        },
        "id": "mKLIqrts4lB5",
        "outputId": "f5f475dc-85f4-4978-a308-1bb8aeb8e10c"
      },
      "outputs": [
        {
          "name": "stdout",
          "output_type": "stream",
          "text": [
            "Hello World!!! \n",
            "I am Akshit Manchanda.\n",
            "I am from Shivaji College, University of Delhi.\n",
            "I am a BBE 1st year, 1st Sem student.\n",
            "I am a part of CS GE.I am the creator of 2 games in Python.\n",
            "The games are Rock, Paper, Scissors & Rock, Paper, Scissors, Lizard, Spock.\n",
            "I have also created numerous randomizers & randomizing codes.\n"
          ]
        }
      ],
      "source": [
        "F = open(\"new.txt\",\"r\")\n",
        "print(F.read())"
      ]
    },
    {
      "cell_type": "code",
      "execution_count": null,
      "metadata": {
        "colab": {
          "base_uri": "https://localhost:8080/"
        },
        "id": "vLvk0WtWANKP",
        "outputId": "44e5acfd-a482-48cc-e73b-20f34aa5466e"
      },
      "outputs": [
        {
          "name": "stdout",
          "output_type": "stream",
          "text": [
            "Hello World!!! \n",
            "I am Akshit Manchanda.\n",
            "I am from Shivaji College, University of Delhi.\n",
            "I am a BBE 1st year, 1st Sem student.\n",
            "I am a part of CS GE.I am the creator of 2 games in Python.\n",
            "The games are Rock, Paper, Scissors & Rock, Paper, Scissors, Lizard, Spock.\n",
            "I have also created numerous randomizers & randomizing codes.\n",
            " \n",
            "The characters and their number of occurences are:- \n",
            " {'H': 1, 'e': 22, 'l': 7, 'o': 19, ' ': 53, 'W': 1, 'r': 18, 'd': 8, '!': 3, '\\n': 6, 'I': 6, 'a': 25, 'm': 12, 'A': 1, 'k': 4, 's': 17, 'h': 8, 'i': 13, 't': 11, 'M': 1, 'n': 10, 'c': 9, '.': 7, 'f': 4, 'S': 6, 'v': 3, 'j': 1, 'C': 2, 'g': 4, ',': 8, 'U': 1, 'y': 3, 'D': 1, 'B': 2, 'E': 2, '1': 2, 'u': 3, 'p': 4, 'G': 1, '2': 1, 'P': 3, 'T': 1, 'R': 2, '&': 2, 'L': 1, 'z': 3}\n"
          ]
        }
      ],
      "source": [
        "F = open(\"new.txt\",\"r\")\n",
        "STR = F.read()\n",
        "print(STR)\n",
        "\n",
        "print(\" \")\n",
        "\n",
        "sentence = STR\n",
        "d = {}\n",
        "\n",
        "for char in sentence:\n",
        "  if char in d.keys():\n",
        "    d[char] = d[char] + 1\n",
        "  else:\n",
        "    d[char] = 1\n",
        "print(\"The characters and their number of occurences are:- \\n\",d) "
      ]
    },
    {
      "cell_type": "code",
      "execution_count": null,
      "metadata": {
        "colab": {
          "base_uri": "https://localhost:8080/"
        },
        "id": "Lr30_WzUGwzo",
        "outputId": "f425f618-65e2-46cc-ca12-bac618cda162"
      },
      "outputs": [
        {
          "name": "stdout",
          "output_type": "stream",
          "text": [
            "Enter file name: new.txt\n",
            " \n",
            "Hello World!!! \n",
            "I am Akshit Manchanda.\n",
            "I am from Shivaji College, University of Delhi.\n",
            "I am a BBE 1st year, 1st Sem student.\n",
            "I am a part of CS GE.I am the creator of 2 games in Python.\n",
            "The games are Rock, Paper, Scissors & Rock, Paper, Scissors, Lizard, Spock.\n",
            "I have also created numerous randomizers & randomizing codes.\n",
            " \n",
            "The characters and their number of occurences are:- \n",
            " {'H': 1, 'e': 22, 'l': 7, 'o': 19, ' ': 53, 'W': 1, 'r': 18, 'd': 8, '!': 3, '\\n': 6, 'I': 6, 'a': 25, 'm': 12, 'A': 1, 'k': 4, 's': 17, 'h': 8, 'i': 13, 't': 11, 'M': 1, 'n': 10, 'c': 9, '.': 7, 'f': 4, 'S': 6, 'v': 3, 'j': 1, 'C': 2, 'g': 4, ',': 8, 'U': 1, 'y': 3, 'D': 1, 'B': 2, 'E': 2, '1': 2, 'u': 3, 'p': 4, 'G': 1, '2': 1, 'P': 3, 'T': 1, 'R': 2, '&': 2, 'L': 1, 'z': 3}\n"
          ]
        }
      ],
      "source": [
        "filename = input(\"Enter file name: \")\n",
        "\n",
        "print(\" \")\n",
        "\n",
        "F = open(filename,\"r\")\n",
        "STR = F.read()\n",
        "print(STR)\n",
        "\n",
        "print(\" \")\n",
        "\n",
        "sentence = STR\n",
        "d = {}\n",
        "\n",
        "for char in sentence:\n",
        "  if char in d.keys():\n",
        "    d[char] = d[char] + 1\n",
        "  else:\n",
        "    d[char] = 1\n",
        "print(\"The characters and their number of occurences are:- \\n\",d) "
      ]
    },
    {
      "cell_type": "code",
      "execution_count": null,
      "metadata": {
        "colab": {
          "base_uri": "https://localhost:8080/"
        },
        "id": "MQA-R50IYhCC",
        "outputId": "b8b334b7-062e-40cd-dda9-91be5447ae1a"
      },
      "outputs": [
        {
          "name": "stdout",
          "output_type": "stream",
          "text": [
            "Enter new salary:5000\n",
            "Akshit 18 1000000\n",
            "Deepak 18 10000\n",
            "Arnav 18 5000\n"
          ]
        }
      ],
      "source": [
        "class person:\n",
        "  def __init__(self,name,age,salary):\n",
        "    self.name = name\n",
        "    self.age = age\n",
        "    self.salary = salary\n",
        "\n",
        "  def setsalary(self):\n",
        "    s = eval(input(\"Enter new salary:\"))\n",
        "    self.salary = s\n",
        "  \n",
        "  def __str__(self):\n",
        "    return self.name + \" \" + str(self.age) + \" \" + str(self.salary)\n",
        "\n",
        "Akshit = person(\"Akshit\",18,1000000)\n",
        "Deepak = person(\"Deepak\",18,10000)\n",
        "Arnav = person(\"Arnav\",18,10001)\n",
        "Arnav.setsalary()\n",
        "print(Akshit)\n",
        "print(Deepak)\n",
        "print(Arnav)"
      ]
    },
    {
      "cell_type": "code",
      "execution_count": null,
      "metadata": {
        "colab": {
          "base_uri": "https://localhost:8080/"
        },
        "id": "iDGdX-hcJeMg",
        "outputId": "c69dc6f1-e25d-4135-accc-a8376f3a3149"
      },
      "outputs": [
        {
          "name": "stdout",
          "output_type": "stream",
          "text": [
            "<__main__.student object at 0x7f510707f9d0>\n",
            "Enter marks: 34\n",
            "My grade = Fail\n"
          ]
        }
      ],
      "source": [
        "class student:\n",
        "  def __init__(self,a,b,c,d):\n",
        "    self.name = a\n",
        "    self.rollno = b\n",
        "    self.course = c\n",
        "    self.marks = d\n",
        "  \n",
        "  def change_marks(self):\n",
        "    m = eval(input(\"Enter marks: \"))\n",
        "    self.marks = m \n",
        "  \n",
        "  def grade(self):\n",
        "    if self.marks >= 95:\n",
        "      self.grade = 'A'\n",
        "    elif self.marks >= 80:\n",
        "      self.grade = 'B'\n",
        "    elif self.marks >= 50:\n",
        "      self.grade = 'C'\n",
        "    else:\n",
        "      self.grade = 'Fail'\n",
        "    print(\"My grade =\",self.grade)\n",
        "\n",
        "Akshit = student(\"Akshit\",2142,'BBE',175)\n",
        "print(Akshit)\n",
        "Akshit.change_marks()\n",
        "Akshit.grade()"
      ]
    },
    {
      "cell_type": "code",
      "execution_count": null,
      "metadata": {
        "colab": {
          "base_uri": "https://localhost:8080/"
        },
        "id": "DbOiwmOA8f5d",
        "outputId": "c29334b4-c713-4f57-a41d-d366febb0792"
      },
      "outputs": [
        {
          "name": "stdout",
          "output_type": "stream",
          "text": [
            "None\n",
            "None\n",
            "None\n",
            "None\n",
            "None\n",
            " 0 4 8 13 10 \n",
            "0\n"
          ]
        }
      ],
      "source": [
        "class Queue:\n",
        "  def __init__(self):\n",
        "    self.values = list()\n",
        "  def enqueue(self,element):\n",
        "    self.values.append(element)\n",
        "  def isEmpty(self):\n",
        "    if len(self.values) > 0:\n",
        "      return False\n",
        "    else:\n",
        "      return True\n",
        "  def dequeue(self):\n",
        "    if not(self.isEmpty()):\n",
        "      return self.values.pop(0)\n",
        "    else:\n",
        "      print(\"underflow\")\n",
        "      return None\n",
        "  def front(self):\n",
        "    if self.isEmpty() == False:\n",
        "      return self.values[0]\n",
        "    else:\n",
        "      return None\n",
        "  def size(self):\n",
        "    return len(self.values)\n",
        "  def __str__(self):\n",
        "    mystr = ' '\n",
        "    for i in self.values:\n",
        "      mystr = mystr + str(i) + ' '\n",
        "    return mystr\n",
        "\n",
        "Q1 = Queue()\n",
        "a = Q1.enqueue(0)\n",
        "print(a)\n",
        "b = Q1.enqueue(4)\n",
        "print(b)\n",
        "c = Q1.enqueue(8)\n",
        "print(c)\n",
        "d = Q1.enqueue(13)\n",
        "print(d)\n",
        "e = Q1.enqueue(10)\n",
        "print(e)\n",
        "Q1.size()\n",
        "print(Q1)\n",
        "x = Q1.dequeue()\n",
        "print(x)"
      ]
    },
    {
      "cell_type": "code",
      "execution_count": null,
      "metadata": {
        "colab": {
          "base_uri": "https://localhost:8080/"
        },
        "id": "Ltdp1ug1Luky",
        "outputId": "e6947806-c7bb-46d3-e6b9-33d6473584c2"
      },
      "outputs": [
        {
          "name": "stdout",
          "output_type": "stream",
          "text": [
            "10\n",
            " 5 \n"
          ]
        }
      ],
      "source": [
        "class stack:\n",
        "  def __init__(self):\n",
        "    self.values = list()\n",
        "  def push(self,element):\n",
        "    self.values.append(element)\n",
        "  def isempty(self):\n",
        "    if len(self.values) == 0:\n",
        "      return True\n",
        "    else:\n",
        "      return False\n",
        "  def pop(self):\n",
        "    a = self.isempty()\n",
        "    if a == False:\n",
        "      return self.values.pop()\n",
        "    else:\n",
        "      print(\"underflow\")\n",
        "      return None\n",
        "  def top(self):\n",
        "    if not(self.isempty()):\n",
        "      return self.values[-1]\n",
        "    else:\n",
        "      print(\"atck is empty, no element is on top.\")\n",
        "  def size(self):\n",
        "    return len(self.values)\n",
        "  def __str__(self):\n",
        "    x = ' '\n",
        "    for i in self.values:\n",
        "      x = x + str(i) + ' '\n",
        "    return x \n",
        "\n",
        "s = stack()\n",
        "s.push(5)\n",
        "s.push(10)\n",
        "s.isempty()\n",
        "x = s.pop()\n",
        "print(x)\n",
        "print(s.__str__())"
      ]
    },
    {
      "cell_type": "code",
      "execution_count": null,
      "metadata": {
        "colab": {
          "base_uri": "https://localhost:8080/"
        },
        "id": "l_MfEKw_SPLg",
        "outputId": "18359d99-55df-43b4-c83b-b81a53c48ad7"
      },
      "outputs": [
        {
          "name": "stdout",
          "output_type": "stream",
          "text": [
            "Enter an expression: 8+6/(5-3)*2\n",
            "Enter an expression: (8-3-1)*6/2+8/4\n",
            "Enter an expression: 8+(9-9/3-4*7)-5\n",
            "Enter an expression: 7+6-7/2-7*4-3\n",
            " \n",
            "3-5/2*6+8\n",
            "1-3-84/8+2/6*\n",
            "7*4-3/9-9+5-8\n",
            "3-4*7-2/7-6+7\n"
          ]
        }
      ],
      "source": [
        "class Conversion:\n",
        "    def __init__(self, capacity):\n",
        "        self.top = -1\n",
        "        self.capacity = capacity\n",
        "        self.array = []\n",
        "        self.output = []\n",
        "        self.precedence = {'+':1, '-':1, '*':2, '/':2, '**':3}\n",
        "     \n",
        "    def isEmpty(self):\n",
        "        return True if self.top == -1 else False\n",
        "     \n",
        "    def peek(self):\n",
        "        return self.array[-1]\n",
        "     \n",
        "    def pop(self):\n",
        "        if not self.isEmpty():\n",
        "            self.top -= 1\n",
        "            return self.array.pop()\n",
        "        else:\n",
        "            return \"$\"\n",
        "\n",
        "    def push(self, op):\n",
        "        self.top += 1\n",
        "        self.array.append(op)\n",
        "    def isOperand(self, ch):\n",
        "        return ch.isalpha()\n",
        "    def notGreater(self, i):\n",
        "        try:\n",
        "            a = self.precedence[i]\n",
        "            b = self.precedence[self.peek()]\n",
        "            return True if a  <= b else False\n",
        "        except KeyError:\n",
        "            return False\n",
        "\n",
        "    def infixToPostfix(self, exp):\n",
        "        for i in exp:\n",
        "            if self.isOperand(i):\n",
        "                self.output.append(i)\n",
        "            elif i  == '(':\n",
        "                self.push(i)\n",
        "            elif i == ')':\n",
        "                while( (not self.isEmpty()) and self.peek() != '('):\n",
        "                    a = self.pop()\n",
        "                    self.output.append(a)\n",
        "                if (not self.isEmpty() and self.peek() != '('):\n",
        "                    return -1\n",
        "                else:\n",
        "                    self.pop()\n",
        "            else:\n",
        "                while(not self.isEmpty() and self.notGreater(i)):\n",
        "                    self.output.append(self.pop())\n",
        "                self.push(i)\n",
        "        while not self.isEmpty():\n",
        "            self.output.append(self.pop())\n",
        " \n",
        "        print(\"\".join(self.output))\n",
        " \n",
        "exp0 = str(input(\"Enter an expression: \"))\n",
        "exp1 = str(input(\"Enter an expression: \"))\n",
        "exp2 = str(input(\"Enter an expression: \"))\n",
        "exp3 = str(input(\"Enter an expression: \"))\n",
        "\n",
        "obj0 = Conversion(len(exp0))\n",
        "obj1 = Conversion(len(exp1))\n",
        "obj2 = Conversion(len(exp2))\n",
        "obj3 = Conversion(len(exp3))\n",
        "\n",
        "print(\" \") \n",
        "\n",
        "obj0.infixToPostfix(exp0) \n",
        "obj1.infixToPostfix(exp1)\n",
        "obj2.infixToPostfix(exp2)\n",
        "obj3.infixToPostfix(exp3)\n",
        "\n",
        "# 8+6/(5-3)*2\n",
        "# (8-3-1)*6/2+8/4\n",
        "# 8+(9-9/3-4*7)-5 \n",
        "# 7+6-7/2-7*4-3 "
      ]
    },
    {
      "cell_type": "code",
      "execution_count": null,
      "metadata": {
        "id": "hzglbv1I1ku-"
      },
      "outputs": [],
      "source": [
        "def postfix(exp):\n",
        "    precedence = {'+' : 1, '-' : 1, '*' : 2, '/' : 2, '//' : 3, '**' : 4}\n",
        "    \n",
        "    operand = '0123456789'\n",
        "    \n",
        "    result = ''\n",
        "    stk = Stack()\n",
        "    \n",
        "    for symbol in exp:\n",
        "        if symbol == '(':\n",
        "            stk.push(symbol)\n",
        "        elif symbol == ')':\n",
        "            val = stk.pop()\n",
        "            while val != '(':\n",
        "                result += val\n",
        "                val = stk.pop()\n",
        "        elif symbol in operand:\n",
        "            result += symbol\n",
        "        elif symbol in precedence:\n",
        "            if not(stk.is_empty()):\n",
        "                stkTop = stk.top()\n",
        "            while not(stk.is_empty()) and stkTop != '(' and precedence[stkTop] >= precedence[symbol]:\n",
        "                result += stkTop\n",
        "                stk.pop()\n",
        "                if not (stk.is_empty()):\n",
        "                    stkTop = stk.top()\n",
        "            stk.push(symbol)\n",
        "    while not(stk.is_empty()):\n",
        "        result += stk.pop()\n",
        "    return result\n",
        "\n",
        "exp = input('enter the expression in infix notation :')\n",
        "exp1 = postfix(exp)\n",
        "print(exp1) "
      ]
    },
    {
      "cell_type": "code",
      "execution_count": null,
      "metadata": {
        "colab": {
          "base_uri": "https://localhost:8080/"
        },
        "id": "lz8YrjnXDmWH",
        "outputId": "f8596159-0e9b-4323-fb86-fdf75ff2f725"
      },
      "outputs": [
        {
          "name": "stdout",
          "output_type": "stream",
          "text": [
            " Akshit 19 130408 Head Finance 1000000\n"
          ]
        }
      ],
      "source": [
        "class Person:\n",
        "  def __init__(self,name,age):\n",
        "    self.name = name\n",
        "    self.age = age\n",
        "class Employee(Person):\n",
        "  def __init__(self,name,age,empID,desig,dept,salary):\n",
        "      super().__init__(name,age)\n",
        "      self.empID = empID \n",
        "      self.desig = desig\n",
        "      self.dept = dept\n",
        "      self.salary = salary\n",
        "  def __str__(self):\n",
        "      return  ' ' + str(self.name) + ' ' + str(self.age) + ' ' + str(self.empID) + ' ' + str(self.desig) + ' ' + str(self.dept) + ' ' + str(self.salary)\n",
        "\n",
        "E1 = Employee('Akshit',19,130408,'Head','Finance',1000000)\n",
        "print(E1)"
      ]
    },
    {
      "cell_type": "code",
      "execution_count": null,
      "metadata": {
        "colab": {
          "base_uri": "https://localhost:8080/"
        },
        "id": "I6cWTEAvH_gO",
        "outputId": "37d26644-d61b-47d1-da05-2a933832337b"
      },
      "outputs": [
        {
          "name": "stdout",
          "output_type": "stream",
          "text": [
            "2 4 100\n",
            "6 4 100 50\n"
          ]
        }
      ],
      "source": [
        "class A:\n",
        "  z = 30\n",
        "  def __init__(self):\n",
        "    self.x = 2\n",
        "    self.y = 4\n",
        "    self.z = 100\n",
        "  def __str__(self):\n",
        "    return str(self.x) + ' ' + str(self.y) + ' ' + str(self.z)\n",
        "\n",
        "class B(A):\n",
        "  x = 4\n",
        "  y = 20\n",
        "  def __init__(self):\n",
        "    A.__init__(self)\n",
        "    self.x = 6\n",
        "    self.v = 50\n",
        "  def __str__(self):\n",
        "    return A.__str__(self) + ' ' + str(self.v)\n",
        "\n",
        "obj1 = A()\n",
        "obj2 = B()\n",
        "print(obj1)\n",
        "print(obj2)"
      ]
    },
    {
      "cell_type": "code",
      "execution_count": null,
      "metadata": {
        "colab": {
          "base_uri": "https://localhost:8080/"
        },
        "id": "DrQg3n26NMQx",
        "outputId": "e68b848c-10d2-4dc8-f4ba-5cc3769db4fa"
      },
      "outputs": [
        {
          "name": "stdout",
          "output_type": "stream",
          "text": [
            "Akshit 130408 10000000\n",
            "Enter amount: 100000\n",
            "Akshit 130408 9900000\n",
            "Total interest: 792000.0\n"
          ]
        }
      ],
      "source": [
        "class Bank:\n",
        "  def __init__(self,name,accNum,accType,amount):\n",
        "    self.name = name \n",
        "    self.accNum = accNum\n",
        "    self.accType = accType\n",
        "    self.amount = amount \n",
        "\n",
        "  def deposit(self):\n",
        "    a = eval(input(\"Enter amount: \"))\n",
        "    self.amount += a\n",
        "  def withdrawal(self):\n",
        "    w = eval(input(\"Enter amount: \"))\n",
        "    if w < self.amount:\n",
        "      self.amount -= w\n",
        "    else:\n",
        "      print(\"Not enough balance.\")\n",
        "  def findInterest(self):\n",
        "    i = 0\n",
        "    if self.amount >= 500000:\n",
        "      i = 8 \n",
        "    elif self.amount >= 300000:\n",
        "      i = 7\n",
        "    elif self.amount >= 100000:\n",
        "      i = 5\n",
        "    else:\n",
        "      i = 3\n",
        "    \n",
        "    interest = (self.amount * i * 1) / 100\n",
        "    print(\"Total interest:\", interest)\n",
        "  \n",
        "  def __str__(self):\n",
        "    return self.name + ' ' + str(self.accNum) + ' ' + str(self.amount)\n",
        "\n",
        "B = Bank('Akshit',130408,'Savings',10000000)\n",
        "print(B)\n",
        "B.withdrawal()\n",
        "print(B)\n",
        "B.findInterest()"
      ]
    },
    {
      "cell_type": "code",
      "execution_count": null,
      "metadata": {
        "colab": {
          "base_uri": "https://localhost:8080/"
        },
        "id": "LS03zaiJZf1a",
        "outputId": "08b422e1-fd88-47c0-908a-e4612f6a6a40"
      },
      "outputs": [
        {
          "name": "stdout",
          "output_type": "stream",
          "text": [
            "Enter length: 13\n",
            "Enter breadth: 13.48\n",
            "Area of rectangle = 175.24\n",
            "Perimeter of rectangle = 52.96\n"
          ]
        }
      ],
      "source": [
        "class Rectangle:\n",
        "  c = 0\n",
        "  def __init__(self,length,breadth):\n",
        "    self.length = length\n",
        "    self.breadth = breadth\n",
        "  def setLength(self):\n",
        "    l = eval(input(\"Enter length: \"))\n",
        "    self.length = l\n",
        "  def setBreadth(self):\n",
        "    b = eval(input(\"Enter breadth: \"))\n",
        "    self.breadth = b\n",
        "  def getLength(self):\n",
        "    return self.length\n",
        "  def getBreadth(self):\n",
        "    return self.breadth\n",
        "  def area(self):\n",
        "    a = self.length * self.breadth\n",
        "    print(\"Area of rectangle =\",a)\n",
        "  def perimeter(self):\n",
        "    p = 2 * (self.length + self.breadth)\n",
        "    print(\"Perimeter of rectangle =\",p)\n",
        "\n",
        "r = Rectangle(1,1)\n",
        "r.setLength()\n",
        "r.setBreadth()\n",
        "r.getLength()\n",
        "r.getBreadth()\n",
        "r.area()\n",
        "r.perimeter()"
      ]
    },
    {
      "cell_type": "code",
      "execution_count": null,
      "metadata": {
        "colab": {
          "base_uri": "https://localhost:8080/"
        },
        "id": "wVM92zU4tkf6",
        "outputId": "1e96088f-750e-4d18-aa8e-2c3ed913ace0"
      },
      "outputs": [
        {
          "name": "stdout",
          "output_type": "stream",
          "text": [
            "Enter file name: PSG.txt\n",
            " \n",
            "Ligue 1 is a farmer's league and still PSG having a savage team have lost or drew most of their matches against the other top 5 teams of France this season \n",
            "How this team can't win 8 matches ( and  counting ) in a farmer's league \n",
            "Imagine if you put them in prime la liga or prime pl 🤣🤣 they'll get finished\n",
            "They've remained the best team in France of all time but last decade they lost the ligue 1 title twice - to Monaco and Lille how this can happen 🤯🤯\n",
            "PSG is just a finished club they can never win the UCL \n",
            "A team that bottles a 4-0 lead will absolutely bottle a 2-0 lead 🤣🤣\n",
            "Pochhetino must be sacked and if Man Utd sign poch next summer they're also going to crash , they'll regret their decision .\n",
            "Pochhetino must learn from managers like Enrique , Pep or Zidane who had high profile players in their team and managed them beautifully \n",
            "His work with Spurs should be appreciated but not winning a major trophy under his reign it's shameless . He had Alli , Kane , Son , Eriksen : the amazing quartet of Spurs . Lloris between the sticks but still no trophy \n",
            "\n",
            "POCHETINO = PHIL JONES \n",
            "🤣🤣🤣🤣🤣🤣\n",
            "The most flop manager and most flop player 🤣🤣🤣\n",
            " \n",
            "The characters and their number of occurences are:- \n",
            " {'L': 5, 'i': 62, 'g': 22, 'u': 24, 'e': 101, ' ': 216, '1': 2, 's': 51, 'a': 75, 'f': 15, 'r': 43, 'm': 31, \"'\": 8, 'l': 46, 'n': 54, 'd': 24, 't': 78, 'P': 7, 'S': 6, 'G': 2, 'h': 48, 'v': 5, 'o': 48, 'w': 12, 'c': 20, 'p': 20, '5': 1, 'F': 2, '\\n': 12, 'H': 5, '8': 1, '(': 1, ')': 1, 'I': 3, 'y': 13, '🤣': 13, 'T': 3, 'b': 12, '-': 3, 'M': 2, '🤯': 2, 'j': 2, 'U': 2, 'C': 2, 'A': 2, '4': 1, '0': 2, '2': 1, 'k': 5, 'x': 1, ',': 5, '.': 3, 'E': 4, 'q': 2, 'Z': 1, 'K': 1, ':': 1, 'z': 1, 'O': 3, 'N': 2, '=': 1, 'J': 1}\n"
          ]
        }
      ],
      "source": [
        "filename = input(\"Enter file name: \")\n",
        "\n",
        "print(\" \")\n",
        "\n",
        "F = open(filename,\"r\")\n",
        "STR = F.read()\n",
        "print(STR)\n",
        "\n",
        "print(\" \")\n",
        "\n",
        "sentence = STR\n",
        "d = {}\n",
        "\n",
        "for char in sentence:\n",
        "  if char in d.keys():\n",
        "    d[char] = d[char] + 1\n",
        "  else:\n",
        "    d[char] = 1\n",
        "print(\"The characters and their number of occurences are:- \\n\",d) "
      ]
    },
    {
      "cell_type": "code",
      "execution_count": null,
      "metadata": {
        "colab": {
          "base_uri": "https://localhost:8080/"
        },
        "id": "zj2qIcqc0WDx",
        "outputId": "70e2c11f-62de-4ee1-f79a-6a2814f34663"
      },
      "outputs": [
        {
          "name": "stdout",
          "output_type": "stream",
          "text": [
            "Enter price100\n",
            "enter weight13\n",
            "price per unit 7.6923076923076925\n"
          ]
        }
      ],
      "source": [
        "import sys\n",
        "\n",
        "price= input(\"Enter price\")\n",
        "weight= input(\"enter weight\")\n",
        "\n",
        "try:\n",
        "    if price == '':\n",
        "        price= None\n",
        "    price= float(price)\n",
        "    \n",
        "    if weight == '':\n",
        "        weight= None\n",
        "    weight= float(weight)\n",
        "    \n",
        "    if price >=0 and weight >= 0:\n",
        "        result = price/ weight\n",
        "        \n",
        "except (ValueError, TypeError, ZeroDivisionError):\n",
        "    print(\"invalid input provided \",sys.exc_info())\n",
        "    \n",
        "else:print(\"price per unit\",price/weight)"
      ]
    },
    {
      "cell_type": "code",
      "execution_count": null,
      "metadata": {
        "colab": {
          "base_uri": "https://localhost:8080/"
        },
        "id": "eYMCuvwb0ckB",
        "outputId": "3a9938f6-fd40-45f3-f292-9ed91e144129"
      },
      "outputs": [
        {
          "name": "stdout",
          "output_type": "stream",
          "text": [
            "1\n",
            "2\n",
            "bye\n",
            "2\n",
            "3\n",
            "bye\n",
            "3\n",
            "IndexError\n",
            "an error\n"
          ]
        }
      ],
      "source": [
        "def fn(a, x):\n",
        "    try:\n",
        "        print(x)\n",
        "        print(a[x])\n",
        "\n",
        "    except IndexError:\n",
        "        print('IndexError')\n",
        "        raise ValueError('an error')\n",
        "\n",
        "    except:\n",
        "        print('Some unknown error has occured')\n",
        "\n",
        "    print('bye')\n",
        "\n",
        "\n",
        "L = [1, 2, 3]\n",
        "\n",
        "try:\n",
        "    fn(L, 1)\n",
        "    fn(L, 2)\n",
        "    fn(L, 3)\n",
        "\n",
        "except ValueError as message:\n",
        "    print(message)"
      ]
    },
    {
      "cell_type": "code",
      "execution_count": null,
      "metadata": {
        "id": "hHqqlokU0hTk"
      },
      "outputs": [],
      "source": [
        "def inverse1():\n",
        "    try:\n",
        "        num = input('enter the number: ')\n",
        "        num = float(num)\n",
        "        inverse = 1.0/num\n",
        "\n",
        "    except ValueError:\n",
        "        print('Value Error')\n",
        "\n",
        "    except TypeError:\n",
        "        print('Type Error')\n",
        "\n",
        "    except ZeroDivisionError:\n",
        "        print('Zero Division Error')\n",
        "\n",
        "    except:\n",
        "        print('any other error')\n",
        "\n",
        "    else:\n",
        "        print(inverse)\n",
        "        \n",
        "    finally:\n",
        "        print('Function inverse1 completed execution')\n",
        "\n",
        "inverse1()"
      ]
    },
    {
      "cell_type": "markdown",
      "metadata": {
        "id": "tjZvenJi3duD"
      },
      "source": [
        "# Random Letter Inserter (Using Files)"
      ]
    },
    {
      "cell_type": "code",
      "execution_count": null,
      "metadata": {
        "id": "ZDd247eLOJFd",
        "colab": {
          "base_uri": "https://localhost:8080/"
        },
        "outputId": "c7088fdb-0d8c-41ce-ce48-6b54b2dc16f6"
      },
      "outputs": [
        {
          "output_type": "stream",
          "name": "stdout",
          "text": [
            "abcdefghijklmnopqrstuvwxyzABCDEFGHIJKLMNOPQRSTUVWXYZ\n",
            "R\n"
          ]
        }
      ],
      "source": [
        "import string\n",
        "coll = string.ascii_letters\n",
        "\n",
        "print(coll)\n",
        "\n",
        "import random\n",
        "var2 = random.choice(coll)\n",
        "print(var2)"
      ]
    },
    {
      "cell_type": "code",
      "execution_count": null,
      "metadata": {
        "colab": {
          "base_uri": "https://localhost:8080/"
        },
        "id": "xrSpHmQznKGj",
        "outputId": "d5b7e93f-3098-4af9-b55b-046d349bad74"
      },
      "outputs": [
        {
          "output_type": "stream",
          "name": "stdout",
          "text": [
            "This collection contains:\n",
            " abcdefghijklmnopqrstuvwxyzABCDEFGHIJKLMNOPQRSTUVWXYZ\n",
            " \n",
            "your character is:\n",
            " T\n",
            " \n",
            "Enter a file: test.txt\n",
            "The file being used is test.txt\n",
            "Enter an action: a\n",
            " \n",
            "1\n",
            " \n",
            "YZa ms\n",
            "CahW nxR\n",
            "QwT\n"
          ]
        }
      ],
      "source": [
        "import string \n",
        "import random\n",
        "import sys \n",
        "\n",
        "\n",
        "coll = string.ascii_letters\n",
        "print(\"This collection contains:\\n\",coll)\n",
        "\n",
        "print(\" \")\n",
        "\n",
        "char = random.choice(coll)\n",
        "print(\"your character is:\\n\",char)\n",
        "\n",
        "print(\" \")\n",
        "\n",
        "filename = input(\"Enter a file: \")\n",
        "print(\"The file being used is\",filename)\n",
        "enter_action = input(\"Enter an action: \" ).lower() \n",
        "\n",
        "print(\" \")\n",
        "\n",
        "if enter_action == 'r':\n",
        "  F = open(filename,enter_action)\n",
        "  print(F.read())\n",
        "elif enter_action == 'w':\n",
        "  F = open(filename,enter_action)\n",
        "  print(F.write(char))\n",
        "elif enter_action == 'a':\n",
        "  F = open(filename,enter_action)\n",
        "  print(F.write(char))\n",
        "else:\n",
        "  print(\"Invalid action!\")\n",
        "  sys.exit()\n",
        "\n",
        "print(\" \")\n",
        "\n",
        "F.close()\n",
        "\n",
        "G = open(filename,'r')\n",
        "print(G.read())\n",
        "\n",
        "G.close() "
      ]
    },
    {
      "cell_type": "code",
      "execution_count": null,
      "metadata": {
        "id": "oizFiK1RSoeI",
        "colab": {
          "base_uri": "https://localhost:8080/"
        },
        "outputId": "3a5495d9-723c-4acf-d954-2c4f04c8ba93"
      },
      "outputs": [
        {
          "name": "stdout",
          "output_type": "stream",
          "text": [
            "Enter a file: test.txt\n"
          ]
        }
      ],
      "source": [
        "# For adding a space\n",
        "\n",
        "filename = input(\"Enter a file: \")\n",
        "\n",
        "O = open(filename,'a')\n",
        "O.write(' ')\n",
        "\n",
        "O.close()"
      ]
    },
    {
      "cell_type": "code",
      "execution_count": null,
      "metadata": {
        "id": "BfjXfN-mU3mW"
      },
      "outputs": [],
      "source": [
        "# For adding backspace\n",
        "\n",
        "filename = input(\"Enter a file: \")\n",
        "\n",
        "O = open(filename,'a')\n",
        "O.write('\\b')\n",
        "\n",
        "O.close()"
      ]
    },
    {
      "cell_type": "code",
      "execution_count": null,
      "metadata": {
        "id": "vV9Q13SarziD",
        "colab": {
          "base_uri": "https://localhost:8080/"
        },
        "outputId": "30c21831-2056-421e-eb6a-70c4d692a478"
      },
      "outputs": [
        {
          "name": "stdout",
          "output_type": "stream",
          "text": [
            "Enter a file: test.txt\n"
          ]
        }
      ],
      "source": [
        "# For going into the next line\n",
        "\n",
        "filename = input(\"Enter a file: \")\n",
        "\n",
        "O = open(filename,'a')\n",
        "O.write('\\n')\n",
        "\n",
        "O.close()"
      ]
    },
    {
      "cell_type": "code",
      "execution_count": null,
      "metadata": {
        "id": "0ywg7B4Js2dp"
      },
      "outputs": [],
      "source": [
        "# For tabbing \n",
        "\n",
        "filename = input(\"Enter a file: \")\n",
        "\n",
        "O = open(filename,'a')\n",
        "O.write('\\t')\n",
        "\n",
        "O.close()"
      ]
    },
    {
      "cell_type": "markdown",
      "source": [
        "# Letter Counter (Using Files)"
      ],
      "metadata": {
        "id": "nvqtlyrudKsQ"
      }
    },
    {
      "cell_type": "code",
      "source": [
        "filename = input(\"Enter filename:\")\n",
        "F = open(filename,\"r\")\n",
        "print(F.read())\n",
        "F.close()\n",
        "\n",
        "print(\" \")\n",
        "\n",
        "file = open(filename,\"r\")\n",
        "\n",
        "frequent_word = \"\"\n",
        "frequency = 0 \n",
        "words = []\n",
        "\n",
        "for line in file:\n",
        "    \n",
        "    line_word = line.lower().replace(',','').replace('.','').split(\" \"); \n",
        "     \n",
        "    for w in line_word: \n",
        "        words.append(w); \n",
        "         \n",
        "for i in range(0, len(words)): \n",
        "     \n",
        "    count = 1; \n",
        "     \n",
        "    for j in range(i+1, len(words)): \n",
        "        if(words[i] == words[j]): \n",
        "            count = count + 1; \n",
        " \n",
        "    if(count > frequency): \n",
        "        frequency = count; \n",
        "        frequent_word = words[i]; \n",
        " \n",
        "print(\"Most repeated word: \" + frequent_word)\n",
        "print(\"Frequency: \" + str(frequency))\n",
        "file.close();"
      ],
      "metadata": {
        "colab": {
          "base_uri": "https://localhost:8080/"
        },
        "id": "a0kYX926dV2I",
        "outputId": "d39a6d97-1c10-49f7-b75f-75c2259faea8"
      },
      "execution_count": null,
      "outputs": [
        {
          "output_type": "stream",
          "name": "stdout",
          "text": [
            "Enter filename:PSG.txt\n",
            "Ligue 1 is a farmer's league and still PSG having a savage team have lost or drew most of their matches against the other top 5 teams of France this season \n",
            "How this team can't win 8 matches ( and  counting ) in a farmer's league \n",
            "Imagine if you put them in prime la liga or prime pl 🤣🤣 they'll get finished\n",
            "They've remained the best team in France of all time but last decade they lost the ligue 1 title twice - to Monaco and Lille how this can happen 🤯🤯\n",
            "PSG is just a finished club they can never win the UCL \n",
            "A team that bottles a 4-0 lead will absolutely bottle a 2-0 lead 🤣🤣\n",
            "Pochhetino must be sacked and if Man Utd sign poch next summer they're also going to crash , they'll regret their decision .\n",
            "Pochhetino must learn from managers like Enrique , Pep or Zidane who had high profile players in their team and managed them beautifully \n",
            "His work with Spurs should be appreciated but not winning a major trophy under his reign it's shameless . He had Alli , Kane , Son , Eriksen : the amazing quartet of Spurs . Lloris between the sticks but still no trophy \n",
            "\n",
            "POCHETINO = PHIL JONES \n",
            "🤣🤣🤣🤣🤣🤣\n",
            "The most flop manager and most flop player 🤣🤣🤣\n",
            " \n",
            "Most repeated word: a\n",
            "Frequency: 8\n"
          ]
        }
      ]
    },
    {
      "cell_type": "markdown",
      "metadata": {
        "id": "LqL8RA0BS0Qi"
      },
      "source": [
        "# Python continues again (5)"
      ]
    },
    {
      "cell_type": "code",
      "execution_count": null,
      "metadata": {
        "colab": {
          "base_uri": "https://localhost:8080/"
        },
        "id": "fnXp4zuqnA9f",
        "outputId": "71693659-4f2a-4899-ca6f-cb5e58d7b7b1"
      },
      "outputs": [
        {
          "name": "stdout",
          "output_type": "stream",
          "text": [
            "yM emaN si asseJ\n"
          ]
        }
      ],
      "source": [
        "def reverseWordSentence(Sentence):\n",
        "  \n",
        "    words = Sentence.split(\" \")\n",
        "  \n",
        "    newWords = [word[::-1] for word in words]\n",
        "    newSentence = \" \".join(newWords)\n",
        "  \n",
        "    return newSentence\n",
        "  \n",
        "\n",
        "Sentence = \"My Name is Jessa\"\n",
        "print(reverseWordSentence(Sentence))"
      ]
    },
    {
      "cell_type": "code",
      "execution_count": null,
      "metadata": {
        "colab": {
          "base_uri": "https://localhost:8080/"
        },
        "id": "d4gtLbpWr4QB",
        "outputId": "8e97c3c6-88e6-433c-df62-c0b48b35dbf3"
      },
      "outputs": [
        {
          "name": "stdout",
          "output_type": "stream",
          "text": [
            "Enter name: Akshit\n",
            "Enter age: 19\n",
            "Akshit at the age of 19 is eligible to vote\n"
          ]
        }
      ],
      "source": [
        "def vote_eligibility(name,age):\n",
        "  if age >= 18:\n",
        "    print(name,\"at the age of\",age,\"is eligible to vote\")\n",
        "  else:\n",
        "    print(name,\"at the age of\",age,\"is eligible to vote\")\n",
        "\n",
        "name = input(\"Enter name: \")\n",
        "age = eval(input(\"Enter age: \"))\n",
        "vote_eligibility(name,age)"
      ]
    },
    {
      "cell_type": "code",
      "execution_count": null,
      "metadata": {
        "colab": {
          "base_uri": "https://localhost:8080/",
          "height": 35
        },
        "id": "Ngsqtux3vlan",
        "outputId": "a04efee9-1790-4306-b169-965af1b873d7"
      },
      "outputs": [
        {
          "data": {
            "application/vnd.google.colaboratory.intrinsic+json": {
              "type": "string"
            },
            "text/plain": [
              "'hellohellohello'"
            ]
          },
          "execution_count": 8,
          "metadata": {},
          "output_type": "execute_result"
        }
      ],
      "source": [
        "'hello'*(5-2)"
      ]
    },
    {
      "cell_type": "code",
      "execution_count": null,
      "metadata": {
        "colab": {
          "base_uri": "https://localhost:8080/"
        },
        "id": "_v6r8qKmweYM",
        "outputId": "3263dc87-df4c-44ad-ab62-ba3bc3e78144"
      },
      "outputs": [
        {
          "data": {
            "text/plain": [
              "-25.0"
            ]
          },
          "execution_count": 9,
          "metadata": {},
          "output_type": "execute_result"
        }
      ],
      "source": [
        "5%10+10-25*8/5"
      ]
    },
    {
      "cell_type": "code",
      "execution_count": null,
      "metadata": {
        "colab": {
          "base_uri": "https://localhost:8080/"
        },
        "id": "JnGv9Zm_w06y",
        "outputId": "8de8da2c-9cfb-4265-87f0-cd31ebf84458"
      },
      "outputs": [
        {
          "data": {
            "text/plain": [
              "False"
            ]
          },
          "execution_count": 12,
          "metadata": {},
          "output_type": "execute_result"
        }
      ],
      "source": [
        "'bye'<'Bye'"
      ]
    },
    {
      "cell_type": "code",
      "execution_count": null,
      "metadata": {
        "colab": {
          "base_uri": "https://localhost:8080/"
        },
        "id": "EC_RUsZczAaE",
        "outputId": "1634c0d2-7c52-4601-8102-d70c4041270d"
      },
      "outputs": [
        {
          "data": {
            "text/plain": [
              "64"
            ]
          },
          "execution_count": 13,
          "metadata": {},
          "output_type": "execute_result"
        }
      ],
      "source": [
        "8<<3"
      ]
    },
    {
      "cell_type": "code",
      "execution_count": null,
      "metadata": {
        "colab": {
          "base_uri": "https://localhost:8080/"
        },
        "id": "BEZnKLN0zxo5",
        "outputId": "7b1d27cd-7a0a-42b9-9abb-16b51c29fbf8"
      },
      "outputs": [
        {
          "name": "stdout",
          "output_type": "stream",
          "text": [
            "{'a', 'd', 'e', 'c', 'b'}\n"
          ]
        }
      ],
      "source": [
        "s = set(['a','b','c','d','e'])\n",
        "v = set(['x','y','z'])\n",
        "\n",
        "print(s.difference(v))"
      ]
    },
    {
      "cell_type": "code",
      "execution_count": null,
      "metadata": {
        "colab": {
          "base_uri": "https://localhost:8080/"
        },
        "id": "VgUa6Ns37OM1",
        "outputId": "ae761b12-dc55-4807-8d2f-963669d52d64"
      },
      "outputs": [
        {
          "name": "stdout",
          "output_type": "stream",
          "text": [
            "[1, 4, 6, 3] , 4\n"
          ]
        }
      ],
      "source": [
        "# Python code to remove duplicate elements\n",
        "def Remove(list):\n",
        "    final_list = []\n",
        "    for num in list:\n",
        "        if num not in final_list:\n",
        "            final_list.append(num)\n",
        "    print(final_list,',',len(final_list))\n",
        "    return\n",
        "     \n",
        "# Driver Code\n",
        "list = [1,4, 6, 1, 3, 1, 6]\n",
        "Remove(list)"
      ]
    },
    {
      "cell_type": "code",
      "execution_count": null,
      "metadata": {
        "colab": {
          "base_uri": "https://localhost:8080/"
        },
        "id": "yBKAl9I-E8uy",
        "outputId": "15c8d7f0-df74-4672-a9fc-f738bbe9dc83"
      },
      "outputs": [
        {
          "name": "stdout",
          "output_type": "stream",
          "text": [
            "enter the number of row for full diamond:5\n",
            "    *\n",
            "   ***\n",
            "  *****\n",
            " *******\n",
            "*********\n",
            " *******\n",
            "  *****\n",
            "   ***\n",
            "    *\n"
          ]
        }
      ],
      "source": [
        "n = int(input(\"enter the number of row for full diamond:\"))\n",
        "for i in range(0,n):\n",
        "    for j in range(0,n-i-1):\n",
        "        print(\" \",end='')\n",
        "    for k in range(0,2*i+1):\n",
        "        print(\"*\",end='')\n",
        "    print()\n",
        "for i in range(n-1,0,-1):\n",
        "    for j in range(n,i,-1):\n",
        "        print(\" \",end='')\n",
        "    for k in range(2*i-1,0,-1):\n",
        "        print(\"*\",end='')\n",
        "    print()"
      ]
    },
    {
      "cell_type": "code",
      "execution_count": null,
      "metadata": {
        "colab": {
          "base_uri": "https://localhost:8080/"
        },
        "id": "yxJ4QwJm3scB",
        "outputId": "cd67ab45-d2ff-4ea6-9a1f-320e3da031bb"
      },
      "outputs": [
        {
          "data": {
            "text/plain": [
              "728344371729975656860074791248528850278976880818963856842269592010472453767168"
            ]
          },
          "execution_count": 2,
          "metadata": {},
          "output_type": "execute_result"
        }
      ],
      "source": [
        "(23**7)*(12**8)*(517**22)"
      ]
    },
    {
      "cell_type": "code",
      "execution_count": null,
      "metadata": {
        "colab": {
          "base_uri": "https://localhost:8080/"
        },
        "id": "2Xdu_jFm5cQT",
        "outputId": "4ca0d169-f64a-49d5-e442-8381363ea4fe"
      },
      "outputs": [
        {
          "data": {
            "text/plain": [
              "22351"
            ]
          },
          "execution_count": 5,
          "metadata": {},
          "output_type": "execute_result"
        }
      ],
      "source": [
        "((16**3)-(15**3))*((16**2)-(15**2))"
      ]
    },
    {
      "cell_type": "code",
      "execution_count": null,
      "metadata": {
        "colab": {
          "base_uri": "https://localhost:8080/"
        },
        "id": "VxxVWCl3A1nD",
        "outputId": "ab908f33-c205-4448-abba-dbf41f672df8"
      },
      "outputs": [
        {
          "name": "stdout",
          "output_type": "stream",
          "text": [
            "Enter the Number:227529\n",
            "root = 477.0\n",
            "227529 is a perfect square\n"
          ]
        }
      ],
      "source": [
        "import math\n",
        "\n",
        "number = int(input(\"Enter the Number:\"))\n",
        "\n",
        "root = math.sqrt(number)\n",
        "print('root =',root)\n",
        "\n",
        "if int(root + 0.5) ** 2 == number:\n",
        "    print(number, \"is a perfect square\")\n",
        "else:\n",
        "    print(number, \"is not a perfect square\")"
      ]
    },
    {
      "cell_type": "code",
      "execution_count": null,
      "metadata": {
        "colab": {
          "base_uri": "https://localhost:8080/"
        },
        "id": "9ERLTNYGIfcP",
        "outputId": "e6fd301f-f758-4a54-c580-65ee45bb2184"
      },
      "outputs": [
        {
          "name": "stdout",
          "output_type": "stream",
          "text": [
            "Enter the Number:426408\n",
            "root = 652.999234302767\n",
            "426408 is not a perfect square\n"
          ]
        }
      ],
      "source": [
        "import math\n",
        "\n",
        "def isPerfectSquare(n):\n",
        " root = math.sqrt(n)\n",
        " print('root =',root)\n",
        " \n",
        " if int(root + 0.5) ** 2 == n:\n",
        "    print(n, \"is a perfect square\" ) \n",
        " else:\n",
        "    print(n, \"is not a perfect square\")\n",
        "\n",
        "n = int(input(\"Enter the Number:\"))\n",
        "isPerfectSquare(n)"
      ]
    },
    {
      "cell_type": "code",
      "execution_count": null,
      "metadata": {
        "colab": {
          "base_uri": "https://localhost:8080/"
        },
        "id": "jOwl4i5-tCh2",
        "outputId": "56761858-ff92-4d22-f7c2-5648a43e2b11"
      },
      "outputs": [
        {
          "output_type": "stream",
          "name": "stdout",
          "text": [
            "0.38636363636363635\n",
            "0.8333333333333334\n",
            "0.6212121212121212\n",
            "0.008333333333333333\n",
            "0.04878048780487805\n"
          ]
        }
      ],
      "source": [
        "a = 17/44\n",
        "b = 5/6\n",
        "c = 41/66\n",
        "d = 1/120\n",
        "e = 2/41\n",
        "print (a)\n",
        "print (b)\n",
        "print (c)\n",
        "print (d)\n",
        "print (e)"
      ]
    },
    {
      "cell_type": "markdown",
      "source": [
        "# Sem 4"
      ],
      "metadata": {
        "id": "VfwywryMjN-K"
      }
    },
    {
      "cell_type": "code",
      "source": [
        "# Cryptography with Caesar Cipher\n",
        "\n",
        "def encrypt_text(plaintext,n):\n",
        "    ans = \"\"\n",
        "\n",
        "    for i in range(len(plaintext)):\n",
        "        ch = plaintext[i]\n",
        "        \n",
        "        if ch == \" \":\n",
        "            ans += \" \"\n",
        "        elif (ch.isupper()):\n",
        "            ans += chr((ord(ch) + n-65) % 26 + 65)\n",
        "        else:\n",
        "            ans += chr((ord(ch) + n-97) % 26 + 97)\n",
        "    \n",
        "    return ans\n",
        "\n",
        "plaintext = input(\"Enter a string: \")\n",
        "n = eval(input(\"Enter a number: \"))\n",
        "print(\"Plain Text is : \" + plaintext)\n",
        "print(\"Shift pattern is : \" + str(n))\n",
        "print(\"Cipher Text is : \" + encrypt_text(plaintext,n))\n",
        "\n",
        "def decrypt_text(ciphertext,k):\n",
        "    ans = \"\"\n",
        "\n",
        "    for i in range(len(ciphertext)):\n",
        "        ch = ciphertext[i]\n",
        "        \n",
        "        if ch == \" \":\n",
        "            ans += \" \"\n",
        "        elif (ch.isupper()):\n",
        "            ans += chr((ord(ch) - k-65) % 26 + 65)\n",
        "        else:\n",
        "            ans += chr((ord(ch) - k-97) % 26 + 97)\n",
        "    \n",
        "    return ans\n",
        "\n",
        "print(\" \")\n",
        "\n",
        "ciphertext = encrypt_text(plaintext,n)\n",
        "k = n \n",
        "print(\"Cipher Text is : \" + ciphertext)\n",
        "print(\"Shift pattern is : \" + str(k))\n",
        "print(\"Plain Text is : \" + decrypt_text(ciphertext,k)) "
      ],
      "metadata": {
        "id": "vghYvxsUjT8Q",
        "colab": {
          "base_uri": "https://localhost:8080/"
        },
        "outputId": "b52ebe88-f0c8-42e8-d235-8fdb51d03e4a"
      },
      "execution_count": null,
      "outputs": [
        {
          "output_type": "stream",
          "name": "stdout",
          "text": [
            "Enter a string: the house is being sold tonight\n",
            "Enter a number: 25\n",
            "Plain Text is : the house is being sold tonight\n",
            "Shift pattern is : 25\n",
            "Cipher Text is : sgd gntrd hr adhmf rnkc snmhfgs\n",
            " \n",
            "Cipher Text is : sgd gntrd hr adhmf rnkc snmhfgs\n",
            "Shift pattern is : 25\n",
            "Plain Text is : the house is being sold tonight\n"
          ]
        }
      ]
    },
    {
      "cell_type": "code",
      "source": [
        "print(\" \")\n",
        "\n",
        "plaintext1 = input(\"Enter a string: \")\n",
        "n1 = eval(input(\"Enter a number: \"))\n",
        "print(\"Plain Text is : \" + plaintext1)\n",
        "print(\"Shift pattern is : \" + str(n1))\n",
        "print(\"Cipher Text is : \" + encrypt_text(plaintext1,n1))\n",
        "\n",
        "print(\" \")\n",
        "\n",
        "plaintext2 = input(\"Enter a string: \")\n",
        "n2 = eval(input(\"Enter a number: \"))\n",
        "print(\"Plain Text is : \" + plaintext2)\n",
        "print(\"Shift pattern is : \" + str(n2))\n",
        "print(\"Cipher Text is : \" + encrypt_text(plaintext2,n2))\n",
        "\n",
        "print(\" \")\n",
        "\n",
        "plaintext3 = input(\"Enter a string: \")\n",
        "n3 = eval(input(\"Enter a number: \"))\n",
        "print(\"Plain Text is : \" + plaintext3)\n",
        "print(\"Shift pattern is : \" + str(n3))\n",
        "print(\"Cipher Text is : \" + encrypt_text(plaintext3,n3))\n",
        "\n",
        "print(\" \")\n",
        "\n",
        "ciphertext1 = encrypt_text(plaintext1,n1)\n",
        "k1 = n1 \n",
        "print(\"Cipher Text is : \" + ciphertext1)\n",
        "print(\"Shift pattern is : \" + str(k1))\n",
        "print(\"Plain Text is : \" + decrypt_text(ciphertext1,k1))\n",
        "\n",
        "print(\" \")\n",
        "\n",
        "ciphertext2 = encrypt_text(plaintext2,n2)\n",
        "k2 = n2 \n",
        "print(\"Cipher Text is : \" + ciphertext2)\n",
        "print(\"Shift pattern is : \" + str(k2))\n",
        "print(\"Plain Text is : \" + decrypt_text(ciphertext2,k2))\n",
        "\n",
        "print(\" \")\n",
        "\n",
        "ciphertext3 = encrypt_text(plaintext3,n3)\n",
        "k3 = n3\n",
        "print(\"Cipher Text is : \" + ciphertext3)\n",
        "print(\"Shift pattern is : \" + str(k3))\n",
        "print(\"Plain Text is : \" + decrypt_text(ciphertext3,k3)) "
      ],
      "metadata": {
        "id": "9sfBbd8QMP83"
      },
      "execution_count": null,
      "outputs": []
    },
    {
      "cell_type": "code",
      "source": [
        "# Brute Force Approach to Break Caesar Cipher\n",
        "\n",
        "message = input(\"Enter a string: \").upper() \n",
        "letters = 'ABCDEFGHIJKLMNOPQRSTUVWXYZ' \n",
        "\n",
        "for key in range(len(letters)):\n",
        "   translated = ''\n",
        "   for ch in message:\n",
        "      if ch in letters:\n",
        "         num = letters.find(ch)\n",
        "         num = num - key\n",
        "         if num < 0:\n",
        "            num = num + len(letters)\n",
        "         translated = translated + letters[num]\n",
        "      else:\n",
        "         translated = translated + ch\n",
        "   print('Hacking key is %s: %s' % (key, translated))\n",
        "\n",
        "print(\" \")\n",
        "\n",
        "message1 = input(\"Enter a string: \").lower()\n",
        "letters1 = 'abcdefghijklmnopqrstuvwxyz'\n",
        "\n",
        "for key in range(len(letters1)):\n",
        "   translated = ''\n",
        "   for ch in message1:\n",
        "      if ch in letters1:\n",
        "         num = letters1.find(ch)\n",
        "         num = num - key\n",
        "         if num < 0:\n",
        "            num = num + len(letters1)\n",
        "         translated = translated + letters1[num]\n",
        "      else:\n",
        "         translated = translated + ch\n",
        "   print('Hacking key is %s: %s' % (key, translated)) "
      ],
      "metadata": {
        "colab": {
          "base_uri": "https://localhost:8080/"
        },
        "id": "9TxsqO9hwExg",
        "outputId": "e1d75176-38d3-467b-ac46-6eff6f88ac13"
      },
      "execution_count": null,
      "outputs": [
        {
          "output_type": "stream",
          "name": "stdout",
          "text": [
            "Enter a string: UVACLYFZLJBYL\n",
            "Hacking key is 0: UVACLYFZLJBYL\n",
            "Hacking key is 1: TUZBKXEYKIAXK\n",
            "Hacking key is 2: STYAJWDXJHZWJ\n",
            "Hacking key is 3: RSXZIVCWIGYVI\n",
            "Hacking key is 4: QRWYHUBVHFXUH\n",
            "Hacking key is 5: PQVXGTAUGEWTG\n",
            "Hacking key is 6: OPUWFSZTFDVSF\n",
            "Hacking key is 7: NOTVERYSECURE\n",
            "Hacking key is 8: MNSUDQXRDBTQD\n",
            "Hacking key is 9: LMRTCPWQCASPC\n",
            "Hacking key is 10: KLQSBOVPBZROB\n",
            "Hacking key is 11: JKPRANUOAYQNA\n",
            "Hacking key is 12: IJOQZMTNZXPMZ\n",
            "Hacking key is 13: HINPYLSMYWOLY\n",
            "Hacking key is 14: GHMOXKRLXVNKX\n",
            "Hacking key is 15: FGLNWJQKWUMJW\n",
            "Hacking key is 16: EFKMVIPJVTLIV\n",
            "Hacking key is 17: DEJLUHOIUSKHU\n",
            "Hacking key is 18: CDIKTGNHTRJGT\n",
            "Hacking key is 19: BCHJSFMGSQIFS\n",
            "Hacking key is 20: ABGIRELFRPHER\n",
            "Hacking key is 21: ZAFHQDKEQOGDQ\n",
            "Hacking key is 22: YZEGPCJDPNFCP\n",
            "Hacking key is 23: XYDFOBICOMEBO\n",
            "Hacking key is 24: WXCENAHBNLDAN\n",
            "Hacking key is 25: VWBDMZGAMKCZM\n",
            " \n",
            "Enter a string: wtaad\n",
            "Hacking key is 0: wtaad\n",
            "Hacking key is 1: vszzc\n",
            "Hacking key is 2: uryyb\n",
            "Hacking key is 3: tqxxa\n",
            "Hacking key is 4: spwwz\n",
            "Hacking key is 5: rovvy\n",
            "Hacking key is 6: qnuux\n",
            "Hacking key is 7: pmttw\n",
            "Hacking key is 8: olssv\n",
            "Hacking key is 9: nkrru\n",
            "Hacking key is 10: mjqqt\n",
            "Hacking key is 11: lipps\n",
            "Hacking key is 12: khoor\n",
            "Hacking key is 13: jgnnq\n",
            "Hacking key is 14: ifmmp\n",
            "Hacking key is 15: hello\n",
            "Hacking key is 16: gdkkn\n",
            "Hacking key is 17: fcjjm\n",
            "Hacking key is 18: ebiil\n",
            "Hacking key is 19: dahhk\n",
            "Hacking key is 20: czggj\n",
            "Hacking key is 21: byffi\n",
            "Hacking key is 22: axeeh\n",
            "Hacking key is 23: zwddg\n",
            "Hacking key is 24: yvccf\n",
            "Hacking key is 25: xubbe\n"
          ]
        }
      ]
    },
    {
      "cell_type": "code",
      "source": [
        "# Brute Force Approach to Break Caesar Cipher\n",
        "\n",
        "message = input(\"Enter a string: \").upper() \n",
        "letters = 'ABCDEFGHIJKLMNOPQRSTUVWXYZ' \n",
        "\n",
        "for key in range(len(letters)):\n",
        "   translated = ''\n",
        "   for ch in message:\n",
        "      if ch in letters:\n",
        "         num = letters.find(ch)\n",
        "         num = num - key\n",
        "         if num < 0:\n",
        "            num = num + len(letters)\n",
        "         translated = translated + letters[num]\n",
        "      else:\n",
        "         translated = translated + ch\n",
        "   print('Hacking key is %s: %s' % (key, translated))\n",
        "\n",
        "print(\" \")\n",
        "\n",
        "message1 = input(\"Enter a string: \").lower()\n",
        "letters1 = 'abcdefghijklmnopqrstuvwxyz'\n",
        "\n",
        "for key in range(len(letters1)):\n",
        "   translated = ''\n",
        "   for ch in message1:\n",
        "      if ch in letters1:\n",
        "         num = letters1.find(ch)\n",
        "         num = num - key\n",
        "         if num < 0:\n",
        "            num = num + len(letters1)\n",
        "         translated = translated + letters1[num]\n",
        "      else:\n",
        "         translated = translated + ch\n",
        "   print('Hacking key is %s: %s' % (key, translated)) "
      ],
      "metadata": {
        "id": "YuAI4M9OlcSO"
      },
      "execution_count": null,
      "outputs": []
    },
    {
      "cell_type": "code",
      "source": [
        "# Multiplacative Cipher\n",
        "\n",
        "from sympy import mod_inverse\n",
        "import math\n",
        "import sys\n",
        "\n",
        "def multiplicative_cypher(text,mode,key):\n",
        "    char_dict={}\n",
        "    cipher_message = ''\n",
        "    for i in range(26):\n",
        "         char_dict[chr(ord('a') + i)]=i\n",
        "    key_list=list(char_dict.keys())\n",
        "    inv_char_dict = dict(zip(char_dict.values(),char_dict.keys()))\n",
        "    \n",
        "    if mode == 'encrypt':\n",
        "        if math.gcd(26,key) == 1:\n",
        "            for char in text:\n",
        "                if char in key_list:\n",
        "                    new_index=(char_dict[char]*key)%26\n",
        "                    cipher_message=cipher_message+inv_char_dict[new_index]\n",
        "                else:\n",
        "                    cipher_message=cipher_message+char\n",
        "        else:\n",
        "            print('invalid key selected')\n",
        "            print(\"For a given alphabet, there are only a few possible keys.\")\n",
        "            print(\"The 26-letter Latin alphabet allows only 11 keys:\")\n",
        "            print(\"3 , 5 , 7 , 9 , 11 , 15 , 17 , 19 , 21 , 23 and 25 (these are coprime numbers with 26).\")\n",
        "            sys.exit() \n",
        "        return cipher_message         \n",
        "        \n",
        "    elif mode == 'decrypt':\n",
        "        mult_inv=mod_inverse(key,26)\n",
        "        for char in text:\n",
        "            if char in key_list:\n",
        "                new_index=(char_dict[char]*mult_inv)%26\n",
        "                cipher_message=cipher_message+inv_char_dict[new_index]\n",
        "            else:\n",
        "                cipher_message=cipher_message+char\n",
        "    \n",
        "        return cipher_message\n",
        "\n",
        "    else:\n",
        "      print(\"Pls read instructions carefully\")\n",
        "      sys.exit()\n",
        "\n",
        "\n",
        "message = input(\"Enter string: \")\n",
        "command = input(\"Enter: \")\n",
        "key = eval(input(\"Enter a number: \")) \n",
        "encrypt_message = multiplicative_cypher(message,command,key)\n",
        "print(\"Cipher Text: \",encrypt_message)\n",
        "opp_command = input(\"Enter: \")\n",
        "dencrypt_message = multiplicative_cypher(encrypt_message,opp_command,key)\n",
        "print(\"Plain Text: \",dencrypt_message)\n",
        "\n",
        "print(\" \")\n",
        "\n",
        "message1 = input(\"Enter string: \")\n",
        "command1 = input(\"Enter: \")\n",
        "key1 = eval(input(\"Enter a number: \")) \n",
        "encrypt_message1 = multiplicative_cypher(message1,command1,key1)\n",
        "print(\"Cipher Text: \",encrypt_message1)\n",
        "opp_command1 = input(\"Enter: \")\n",
        "dencrypt_message1 = multiplicative_cypher(encrypt_message1,opp_command1,key1)\n",
        "print(\"Plain Text: \",dencrypt_message1) "
      ],
      "metadata": {
        "id": "G8GD6MRXJBBt",
        "colab": {
          "base_uri": "https://localhost:8080/"
        },
        "outputId": "a28b67e2-3124-4fd3-e69c-60005821619b"
      },
      "execution_count": null,
      "outputs": [
        {
          "output_type": "stream",
          "name": "stdout",
          "text": [
            "Enter string: akshit\n",
            "Enter: encrypt\n",
            "Enter a number: 11\n",
            "Cipher Text:  agqzkb\n",
            "Enter: decrypt\n",
            "Plain Text:  akshit\n",
            " \n",
            "Enter string: pressure\n",
            "Enter: encrypt\n",
            "Enter a number: 25\n",
            "Cipher Text:  ljwiigjw\n",
            "Enter: decrypt\n",
            "Plain Text:  pressure\n"
          ]
        }
      ]
    },
    {
      "cell_type": "code",
      "source": [
        "# Rail Fence Cipher\n",
        "\n",
        "def encryptRailFence(text, key):\n",
        " \n",
        "    rail = [['\\n' for i in range(len(text))]\n",
        "                  for j in range(key)]\n",
        "     \n",
        "    dir_down = False\n",
        "    row, col = 0, 0\n",
        "     \n",
        "    for i in range(len(text)):\n",
        "         \n",
        "        if (row == 0) or (row == key - 1):\n",
        "            dir_down = not dir_down\n",
        "         \n",
        "        rail[row][col] = text[i] \n",
        "        col += 1\n",
        "         \n",
        "        if dir_down:\n",
        "            row += 1\n",
        "        else:\n",
        "            row -= 1\n",
        "\n",
        "    result = []\n",
        "    for i in range(key):\n",
        "        for j in range(len(text)):\n",
        "            if rail[i][j] != '\\n':\n",
        "                result.append(rail[i][j])\n",
        "    return(\"\" . join(result))\n",
        "     \n",
        "def decryptRailFence(cipher, key):\n",
        " \n",
        "    rail = [['\\n' for i in range(len(cipher))]\n",
        "                  for j in range(key)]\n",
        "     \n",
        "    dir_down = None\n",
        "    row, col = 0, 0\n",
        "     \n",
        "    for i in range(len(cipher)):\n",
        "        if row == 0:\n",
        "            dir_down = True\n",
        "        if row == key - 1:\n",
        "            dir_down = False\n",
        "         \n",
        "        rail[row][col] = '*'\n",
        "        col += 1\n",
        "         \n",
        "        if dir_down:\n",
        "            row += 1\n",
        "        else:\n",
        "            row -= 1\n",
        "             \n",
        "    index = 0\n",
        "    for i in range(key):\n",
        "        for j in range(len(cipher)):\n",
        "            if ((rail[i][j] == '*') and\n",
        "               (index < len(cipher))):\n",
        "                rail[i][j] = cipher[index]\n",
        "                index += 1\n",
        "         \n",
        "    result = []\n",
        "    row, col = 0, 0\n",
        "    for i in range(len(cipher)):\n",
        "         \n",
        "        if row == 0:\n",
        "            dir_down = True\n",
        "        if row == key-1:\n",
        "            dir_down = False\n",
        "             \n",
        "        if (rail[row][col] != '*'):\n",
        "            result.append(rail[row][col])\n",
        "            col += 1\n",
        "        \n",
        "        if dir_down:\n",
        "            row += 1\n",
        "        else:\n",
        "            row -= 1\n",
        "    return(\"\".join(result))\n",
        "\n",
        "message = input(\"Enter string: \")\n",
        "key = eval(input(\"Enter a number: \")) \n",
        "encrypt_message = encryptRailFence(message,key)\n",
        "print(\"Cipher Text: \",encrypt_message)\n",
        "dencrypt_message = decryptRailFence(encrypt_message,key)\n",
        "print(\"Plain Text: \",dencrypt_message)\n",
        "\n",
        "print(\" \")\n",
        "\n",
        "message1 = input(\"Enter string: \")\n",
        "key1 = eval(input(\"Enter a number: \")) \n",
        "encrypt_message1 = encryptRailFence(message1,key1)\n",
        "print(\"Cipher Text: \",encrypt_message1)\n",
        "dencrypt_message1 = decryptRailFence(encrypt_message1,key1)\n",
        "print(\"Plain Text: \",dencrypt_message1) "
      ],
      "metadata": {
        "colab": {
          "base_uri": "https://localhost:8080/"
        },
        "id": "CwMml91PVbWh",
        "outputId": "c9695c29-12ea-40e9-fbed-2b6dba357fab"
      },
      "execution_count": null,
      "outputs": [
        {
          "output_type": "stream",
          "name": "stdout",
          "text": [
            "Enter string: Akshit\n",
            "Enter a number: 2\n",
            "Cipher Text:  Asikht\n",
            "Plain Text:  Akshit\n",
            " \n",
            "Enter string: manchanda\n",
            "Enter a number: 4\n",
            "Cipher Text:  mnaadnhac\n",
            "Plain Text:  manchanda\n"
          ]
        }
      ]
    },
    {
      "cell_type": "code",
      "source": [
        "# Columnar Cipher with key\n",
        "\n",
        "import math\n",
        "  \n",
        "key = input(\"Enter key: \")\n",
        "  \n",
        "# Encryption\n",
        "def encryptMessage(msg):\n",
        "    cipher = \"\"\n",
        "  \n",
        "    k_indx = 0\n",
        "  \n",
        "    msg_len = float(len(msg))\n",
        "    msg_lst = list(msg)\n",
        "    key_lst = sorted(list(key))\n",
        "  \n",
        "    col = len(key)\n",
        "      \n",
        "    row = int(math.ceil(msg_len / col))\n",
        "  \n",
        "    # add the padding character '_' in empty\n",
        "    # the empty cell of the matix \n",
        "    fill_null = int((row * col) - msg_len)\n",
        "    msg_lst.extend('_' * fill_null)\n",
        "   \n",
        "    matrix = [msg_lst[i: i + col] \n",
        "              for i in range(0, len(msg_lst), col)]\n",
        "  \n",
        "    for _ in range(col):\n",
        "        curr_idx = key.index(key_lst[k_indx])\n",
        "        cipher += ''.join([row[curr_idx] \n",
        "                          for row in matrix])\n",
        "        k_indx += 1\n",
        "  \n",
        "    return cipher\n",
        "  \n",
        "# Decryption\n",
        "def decryptMessage(cipher):\n",
        "    msg = \"\"\n",
        "  \n",
        "    k_indx = 0\n",
        "    msg_indx = 0\n",
        "    msg_len = float(len(cipher))\n",
        "    msg_lst = list(cipher)\n",
        "  \n",
        "    col = len(key)\n",
        "      \n",
        "    row = int(math.ceil(msg_len / col))\n",
        "  \n",
        "    key_lst = sorted(list(key))\n",
        "  \n",
        "    dec_cipher = []\n",
        "    for _ in range(row):\n",
        "        dec_cipher += [[None] * col]\n",
        "  \n",
        "    for _ in range(col):\n",
        "        curr_idx = key.index(key_lst[k_indx])\n",
        "  \n",
        "        for j in range(row):\n",
        "            dec_cipher[j][curr_idx] = msg_lst[msg_indx]\n",
        "            msg_indx += 1\n",
        "        k_indx += 1\n",
        "  \n",
        "    # convert decrypted msg matrix into a string\n",
        "    try:\n",
        "        msg = ''.join(sum(dec_cipher, []))\n",
        "    except TypeError:\n",
        "        raise TypeError(\"This program cannot\",\n",
        "                        \"handle repeating words.\")\n",
        "  \n",
        "    null_count = msg.count('_')\n",
        "  \n",
        "    if null_count > 0:\n",
        "        return msg[: -null_count]\n",
        "  \n",
        "    return msg\n",
        "\n",
        "\n",
        "msg = input(\"Enter string: \")\n",
        "  \n",
        "cipher = encryptMessage(msg)\n",
        "print(\"Encrypted Message: {}\".\n",
        "               format(cipher))\n",
        "  \n",
        "print(\"Decryped Message: {}\".\n",
        "       format(decryptMessage(cipher))) "
      ],
      "metadata": {
        "colab": {
          "base_uri": "https://localhost:8080/"
        },
        "id": "yL7IUvz5LYzU",
        "outputId": "a069df86-d8ec-4fee-8dcb-310884514bc0"
      },
      "execution_count": null,
      "outputs": [
        {
          "output_type": "stream",
          "name": "stdout",
          "text": [
            "Enter key: Akshit\n",
            "Enter string: Manchanda\n",
            "Encrypted Message: Mnc_h_adnaa_\n",
            "Decryped Message: Manchanda\n"
          ]
        }
      ]
    },
    {
      "cell_type": "code",
      "source": [
        "def toLowerCase(text):\n",
        "    return text.lower()\n",
        " \n",
        "# Function to remove all spaces in a string\n",
        " \n",
        " \n",
        "def removeSpaces(text):\n",
        "    newText = \"\"\n",
        "    for i in text:\n",
        "        if i == \" \":\n",
        "            continue\n",
        "        else:\n",
        "            newText = newText + i\n",
        "    return newText\n",
        " \n",
        "# Function to group 2 elements of a string\n",
        "# as a list element\n",
        " \n",
        " \n",
        "def Diagraph(text):\n",
        "    Diagraph = []\n",
        "    group = 0\n",
        "    for i in range(2, len(text), 2):\n",
        "        Diagraph.append(text[group:i])\n",
        " \n",
        "        group = i\n",
        "    Diagraph.append(text[group:])\n",
        "    return Diagraph\n",
        " \n",
        "# Function to fill a letter in a string element\n",
        "# If 2 letters in the same string matches\n",
        " \n",
        " \n",
        "def FillerLetter(text):\n",
        "    k = len(text)\n",
        "    if k % 2 == 0:\n",
        "        for i in range(0, k, 2):\n",
        "            if text[i] == text[i+1]:\n",
        "                new_word = text[0:i+1] + str('x') + text[i+1:]\n",
        "                new_word = FillerLetter(new_word)\n",
        "                break\n",
        "            else:\n",
        "                new_word = text\n",
        "    else:\n",
        "        for i in range(0, k-1, 2):\n",
        "            if text[i] == text[i+1]:\n",
        "                new_word = text[0:i+1] + str('x') + text[i+1:]\n",
        "                new_word = FillerLetter(new_word)\n",
        "                break\n",
        "            else:\n",
        "                new_word = text\n",
        "    return new_word\n",
        " \n",
        " \n",
        "list1 = ['a', 'b', 'c', 'd', 'e', 'f', 'g', 'h', 'i', 'k', 'l', 'm',\n",
        "         'n', 'o', 'p', 'q', 'r', 's', 't', 'u', 'v', 'w', 'x', 'y', 'z']\n",
        " \n",
        "# Function to generate the 5x5 key square matrix\n",
        " \n",
        " \n",
        "def generateKeyTable(word, list1):\n",
        "    key_letters = []\n",
        "    for i in word:\n",
        "        if i not in key_letters:\n",
        "            key_letters.append(i)\n",
        " \n",
        "    compElements = []\n",
        "    for i in key_letters:\n",
        "        if i not in compElements:\n",
        "            compElements.append(i)\n",
        "    for i in list1:\n",
        "        if i not in compElements:\n",
        "            compElements.append(i)\n",
        " \n",
        "    matrix = []\n",
        "    while compElements != []:\n",
        "        matrix.append(compElements[:5])\n",
        "        compElements = compElements[5:]\n",
        " \n",
        "    return matrix\n",
        " \n",
        " \n",
        "def search(mat, element):\n",
        "    for i in range(5):\n",
        "        for j in range(5):\n",
        "            if(mat[i][j] == element):\n",
        "                return i, j\n",
        " \n",
        " \n",
        "def encrypt_RowRule(matr, e1r, e1c, e2r, e2c):\n",
        "    char1 = ''\n",
        "    if e1c == 4:\n",
        "        char1 = matr[e1r][0]\n",
        "    else:\n",
        "        char1 = matr[e1r][e1c+1]\n",
        " \n",
        "    char2 = ''\n",
        "    if e2c == 4:\n",
        "        char2 = matr[e2r][0]\n",
        "    else:\n",
        "        char2 = matr[e2r][e2c+1]\n",
        " \n",
        "    return char1, char2\n",
        " \n",
        " \n",
        "def encrypt_ColumnRule(matr, e1r, e1c, e2r, e2c):\n",
        "    char1 = ''\n",
        "    if e1r == 4:\n",
        "        char1 = matr[0][e1c]\n",
        "    else:\n",
        "        char1 = matr[e1r+1][e1c]\n",
        " \n",
        "    char2 = ''\n",
        "    if e2r == 4:\n",
        "        char2 = matr[0][e2c]\n",
        "    else:\n",
        "        char2 = matr[e2r+1][e2c]\n",
        " \n",
        "    return char1, char2\n",
        " \n",
        " \n",
        "def encrypt_RectangleRule(matr, e1r, e1c, e2r, e2c):\n",
        "    char1 = ''\n",
        "    char1 = matr[e1r][e2c]\n",
        " \n",
        "    char2 = ''\n",
        "    char2 = matr[e2r][e1c]\n",
        " \n",
        "    return char1, char2\n",
        " \n",
        " \n",
        "def encryptByPlayfairCipher(Matrix, plainList):\n",
        "    CipherText = []\n",
        "    for i in range(0, len(plainList)):\n",
        "        c1 = 0\n",
        "        c2 = 0\n",
        "        ele1_x, ele1_y = search(Matrix, plainList[i][0])\n",
        "        ele2_x, ele2_y = search(Matrix, plainList[i][1])\n",
        " \n",
        "        if ele1_x == ele2_x:\n",
        "            c1, c2 = encrypt_RowRule(Matrix, ele1_x, ele1_y, ele2_x, ele2_y)\n",
        "            # Get 2 letter cipherText\n",
        "        elif ele1_y == ele2_y:\n",
        "            c1, c2 = encrypt_ColumnRule(Matrix, ele1_x, ele1_y, ele2_x, ele2_y)\n",
        "        else:\n",
        "            c1, c2 = encrypt_RectangleRule(\n",
        "                Matrix, ele1_x, ele1_y, ele2_x, ele2_y)\n",
        " \n",
        "        cipher = c1 + c2\n",
        "        CipherText.append(cipher)\n",
        "    return CipherText\n",
        " \n",
        " \n",
        "text_Plain = 'instruments'\n",
        "text_Plain = removeSpaces(toLowerCase(text_Plain))\n",
        "PlainTextList = Diagraph(FillerLetter(text_Plain))\n",
        "if len(PlainTextList[-1]) != 2:\n",
        "    PlainTextList[-1] = PlainTextList[-1]+'z'\n",
        " \n",
        "key = \"Monarchy\"\n",
        "print(\"Key text:\", key)\n",
        "key = toLowerCase(key)\n",
        "Matrix = generateKeyTable(key, list1)\n",
        " \n",
        "print(\"Plain Text:\", text_Plain)\n",
        "CipherList = encryptByPlayfairCipher(Matrix, PlainTextList)\n",
        " \n",
        "CipherText = \"\"\n",
        "for i in CipherList:\n",
        "    CipherText += i\n",
        "print(\"CipherText:\", CipherText)"
      ],
      "metadata": {
        "colab": {
          "base_uri": "https://localhost:8080/"
        },
        "id": "a6r0aAKOEyFf",
        "outputId": "22bcf64d-aaee-4ce8-b00a-85a3edee8aa1"
      },
      "execution_count": null,
      "outputs": [
        {
          "output_type": "stream",
          "name": "stdout",
          "text": [
            "Key text: Monarchy\n",
            "Plain Text: instruments\n",
            "CipherText: gatlmzclrqtx\n"
          ]
        }
      ]
    },
    {
      "cell_type": "code",
      "source": [
        "from random import *\n",
        "\n",
        "user_pass = input(\"Enter your password: \")\n",
        "\n",
        "password = ['a','b','c','d','e','f','g','h','i','j','k','l','m',\n",
        "            'n','o','p','q','r','s','t','u','v','w','x','y','z']\n",
        "\n",
        "guess = \"\"\n",
        "\n",
        "while (guess != user_pass):\n",
        "  guess = \"\"\n",
        "\n",
        "  for letter in range(len(user_pass)):\n",
        "    guess_letter = password[randint(0,25)]\n",
        "    guess = str(guess_letter) + str(guess)\n",
        "  print(guess)\n",
        "\n",
        "print(\"Your password\")"
      ],
      "metadata": {
        "id": "ufgLQjXGzdW_"
      },
      "execution_count": null,
      "outputs": []
    }
  ],
  "metadata": {
    "colab": {
      "provenance": [],
      "include_colab_link": true
    },
    "kernelspec": {
      "display_name": "Python 3",
      "name": "python3"
    },
    "language_info": {
      "name": "python"
    }
  },
  "nbformat": 4,
  "nbformat_minor": 0
}